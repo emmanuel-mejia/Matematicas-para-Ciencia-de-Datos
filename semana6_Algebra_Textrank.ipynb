{
  "nbformat": 4,
  "nbformat_minor": 0,
  "metadata": {
    "colab": {
      "name": "semana6_Algebra_Textrank.ipynb",
      "provenance": [],
      "collapsed_sections": [],
      "include_colab_link": true
    },
    "kernelspec": {
      "name": "python3",
      "display_name": "Python 3"
    },
    "language_info": {
      "name": "python"
    }
  },
  "cells": [
    {
      "cell_type": "markdown",
      "metadata": {
        "id": "view-in-github",
        "colab_type": "text"
      },
      "source": [
        "<a href=\"https://colab.research.google.com/github/emmanuel-mejia/Matematicas-para-Ciencia-de-Datos/blob/main/semana6_Algebra_Textrank.ipynb\" target=\"_parent\"><img src=\"https://colab.research.google.com/assets/colab-badge.svg\" alt=\"Open In Colab\"/></a>"
      ]
    },
    {
      "cell_type": "markdown",
      "metadata": {
        "id": "ccYq5VAqlz-T"
      },
      "source": [
        "## Implementación de TextRank para la obtención de resúmenes"
      ]
    },
    {
      "cell_type": "markdown",
      "metadata": {
        "id": "QkXRhT3nlsuC"
      },
      "source": [
        "En este Notebook se implementará TextRank para obtener un resumen con las oraciones clave de todo un texto."
      ]
    },
    {
      "cell_type": "markdown",
      "metadata": {
        "id": "CDdVl3jFU6pW"
      },
      "source": [
        "# Dependencias"
      ]
    },
    {
      "cell_type": "code",
      "metadata": {
        "id": "m5panRZIU04F"
      },
      "source": [
        "%%capture\n",
        "!pip install wikipedia git+https://github.com/neuml/txtai#egg=txtai[pipeline]"
      ],
      "execution_count": 1,
      "outputs": []
    },
    {
      "cell_type": "code",
      "source": [
        "# PUEDE ser necesario utilizar una versión anterior de pillow\n",
        "!pip install Pillow==9.0.0"
      ],
      "metadata": {
        "id": "Lgm_83kCa_LO",
        "colab": {
          "base_uri": "https://localhost:8080/",
          "height": 264
        },
        "outputId": "3dc40342-b249-4f5d-dc00-f0863abf22cf"
      },
      "execution_count": 2,
      "outputs": [
        {
          "output_type": "stream",
          "name": "stdout",
          "text": [
            "Collecting Pillow==9.0.0\n",
            "  Using cached Pillow-9.0.0-cp37-cp37m-manylinux_2_17_x86_64.manylinux2014_x86_64.whl (4.3 MB)\n",
            "Installing collected packages: Pillow\n",
            "  Attempting uninstall: Pillow\n",
            "    Found existing installation: Pillow 9.1.0\n",
            "    Uninstalling Pillow-9.1.0:\n",
            "      Successfully uninstalled Pillow-9.1.0\n",
            "\u001b[31mERROR: pip's dependency resolver does not currently take into account all the packages that are installed. This behaviour is the source of the following dependency conflicts.\n",
            "albumentations 0.1.12 requires imgaug<0.2.7,>=0.2.5, but you have imgaug 0.2.9 which is incompatible.\u001b[0m\n",
            "Successfully installed Pillow-9.0.0\n"
          ]
        },
        {
          "output_type": "display_data",
          "data": {
            "application/vnd.colab-display-data+json": {
              "pip_warning": {
                "packages": [
                  "PIL"
                ]
              }
            }
          },
          "metadata": {}
        }
      ]
    },
    {
      "cell_type": "code",
      "metadata": {
        "id": "S_urJE6MrUmm"
      },
      "source": [
        "import re\n",
        "\n",
        "import pandas as pd\n",
        "import numpy as np\n",
        "import scipy.linalg as splinalg\n",
        "\n",
        "import nltk\n",
        "from nltk.tokenize import sent_tokenize, word_tokenize\n",
        "from nltk.corpus import stopwords\n",
        "from nltk.stem import PorterStemmer\n",
        "\n",
        "import wikipedia\n",
        "\n",
        "from txtai.pipeline import Translation"
      ],
      "execution_count": 1,
      "outputs": []
    },
    {
      "cell_type": "code",
      "metadata": {
        "id": "UxckIS4y1EMR",
        "colab": {
          "base_uri": "https://localhost:8080/"
        },
        "outputId": "65bb4872-8bc7-4a44-a765-f11d1c97a708"
      },
      "source": [
        "nltk.download(\"punkt\")\n",
        "nltk.download('stopwords')"
      ],
      "execution_count": 2,
      "outputs": [
        {
          "output_type": "stream",
          "name": "stderr",
          "text": [
            "[nltk_data] Downloading package punkt to /root/nltk_data...\n",
            "[nltk_data]   Unzipping tokenizers/punkt.zip.\n",
            "[nltk_data] Downloading package stopwords to /root/nltk_data...\n",
            "[nltk_data]   Unzipping corpora/stopwords.zip.\n"
          ]
        },
        {
          "output_type": "execute_result",
          "data": {
            "text/plain": [
              "True"
            ]
          },
          "metadata": {},
          "execution_count": 2
        }
      ]
    },
    {
      "cell_type": "code",
      "metadata": {
        "id": "Ov9GnghY7iv1"
      },
      "source": [
        "# Radicalizador\n",
        "stemmer = PorterStemmer()\n",
        "\n",
        "# Palabras de paro\n",
        "cached_stopwords = stopwords.words('english')\n",
        "cached_stopwords[:10]\n",
        "\n",
        "# Traductor\n",
        "translate = Translation()"
      ],
      "execution_count": 3,
      "outputs": []
    },
    {
      "cell_type": "markdown",
      "metadata": {
        "id": "WyYn_meLU_SE"
      },
      "source": [
        "# Datos"
      ]
    },
    {
      "cell_type": "markdown",
      "metadata": {
        "id": "rxh6OST4lp95"
      },
      "source": [
        "Los datos que ocuparemos serán el texto de páginas de Wikipedia. Descargaremos el texto ocupando el módulo [```wikipedia```](https://pypi.org/project/wikipedia/) que es un \"wrapper\" del API de Wikipedia. A este texto lo dividiremos en oraciones, procesaremos cada oración, radicalizaremos cada palabra, y aplicaremos TextRank para obtener las oraciones más importantes de todo el documento."
      ]
    },
    {
      "cell_type": "markdown",
      "metadata": {
        "id": "qpg8u735nGUj"
      },
      "source": [
        "## Lectura de los datos"
      ]
    },
    {
      "cell_type": "markdown",
      "metadata": {
        "id": "ADUkdhJmnQK0"
      },
      "source": [
        "Descargamos un artículos de Wikipedia."
      ]
    },
    {
      "cell_type": "code",
      "metadata": {
        "id": "JXH8g08gSHAO",
        "colab": {
          "base_uri": "https://localhost:8080/"
        },
        "outputId": "262699f6-e6bd-484f-a7ce-8ba36b320761"
      },
      "source": [
        "wiki = wikipedia.page('Expropiación del petróleo en México')\n",
        "book = wiki.content\n",
        "print(book)"
      ],
      "execution_count": 4,
      "outputs": [
        {
          "output_type": "stream",
          "name": "stdout",
          "text": [
            "The Mexican oil expropriation (Spanish: expropiación petrolera) was the nationalization of all petroleum reserves, facilities, and foreign oil companies in Mexico on March 18, 1938.  In accordance with Article 27 of the Constitution of 1917, President Lázaro Cárdenas declared that all mineral and oil reserves found within Mexico belong to \"the nation\", i.e., the federal government. The Mexican government established a state-owned petroleum company, Petróleos Mexicanos, or PEMEX.  For a short period, this measure caused an international boycott of Mexican products in the following years, especially by the United States, the United Kingdom, and the Netherlands, but with the outbreak of World War II and the alliance between Mexico and the Allies, the disputes with private companies over compensation were resolved. The anniversary, March 18, is now a Mexican civic holiday.\n",
            "\n",
            "\n",
            "== Background ==\n",
            "\n",
            "On August 16, 1935, the Petroleum Workers Union of Mexico (Sindicato de Trabajadores Petroleros de la República Mexicana) was formed and one of the first actions was the writing of a lengthy draft contract transmitted to the petroleum companies demanding a 40-hour working week, a full salary paid in the event of sickness, and the payment of 65 million pesos towards benefits and wages. The foreign oil companies refused to sign the agreement, and counter offered with a payment of 14 million pesos toward wages and benefits.On November 3, 1937, the union demanded that the companies sign the collective agreement and on May 17, the union summoned a strike in case their demands were not met. On May 28 the strike became effective throughout the country.\n",
            "The petroleum workers' struggle was well regarded by the President and the population despite problems caused by the petroleum shortage. Due to these problems, the union accepted a lift of the strike on June 9, after the president urged them to present their case before the General Arbitration and Conciliation Board (Junta General de Conciliación y Arbitraje). In July, as instructed by the arbitration board, a commission of financial experts was formed that investigated the petroleum companies' finances, concluding that their profits easily permitted them to cover the demands of the workers. The report stated that just one company (El Aguila) had received annual profits of over 55 million pesos. The arbitration board concluded that the oil companies should pay 26 million pesos for wages and benefits to the workers. \n",
            "The companies, however, insisted the demands would cripple production and bankrupt them, and refused to pay. The president once again intervened to mediate between the parties, and met with oil company representatives at the National Palace on September 2. In this meeting, one of the El Aguila representatives took issue with the description of it being a foreign company, and stated that El Aguila was a Mexican company. In response, Jesus Silva Herzog (present in the meeting) responded with a financial newspaper from London that cited a report from the Royal Dutch Shell of 1928: \"Our Mexican subsidiary, Oil Company El Aguila, has obtained good returns during the last fiscal cycle.\" It was also explained that El Aguila de Mexico would set the price of an oil barrel at 1.96 when sold to The Eagle Shipping company. This price was below the market value of US$3.19 per barrel. This way profits would be hidden to the Mexican treasury, and taxes were saved.\n",
            "\n",
            "But, on December 8, the companies hired other unemployed workers and had not responded to the arbitration board. On December 18, 1937, the board gave a verdict in favor of the union by means of a \"laudo\" (binding judgment in arbitration) which demanded that the companies fulfil the requirements of the petitions and pay 26 million pesos in lost salaries. The petroleum companies initiated a lawsuit on January 2, 1938 before the Mexican Supreme Court to protect their property from the labor union and arbitration board, which denied the request.\n",
            "Consequently, the foreign companies rebelled against the imposed contract, and the maximum Judicial Authority responded by rendering a decision on March 1, giving the companies until March 7 to pay the 26 million pesos penalty.\n",
            "In 1935, all companies in the business of extraction, processing, and exporting of oil in Mexico were foreign companies with foreign capital. These companies attempted to block the creation of labor unions and used legal and illegal tactics to do so. However, the creation of individual unions within each company was made possible, but work conditions differed from one another.\n",
            "On December 27, 1935, the Sindicato Único de Trabajadores Petroleros was created, despite the legal opposition in the states of Tamaulipas and Veracruz. On January 29, 1936, this union joined the Comité de Defensa Proletaria (\"Committee of Proletarian Defense\") which would become in February the Confederation of Mexican Workers (CTM). On July 20, the union celebrated its first convention, in which it was proposed a project of general contracts for each oil company and it was decided on a strike to push towards an agreement.\n",
            "Lázaro Cárdenas intervened between the union and the oil companies in order to force an agreement on the contract. The strike was delayed for six months, but the companies never agreed to the contract and on May 28, the strike took place. The entire country was paralyzed for 12 days, with consumers unable to buy gasoline. Cárdenas convinced the union to end the strike until a decision by the companies could be made. However, the companies declared themselves unable to meet the demands because of financial problems. Cárdenas ordered an investigation and on August 3, and the findings were that the Mexican oil industry produced higher returns than the U.S. oil industry.\n",
            "\n",
            "\n",
            "== Legal conflicts ==\n",
            "After the publication of the findings, the oil companies threatened to leave Mexico and take all of their capital with them. The government entity in charge of the conflict between these companies and the union, the Junta Federal de Conciliación y Arbitraje (Federal Conciliation and Arbitration Board), was not able to make a decision quickly and the union declared a 24-hour strike in protest on December 8.\n",
            "On December 18, the Arbitration Board declared in favor of the union. The oil companies had to pay 26 million pesos of wages lost because of the strike, but they appealed to the Supreme Court. The Supreme Court then rejected the appeal and ordered them to raise salaries and improve working conditions for the union members. The oil companies protested this decision and President Cárdenas mediated a compromise; the union would accept 26 million pesos. Cárdenas offered to end the strike if the oil companies paid the sum. According to witnesses of this meeting, representatives of the oil companies asked the President \"Who can guarantee that the strike will be over\", to which the President replied \"I, the President of the Republic.\" After the businessmen asked with sarcasm \"You?\" President Cárdenas ended the meeting saying \"Sirs, we are finished!\". Cárdenas moved to expropriate the oil industry and create a national oil company, PEMEX.\n",
            "\n",
            "\n",
            "== Oil Expropriation Day, March 18, 1938 ==\n",
            "On March 18, 1938 President Cárdenas embarked on the expropriation of all oil resources and facilities by the state, nationalizing the U.S. and Anglo-Dutch (Mexican Eagle Petroleum Company) operating companies. Two hours before informing his cabinet of his decision, he made the announcement on the radio to the rest of the country. Five days later, a crowd of 200,000 (according to the press) rallied in the zócalo in support of Cárdenas's action. On April 12, 1938, a crowd of thousands of all classes gathered in front of the Palacio de Bellas Artes to make donations to pay the debt to foreign companies. Donations varied from chickens to jewelry. (see photo).\n",
            "On June 7, 1938, President Cárdenas issued a decree creating Petróleos Mexicanos (PEMEX), with exclusive rights over exploration, extraction, refining, and commercialization of oil in Mexico. On June 20, PEMEX started operations.\n",
            "\n",
            "\n",
            "== Opposition ==\n",
            "\n",
            "\n",
            "=== International ===\n",
            "In retaliation, the oil companies initiated a public relations campaign against Mexico, urging people to stop buying Mexican goods and lobbying to embargo U.S. technology to Mexico. Many foreign governments closed their markets to Mexican oil, hoping that PEMEX would drown in its own oil. However, the U.S. government of Franklin Delano Roosevelt had issued the Good Neighbor Policy, aiming to recalibrate U.S.-Latin American relations; the U.S. government did not intervene to aid U.S. oil companies affected by the Mexican  expropriation. Mexican finances suffered due to the boycott, the Mexican peso was devalued, and an immediate 20% increase in prices was suffered by the Mexican population. In a trip to New York to negotiate with oil companies,  Mexican treasury minister, Suarez, serendipitously met an American intermediate, William Rhodes Davis from Davis Oil Company, who had a refinery in Europe, and asked for a collaboration. Davis mediated between Mexico and Germany to a barter agreement where Mexico would give crude oil to Davis, who then would provide refined oil products to Germany in exchange for machinery to Mexico. By 1940, Mexico had an agreement with the American Sinclair Oil Corporation to sell crude oil to the U.S, and the full-scale war in Europe guaranteed that Mexican oil would have international customers. PEMEX developed into one of the largest oil companies in the world and helped Mexico become the world's seventh-largest oil exporter.\n",
            "\n",
            "\n",
            "=== Domestic ===\n",
            "Saturnino Cedillo, a cacique from San Luis Potosí and former Secretary of Agriculture, showed the strongest opposition to Cárdenas's measures. Cedillo had in the past supported Cárdenas in a conflict with ex-President Plutarco Elías Calles, but disagreed with his plan of reforms. On May 15 of the same year, the state congress of San Luis Potosí issued a decree where it refused to recognize Cárdenas as President and declared that the expropiación petrolera did not benefit the economy of Mexico. Cárdenas did not consider this a serious threat and minimized efforts to suppress the rebellion, instead choosing persuasion. The US government did not support the rebellion because it was more concerned that fascist and communist movements from Europe would spread to Mexico.\n",
            "The key to the success of the measures taken by Cárdenas was not just to control the opposition, but to keep afloat an industry in the absence of qualified personnel. The government had to depend on the Sindicato de Trabajadores Petroleros de la República Mexicana (STPRM, or the Union of Oil Workers of the Mexican Republic) to resolve disagreements over the management of oil resources, and deal with threats of strikes and sabotage. In spite of these and technical challenges, local workers who replaced the foreign technicians were successful in making the new nationalized oil industry work. Josephus Daniels, U.S. ambassador to Mexico, explained to President Franklin D. Roosevelt and Secretary of State Cordell Hull that Cárdenas' reforms could not be undone, since his position as president and the position of PEMEX were secure.\n",
            "Critics of the expropriation point out that since Pemex took control of the nation's petroleum, the company has been rife with corruption through every administration since that of Cárdenas, including both the PRI (Partido Revolucionario Institucional) and the PAN (Partido Accion Nacional). In addition, the casus belli of the expropriation was a wage hike of 26 million pesos. In fact, in the aftermath, not only was the promised wage hike postponed indefinitely, wages were actually cut.\n",
            "\n",
            "\n",
            "== See also ==\n",
            "\n",
            "Nationalization of oil supplies\n",
            "Economic nationalism\n",
            "Petroleum industry in Mexico\n",
            "\n",
            "\n",
            "== References ==\n",
            "\n",
            "\n",
            "== Further reading ==\n",
            "Brown, Jonathan C. Oil and Revolution in Mexico. Berkeley: University of California Press 1993.\n",
            "Brown, Jonathan C. and Alan Knight, eds.  The Mexican Petroleum Industry in the Twentieth Century. Austin: University of Texas Press 1992.\n",
            "Gordon, Wendell. The Expropriation of Foreign-Owned Property in Mexico (1941)\n",
            "Hall, Linda B. Oil, Banks, and Politics: the United States and Postrevolutionary Mexico, 1917-1924. Austin: University of Texas Press 1995.\n",
            "Jayne, Catherine E. Oil, war, and Anglo-American relations: American and British reactions to Mexico's expropriation of foreign oil properties, 1937-1941 (Praeger, 2001)\n",
            "Maurer, Noel. \"The empire struck back: sanctions and compensation in the Mexican oil expropriation of 1938.\" Journal of Economic History 71.03 (2011): 590–615. online\n",
            "Meyer, Lorenzo. Mexico and the United States in the oil controversy, 1917–1942 (University of Texas Press, 2014)\n",
            "Rippy, Merrill. Oil and the Mexican Revolution. Leiden: Brill 1972.\n",
            "Wirth, John D., ed. Latin American Oil Companies and the Politics of Energy. Lincoln: University of Nebraska Press 1985.\n"
          ]
        }
      ]
    },
    {
      "cell_type": "markdown",
      "metadata": {
        "id": "V9o2M4-23kIo"
      },
      "source": [
        "## Procesamiento"
      ]
    },
    {
      "cell_type": "markdown",
      "metadata": {
        "id": "cQTst86Zm5Ew"
      },
      "source": [
        "Dividimos el texto en oraciones."
      ]
    },
    {
      "cell_type": "code",
      "metadata": {
        "id": "UudewwgC0npT",
        "colab": {
          "base_uri": "https://localhost:8080/"
        },
        "outputId": "5b40017d-2900-48a7-9745-3179e88c9482"
      },
      "source": [
        "sentences = [x for x in sent_tokenize(book)]\n",
        "print(f\"# oraciones: {len(sentences)}\")\n",
        "for sentence in sentences[:3]:\n",
        "    print(sentence)\n",
        "    print()\n",
        "    print(\"...Fin de la oración...\")\n",
        "    print()\n"
      ],
      "execution_count": 7,
      "outputs": [
        {
          "output_type": "stream",
          "name": "stdout",
          "text": [
            "# oraciones: 94\n",
            "The Mexican oil expropriation (Spanish: expropiación petrolera) was the nationalization of all petroleum reserves, facilities, and foreign oil companies in Mexico on March 18, 1938.\n",
            "\n",
            "...Fin de la oración...\n",
            "\n",
            "In accordance with Article 27 of the Constitution of 1917, President Lázaro Cárdenas declared that all mineral and oil reserves found within Mexico belong to \"the nation\", i.e., the federal government.\n",
            "\n",
            "...Fin de la oración...\n",
            "\n",
            "The Mexican government established a state-owned petroleum company, Petróleos Mexicanos, or PEMEX.\n",
            "\n",
            "...Fin de la oración...\n",
            "\n"
          ]
        }
      ]
    },
    {
      "cell_type": "markdown",
      "metadata": {
        "id": "VX8wBpNYnUV1"
      },
      "source": [
        "convertimos a minúsculas, eliminamos stopwords, eliminamos signos de puntuación y radicalizamos."
      ]
    },
    {
      "cell_type": "markdown",
      "source": [
        "EMJ La siguiente linea quita los signos de puntuación y estematiza las palaabras.\n",
        "Este funciona bien en inglés pero en español hay que susutituir á por a en la paalabra Lázaro\n",
        "Casi nadie hace a mano sus expresiones regulares porque son cansadas, por lo general las buscamos en internet"
      ],
      "metadata": {
        "id": "4ia9l_5S67p-"
      }
    },
    {
      "cell_type": "code",
      "metadata": {
        "id": "HhJPqlaB5fh6",
        "colab": {
          "base_uri": "https://localhost:8080/"
        },
        "outputId": "54e824ab-3daa-4237-abc8-bdc3d7ea3b15"
      },
      "source": [
        "sent_low = [[stemmer.stem(re.sub('[^a-z]', \"\", word.lower())) for word in word_tokenize(sentence) if word not in cached_stopwords and len(word) > 2] for sentence in sentences]\n",
        "sent_low[1]"
      ],
      "execution_count": 6,
      "outputs": [
        {
          "output_type": "execute_result",
          "data": {
            "text/plain": [
              "['accord',\n",
              " 'articl',\n",
              " 'constitut',\n",
              " '',\n",
              " 'presid',\n",
              " 'lzaro',\n",
              " 'crdena',\n",
              " 'declar',\n",
              " 'miner',\n",
              " 'oil',\n",
              " 'reserv',\n",
              " 'found',\n",
              " 'within',\n",
              " 'mexico',\n",
              " 'belong',\n",
              " 'nation',\n",
              " 'ie',\n",
              " 'feder',\n",
              " 'govern']"
            ]
          },
          "metadata": {},
          "execution_count": 6
        }
      ]
    },
    {
      "cell_type": "markdown",
      "metadata": {
        "id": "NuWhLrCHngIg"
      },
      "source": [
        "# TextRank"
      ]
    },
    {
      "cell_type": "markdown",
      "metadata": {
        "id": "7FqpDqoADzub"
      },
      "source": [
        "Construimos la matriz de adyacencias/similitud A entre las oraciones, tomando el número de palabras que están en ambas como la similitud entre las dos oraciones."
      ]
    },
    {
      "cell_type": "markdown",
      "source": [
        "EMJ Haremos una matriz de ceros de nxn donde n es el número de oraciones de 94x94 donde vamos a tener una comparación de textos, para ver la longitud de este conjunto"
      ],
      "metadata": {
        "id": "mXRNaK858fP2"
      }
    },
    {
      "cell_type": "code",
      "metadata": {
        "id": "9-8lePsd8th-",
        "colab": {
          "base_uri": "https://localhost:8080/"
        },
        "outputId": "d6f3610e-76ee-4031-f23b-e27d85952f11"
      },
      "source": [
        "A = np.zeros((len(sent_low), len(sent_low)))\n",
        "\n",
        "for i in range(len(sentences)):\n",
        "    if i % 100 == 0:\n",
        "        print(i, end=\", \")\n",
        "        if i % 1000 == 0:\n",
        "            print()\n",
        "    for j in range(i+1, len(sentences)):\n",
        "        # La simillitud entre oraciones va a ser el número de palabras que tienen en común\n",
        "        A[i][j] = A[j][i] = len([x for x in sentences[i] if x in sentences[j]])"
      ],
      "execution_count": 8,
      "outputs": [
        {
          "output_type": "stream",
          "name": "stdout",
          "text": [
            "0, \n"
          ]
        }
      ]
    },
    {
      "cell_type": "markdown",
      "metadata": {
        "id": "p9s5rI9roNPv"
      },
      "source": [
        "Así es como se ve un fragmento de la matriz A."
      ]
    },
    {
      "cell_type": "markdown",
      "source": [
        "EMJ Esta oración tiene 164 en comun... Donde tenemos numeros grandes porque tienen mas influencia o mas cosas en común"
      ],
      "metadata": {
        "id": "gzCE1cx089gs"
      }
    },
    {
      "cell_type": "code",
      "metadata": {
        "id": "uvFYbKI48tdr",
        "colab": {
          "base_uri": "https://localhost:8080/"
        },
        "outputId": "096e1e1e-01c3-4907-92ba-05f21f618ae0"
      },
      "source": [
        "A[:5, :5]"
      ],
      "execution_count": 9,
      "outputs": [
        {
          "output_type": "execute_result",
          "data": {
            "text/plain": [
              "array([[  0., 164., 167., 169., 151.],\n",
              "       [164.,   0., 181., 186., 160.],\n",
              "       [167., 181.,   0.,  90.,  77.],\n",
              "       [169., 186.,  90.,   0., 270.],\n",
              "       [151., 160.,  77., 270.,   0.]])"
            ]
          },
          "metadata": {},
          "execution_count": 9
        }
      ]
    },
    {
      "cell_type": "markdown",
      "metadata": {
        "id": "OoJlPw_ToUdh"
      },
      "source": [
        "Normalizamos las columnas de A"
      ]
    },
    {
      "cell_type": "markdown",
      "source": [
        "EMJ Hacemos la normalización para que me de la suma de 1, ya tenemos las ocurrncias, normalizo esto dependiendo de las columnas...\n",
        "\n",
        "EMJ \n",
        "El sigueinte comando es solo para imprimir notación científica, no es tana imporatante, de A por pi y luego por A, son vectores de probaabilidades"
      ],
      "metadata": {
        "id": "-z_56gZH9Yqb"
      }
    },
    {
      "cell_type": "code",
      "metadata": {
        "id": "8oNFWIjZ8tbP",
        "colab": {
          "base_uri": "https://localhost:8080/"
        },
        "outputId": "b4c71621-9a70-4aee-9ef7-312c84af8356"
      },
      "source": [
        "# Comparamos las oraciones unas con otras, pero no consigo mismas\n",
        "suma = np.sum(A, axis=0)\n",
        "A_norm = np.divide(A, suma, where=suma!=0)\n",
        "A_norm[:5, :5]"
      ],
      "execution_count": 10,
      "outputs": [
        {
          "output_type": "execute_result",
          "data": {
            "text/plain": [
              "array([[0.        , 0.01004348, 0.02120366, 0.0061283 , 0.02966601],\n",
              "       [0.01122058, 0.        , 0.02298121, 0.00674475, 0.03143418],\n",
              "       [0.01142583, 0.01108457, 0.        , 0.00326359, 0.0151277 ],\n",
              "       [0.01156267, 0.01139078, 0.01142712, 0.        , 0.05304519],\n",
              "       [0.01033114, 0.00979852, 0.00977654, 0.00979077, 0.        ]])"
            ]
          },
          "metadata": {},
          "execution_count": 10
        }
      ]
    },
    {
      "cell_type": "markdown",
      "metadata": {
        "id": "YIdFEIv2KlDT"
      },
      "source": [
        "Se crea el vector de TextRank con unos y se itera hasta que converja. Es decir, hasta que obtengamos $\\Pi$ tal que $$\\Pi = A~\\Pi$$ "
      ]
    },
    {
      "cell_type": "markdown",
      "source": [
        ""
      ],
      "metadata": {
        "id": "gzn9uXjE935Z"
      }
    },
    {
      "cell_type": "code",
      "source": [
        "np.set_printoptions(suppress=True)"
      ],
      "metadata": {
        "id": "wSg8un2uxyz3"
      },
      "execution_count": 11,
      "outputs": []
    },
    {
      "cell_type": "markdown",
      "source": [
        "EMJ\n",
        "Creamaos un vector de 1s, vemos que tantaa diferencia tienen entre ellas dos y decimos si estan muy cerca entonces, metemos el vector de 1s, hacemos una comparación y hacemos otra iteración y así sucesivamente...\n",
        "Al finaal se hace pequeña la diferencia..."
      ],
      "metadata": {
        "id": "MvLoQoLA-Q_l"
      }
    },
    {
      "cell_type": "code",
      "metadata": {
        "id": "LUfmpayQKaCA",
        "colab": {
          "base_uri": "https://localhost:8080/"
        },
        "outputId": "2878aef6-3789-407e-e0d4-82f41c6f219d"
      },
      "source": [
        "tol = 1e-7\n",
        "\n",
        "PI_ = np.ones(A_norm.shape[1])\n",
        "    \n",
        "i = 0\n",
        "while True:\n",
        "    pi_ = A_norm.dot(PI_)\n",
        "    print(i, abs(PI_- pi_).sum()) \n",
        "    if np.allclose(PI_, pi_, tol):\n",
        "        break\n",
        "    i += 1\n",
        "    PI_ = pi_"
      ],
      "execution_count": 12,
      "outputs": [
        {
          "output_type": "stream",
          "name": "stdout",
          "text": [
            "0 25.119042342061313\n",
            "1 3.9834907908161306\n",
            "2 0.6743622225980425\n",
            "3 0.11271087281569248\n",
            "4 0.01906787655554515\n",
            "5 0.0032164628903882386\n",
            "6 0.0005432400722331088\n",
            "7 9.173100230158715e-05\n",
            "8 1.549020578223148e-05\n",
            "9 2.616007513722707e-06\n"
          ]
        }
      ]
    },
    {
      "cell_type": "markdown",
      "source": [
        "EMJ\n",
        "Una manera de obtener los eigen valores de la matriz con una función de sci pi, es decir calcular los eigenvectores \n",
        "Dependiendo de la matriz de nxn, no necesariamente son distintos, si tomo la primer fila, lo que voy a obtnere el vector de probabilidades de la amtriz"
      ],
      "metadata": {
        "id": "Jk0GQlgI-llm"
      }
    },
    {
      "cell_type": "markdown",
      "metadata": {
        "id": "QnTTffzbv2G0"
      },
      "source": [
        "Alternativamente, podemos obtener los eigenvectores izquierdos de nuestra matriz A_norm. Los valores de PageRank corresponden al vector de probabilidades del estado estacionario de la matriz A que a su vez es el eigenvector izquierdo con eigenvalor asociado 1.\n",
        "\n",
        "$$\\Pi = \\Pi A^T$$"
      ]
    },
    {
      "cell_type": "code",
      "metadata": {
        "id": "2fjuQ_v_vE-O"
      },
      "source": [
        "_, vecs = splinalg.eig(A_norm.T, left=True, right=False)"
      ],
      "execution_count": 13,
      "outputs": []
    },
    {
      "cell_type": "markdown",
      "source": [
        "EMJ \n",
        "Los valores mas grndes tendrán un valor mayor en pagerank ???\n"
      ],
      "metadata": {
        "id": "BkDSJCzv_OH9"
      }
    },
    {
      "cell_type": "code",
      "metadata": {
        "id": "Qn60EkbGzARy",
        "colab": {
          "base_uri": "https://localhost:8080/"
        },
        "outputId": "dbc0d0fb-65a8-4aeb-c6f0-3990e2aff211"
      },
      "source": [
        "pi_ = vecs[:, 0]\n",
        "pi_"
      ],
      "execution_count": 14,
      "outputs": [
        {
          "output_type": "execute_result",
          "data": {
            "text/plain": [
              "array([0.11513537, 0.12862927, 0.06204202, 0.21723372, 0.04009572,\n",
              "       0.24791601, 0.1968944 , 0.04618491, 0.09318907, 0.14523473,\n",
              "       0.15436458, 0.07491361, 0.08680841, 0.07936432, 0.10138151,\n",
              "       0.11062165, 0.15954   , 0.09155846, 0.0503284 , 0.06498815,\n",
              "       0.08231832, 0.14549468, 0.12219348, 0.13968907, 0.0981518 ,\n",
              "       0.08349993, 0.09306303, 0.10068043, 0.11075556, 0.12292607,\n",
              "       0.08794275, 0.09195232, 0.07398409, 0.07832451, 0.08063257,\n",
              "       0.10305151, 0.09930977, 0.15245038, 0.06701263, 0.09131426,\n",
              "       0.09513477, 0.09115671, 0.0710222 , 0.12204381, 0.06067924,\n",
              "       0.06411376, 0.07806455, 0.12736102, 0.089597  , 0.08630426,\n",
              "       0.10294123, 0.06479909, 0.03369143, 0.1084475 , 0.05774886,\n",
              "       0.11238617, 0.08791124, 0.12323329, 0.0999951 , 0.12122456,\n",
              "       0.11086585, 0.11203169, 0.09476454, 0.09968788, 0.09711987,\n",
              "       0.11414282, 0.09484331, 0.09988482, 0.10243708, 0.11970423,\n",
              "       0.10192505, 0.11525353, 0.12236678, 0.09449671, 0.09651331,\n",
              "       0.10630486, 0.07510267, 0.07950611, 0.0873362 , 0.07365324,\n",
              "       0.05027326, 0.08707624, 0.08891167, 0.07388168, 0.10110581,\n",
              "       0.09263765, 0.07150272, 0.0564491 , 0.0914403 , 0.07456701,\n",
              "       0.05163604, 0.0650039 , 0.08871473, 0.07985271])"
            ]
          },
          "metadata": {},
          "execution_count": 14
        }
      ]
    },
    {
      "cell_type": "markdown",
      "metadata": {
        "id": "Y4XCjrheqzkz"
      },
      "source": [
        "Obtenemos los índices de los k valores más grandes en $\\Pi$ y los usamos para obtener las oraciones más relevantes."
      ]
    },
    {
      "cell_type": "code",
      "metadata": {
        "id": "4nzzWurm0_O2",
        "colab": {
          "base_uri": "https://localhost:8080/"
        },
        "outputId": "76c100b4-86d1-4dc0-cf96-cc70410481c1"
      },
      "source": [
        "k = 10\n",
        "pi_.argsort()[-k:][::-1]"
      ],
      "execution_count": 21,
      "outputs": [
        {
          "output_type": "execute_result",
          "data": {
            "text/plain": [
              "array([ 5,  3,  6, 16, 10, 37, 21,  9, 23,  1])"
            ]
          },
          "metadata": {},
          "execution_count": 21
        }
      ]
    },
    {
      "cell_type": "markdown",
      "source": [
        "EMJ\n",
        "Las cuatro masa represnativas de mi texto"
      ],
      "metadata": {
        "id": "qwOP21Pn_mwc"
      }
    },
    {
      "cell_type": "code",
      "metadata": {
        "id": "RryDhNr5OfJ5"
      },
      "source": [
        "summary = [sentences[idx] for idx in pi_.argsort()[-k:][::-1]]"
      ],
      "execution_count": 22,
      "outputs": []
    },
    {
      "cell_type": "code",
      "source": [
        "summary"
      ],
      "metadata": {
        "id": "iACleNaJDRHu",
        "colab": {
          "base_uri": "https://localhost:8080/"
        },
        "outputId": "5c247d2a-1d46-4d76-d969-8625d40107e0"
      },
      "execution_count": 23,
      "outputs": [
        {
          "output_type": "execute_result",
          "data": {
            "text/plain": [
              "['== Background ==\\n\\nOn August 16, 1935, the Petroleum Workers Union of Mexico (Sindicato de Trabajadores Petroleros de la República Mexicana) was formed and one of the first actions was the writing of a lengthy draft contract transmitted to the petroleum companies demanding a 40-hour working week, a full salary paid in the event of sickness, and the payment of 65 million pesos towards benefits and wages.',\n",
              " 'For a short period, this measure caused an international boycott of Mexican products in the following years, especially by the United States, the United Kingdom, and the Netherlands, but with the outbreak of World War II and the alliance between Mexico and the Allies, the disputes with private companies over compensation were resolved.',\n",
              " 'The foreign oil companies refused to sign the agreement, and counter offered with a payment of 14 million pesos toward wages and benefits.On November 3, 1937, the union demanded that the companies sign the collective agreement and on May 17, the union summoned a strike in case their demands were not met.',\n",
              " 'In response, Jesus Silva Herzog (present in the meeting) responded with a financial newspaper from London that cited a report from the Royal Dutch Shell of 1928: \"Our Mexican subsidiary, Oil Company El Aguila, has obtained good returns during the last fiscal cycle.\"',\n",
              " \"In July, as instructed by the arbitration board, a commission of financial experts was formed that investigated the petroleum companies' finances, concluding that their profits easily permitted them to cover the demands of the workers.\",\n",
              " 'The government entity in charge of the conflict between these companies and the union, the Junta Federal de Conciliación y Arbitraje (Federal Conciliation and Arbitration Board), was not able to make a decision quickly and the union declared a 24-hour strike in protest on December 8.',\n",
              " 'On December 18, 1937, the board gave a verdict in favor of the union by means of a \"laudo\" (binding judgment in arbitration) which demanded that the companies fulfil the requirements of the petitions and pay 26 million pesos in lost salaries.',\n",
              " 'Due to these problems, the union accepted a lift of the strike on June 9, after the president urged them to present their case before the General Arbitration and Conciliation Board (Junta General de Conciliación y Arbitraje).',\n",
              " 'Consequently, the foreign companies rebelled against the imposed contract, and the maximum Judicial Authority responded by rendering a decision on March 1, giving the companies until March 7 to pay the 26 million pesos penalty.',\n",
              " 'In accordance with Article 27 of the Constitution of 1917, President Lázaro Cárdenas declared that all mineral and oil reserves found within Mexico belong to \"the nation\", i.e., the federal government.']"
            ]
          },
          "metadata": {},
          "execution_count": 23
        }
      ]
    },
    {
      "cell_type": "markdown",
      "metadata": {
        "id": "DpekkaIIrFbJ"
      },
      "source": [
        "Por último, sólo queda ver qué considero TextRank como las oraciones más importantes."
      ]
    },
    {
      "cell_type": "markdown",
      "source": [
        "EMJ \n",
        "Obtenemos las orcaiones mas importantes, esta herramienta es muy pesada, pero muy útil, "
      ],
      "metadata": {
        "id": "8hUQqRRX_08g"
      }
    },
    {
      "cell_type": "code",
      "metadata": {
        "id": "wAqh4QdWOh1r",
        "colab": {
          "base_uri": "https://localhost:8080/"
        },
        "outputId": "7d810ebb-0ea2-4ab8-c542-7488c1be89c5"
      },
      "source": [
        "for bullet in summary:\n",
        "    print('___________')\n",
        "    print(bullet)"
      ],
      "execution_count": 24,
      "outputs": [
        {
          "output_type": "stream",
          "name": "stdout",
          "text": [
            "___________\n",
            "== Background ==\n",
            "\n",
            "On August 16, 1935, the Petroleum Workers Union of Mexico (Sindicato de Trabajadores Petroleros de la República Mexicana) was formed and one of the first actions was the writing of a lengthy draft contract transmitted to the petroleum companies demanding a 40-hour working week, a full salary paid in the event of sickness, and the payment of 65 million pesos towards benefits and wages.\n",
            "___________\n",
            "For a short period, this measure caused an international boycott of Mexican products in the following years, especially by the United States, the United Kingdom, and the Netherlands, but with the outbreak of World War II and the alliance between Mexico and the Allies, the disputes with private companies over compensation were resolved.\n",
            "___________\n",
            "The foreign oil companies refused to sign the agreement, and counter offered with a payment of 14 million pesos toward wages and benefits.On November 3, 1937, the union demanded that the companies sign the collective agreement and on May 17, the union summoned a strike in case their demands were not met.\n",
            "___________\n",
            "In response, Jesus Silva Herzog (present in the meeting) responded with a financial newspaper from London that cited a report from the Royal Dutch Shell of 1928: \"Our Mexican subsidiary, Oil Company El Aguila, has obtained good returns during the last fiscal cycle.\"\n",
            "___________\n",
            "In July, as instructed by the arbitration board, a commission of financial experts was formed that investigated the petroleum companies' finances, concluding that their profits easily permitted them to cover the demands of the workers.\n",
            "___________\n",
            "The government entity in charge of the conflict between these companies and the union, the Junta Federal de Conciliación y Arbitraje (Federal Conciliation and Arbitration Board), was not able to make a decision quickly and the union declared a 24-hour strike in protest on December 8.\n",
            "___________\n",
            "On December 18, 1937, the board gave a verdict in favor of the union by means of a \"laudo\" (binding judgment in arbitration) which demanded that the companies fulfil the requirements of the petitions and pay 26 million pesos in lost salaries.\n",
            "___________\n",
            "Due to these problems, the union accepted a lift of the strike on June 9, after the president urged them to present their case before the General Arbitration and Conciliation Board (Junta General de Conciliación y Arbitraje).\n",
            "___________\n",
            "Consequently, the foreign companies rebelled against the imposed contract, and the maximum Judicial Authority responded by rendering a decision on March 1, giving the companies until March 7 to pay the 26 million pesos penalty.\n",
            "___________\n",
            "In accordance with Article 27 of the Constitution of 1917, President Lázaro Cárdenas declared that all mineral and oil reserves found within Mexico belong to \"the nation\", i.e., the federal government.\n"
          ]
        }
      ]
    },
    {
      "cell_type": "markdown",
      "metadata": {
        "id": "xN21ZGHrrKY4"
      },
      "source": [
        "Podemos traducir la salida."
      ]
    },
    {
      "cell_type": "code",
      "metadata": {
        "id": "7vpw3FScPo2L",
        "colab": {
          "base_uri": "https://localhost:8080/"
        },
        "outputId": "34b8a40f-d052-4ca7-ea91-79a799339d65"
      },
      "source": [
        "# Aprox 34 seg las primeras 10 oraciones\n",
        "for bullet in summary:\n",
        "    print()\n",
        "    print(translate(bullet, \"es\"))"
      ],
      "execution_count": 25,
      "outputs": [
        {
          "output_type": "stream",
          "name": "stdout",
          "text": [
            "\n",
            "== Antecedentes ==El 16 de agosto de 1935, se formó el Sindicato de Trabajadores Petroleros de la República Mexicana y una de las primeras acciones fue la redacción de un largo borrador de contrato transmitido a las compañías petroleras exigiendo una semana laboral de 40 horas, un salario completo pagado en caso de enfermedad y el pago de 65 millones de pesos por beneficios y salarios.\n",
            "\n",
            "Durante un corto período, esta medida provocó un boicot internacional a los productos mexicanos en los años siguientes, especialmente por parte de los Estados Unidos, el Reino Unido y los Países Bajos, pero con el estallido de la Segunda Guerra Mundial y la alianza entre México y los Aliados, se resolvieron las disputas con empresas privadas por la compensación.\n",
            "\n",
            "El 3 de noviembre de 1937, el sindicato exigió a las empresas que firmaran el convenio colectivo y el 17 de mayo, el sindicato convocó una huelga en caso de que no se cumplieran sus demandas.\n",
            "\n",
            "En respuesta, Jesús Silva Herzog (presente en la reunión) respondió con un periódico financiero de Londres que citó un informe de la Royal Dutch Shell de 1928: \"Nuestra subsidiaria mexicana, Oil Company El Aguila, ha obtenido buenos rendimientos durante el último ciclo fiscal\".\n",
            "\n",
            "En julio, según las instrucciones de la junta de arbitraje, se formó una comisión de expertos financieros que investigó las finanzas de las compañías petroleras, concluyendo que sus ganancias les permitían fácilmente cubrir las demandas de los trabajadores.\n",
            "\n",
            "La entidad gubernamental encargada del conflicto entre estas empresas y el sindicato, la Junta Federal de Conciliación y Arbitraje, no pudo tomar una decisión rápidamente y el sindicato declaró una huelga de 24 horas en protesta el 8 de diciembre.\n",
            "\n",
            "El 18 de diciembre de 1937, la junta dio un veredicto a favor del sindicato por medio de un \"laudo\" (juicio vinculante en arbitraje) que exigía que las empresas cumplieran con los requisitos de las peticiones y pagaran 26 millones de pesos en salarios perdidos.\n",
            "\n",
            "Debido a estos problemas, el sindicato aceptó un levantamiento de la huelga el 9 de junio, después de que el presidente los instó a presentar su caso ante la Junta General de Conciliación y Arbitraje.\n",
            "\n",
            "En consecuencia, las empresas extranjeras se rebelaron contra el contrato impuesto, y la autoridad judicial máxima respondió al dictar una decisión el 1 de marzo, dando a las empresas hasta el 7 de marzo para pagar la sanción de 26 millones de pesos.\n",
            "\n",
            "De conformidad con el artículo 27 de la Constitución de 1917, el Presidente Lázaro Cárdenas declaró que todas las reservas de minerales y petróleo que se encuentran en México pertenecen a \"la nación\", es decir, al gobierno federal.\n"
          ]
        }
      ]
    },
    {
      "cell_type": "markdown",
      "metadata": {
        "id": "sroGaAJSrNER"
      },
      "source": [
        "# Función para crear resúmenes"
      ]
    },
    {
      "cell_type": "markdown",
      "metadata": {
        "id": "o8TBd5q7rSmS"
      },
      "source": [
        "Podemos condensar todo lo anterior en una función que reciba texto y nos regrese las oraciones más relevantes de acuerdo a TextRank."
      ]
    },
    {
      "cell_type": "markdown",
      "source": [
        "EMJ \n",
        "Analizar y preguntar sobre esta función\n",
        "\n",
        "Número de oraciones ?\n",
        "stemmer ? para \n",
        "TextRang  Resp. Tener o no eigenvectors, separamos los casos en los que si quiero obtenerlos o si quiero hacer el proceso de iterción, es decri si ver los vectores iz o si es necesario verlos por la aderecha,\n",
        "Distribución estaacionaria es decir los \n",
        "\n",
        "eig - si queremos recuperar los eignevalores\n",
        "\n",
        "\n",
        "EL primer caso es con los eignevectores y el otro es con el pi\n",
        "\n",
        "Traaduciendo despues de TextRank\n",
        "Si podriamos aplicar la traducción antes pero cuidado y que nos puede regresar un vaalor distinto\n",
        "\n",
        "\n",
        "\n",
        "\n"
      ],
      "metadata": {
        "id": "o2vta9ESAdyH"
      }
    },
    {
      "cell_type": "code",
      "metadata": {
        "id": "ACFufGGmXwCP"
      },
      "source": [
        "def summary(text, k, to_spanish = True, tol = 1e-5, d = .15, eig = False):\n",
        "    print(\"Paso 1. Obteniendo oraciones\")\n",
        "    sentences = [x for x in sent_tokenize(text)]\n",
        "\n",
        "    print(f\"# oraciones: {len(sentences)}\")\n",
        "    \n",
        "    print(\"Paso 2. Procesando texto\")\n",
        "    sent_low = [[stemmer.stem(re.sub('[^a-z]', \"\", word.lower())) for word in word_tokenize(sentence) if word not in cached_stopwords and len(word) > 2] for sentence in sentences]\n",
        "    \n",
        "    print(\"Paso 3. Creando matriz de similitud\")\n",
        "    A = np.zeros((len(sent_low), len(sent_low)))\n",
        "    \n",
        "    for i in range(len(sentences)):\n",
        "        for j in range(i+1, len(sentences)):\n",
        "            # La simillitud entre oraciones va a ser el número de palabras que tienen en común\n",
        "            A[i][j] = A[j][i] = len([x for x in sentences[i] if x in sentences[j]])\n",
        "\n",
        "    print(\"Paso 4. Normalizando matriz de similitud\")   \n",
        "    suma = np.sum(A, axis=0)\n",
        "    A_norm = np.divide(A, suma, where=suma!=0)\n",
        "    \n",
        "    print(\"Paso 5. Ejecutando TextRank\")\n",
        "    if eig:\n",
        "        vals, vecs = splinalg.eig(A_norm.T, left=True, right=False)\n",
        "        pi_ = vecs[:, 0]\n",
        "    else:\n",
        "        PI_ = np.ones(A_norm.shape[1])\n",
        "        \n",
        "        while True:\n",
        "            pi_ = A_norm.dot(PI_)\n",
        "            if np.allclose(PI_, pi_, tol):\n",
        "                break\n",
        "            PI_ = pi_\n",
        "\n",
        "    print(\"\\tPaso 5. Terminado\")\n",
        "\n",
        "    if not to_spanish:\n",
        "        return [sentences[idx] for idx in pi_.argsort()[-k:][::-1]]\n",
        "\n",
        "    print(\"Paso 6. Traduciendo\")\n",
        "    return [translate(sentences[idx], \"es\") for idx in pi_.argsort()[-k:][::-1]]\n",
        "\n",
        "def print_bullet_points(bullet_points):\n",
        "    for point in bullet_points:\n",
        "        print(f\"- {point}\\n\")\n"
      ],
      "execution_count": 28,
      "outputs": []
    },
    {
      "cell_type": "code",
      "metadata": {
        "id": "ShmZc9RaYuh3",
        "colab": {
          "base_uri": "https://localhost:8080/"
        },
        "outputId": "e4c312b9-30a1-4804-bf14-9fb45a8c788e"
      },
      "source": [
        "wiki = wikipedia.page('Automatic summarization')\n",
        "text = wiki.content\n",
        "bullet_points = summary(text, 5, False, eig = False)"
      ],
      "execution_count": 27,
      "outputs": [
        {
          "output_type": "stream",
          "name": "stdout",
          "text": [
            "Paso 1. Obteniendo oraciones\n",
            "# oraciones: 316\n",
            "Paso 2. Procesando texto\n",
            "Paso 3. Creando matriz de similitud\n",
            "Paso 4. Normalizando matriz de similitud\n",
            "Paso 5. Ejecutando TextRank\n",
            "\tPaso 5. Terminado\n"
          ]
        }
      ]
    },
    {
      "cell_type": "code",
      "metadata": {
        "id": "14--hdHdZNkW",
        "colab": {
          "base_uri": "https://localhost:8080/"
        },
        "outputId": "05f1a61a-407d-4a3f-951c-43e422ba124e"
      },
      "source": [
        "print_bullet_points(bullet_points)"
      ],
      "execution_count": 30,
      "outputs": [
        {
          "output_type": "stream",
          "name": "stdout",
          "text": [
            "- Consider the example text from a news article:\n",
            "\n",
            "\"The Army Corps of Engineers, rushing to meet President Bush's promise to protect New Orleans by the start of the 2006 hurricane season, installed defective flood-control pumps last year despite warnings from its own expert that the equipment would fail during a storm, according to documents obtained by The Associated Press\".A keyphrase extractor might select \"Army Corps of Engineers\", \"President Bush\", \"New Orleans\", and \"defective flood-control pumps\" as keyphrases.\n",
            "\n",
            "- Text summarization finds the most informative sentences in a document; various methods of image summarization are the subject of ongoing research, with some looking to display the most representative images from a given collection or generating a video; video summarization extracts the most important frames from the video content.\n",
            "\n",
            "- For text, extraction is analogous to the process of skimming, where the summary (if available), headings and subheadings, figures, the first and last paragraphs of a section, and optionally the first and last sentences in a paragraph are read before one chooses to read the entire document in detail.\n",
            "\n",
            "- Such transformation, however, is computationally much more challenging than extraction, involving both natural language processing and often a deep understanding of the domain of the original text in cases where the original document relates to a special field of knowledge.\n",
            "\n",
            "- They can enable document browsing by providing a short summary, improve information retrieval (if documents have keyphrases assigned, a user could search by keyphrase to produce more reliable hits than a full-text search), and be employed in generating index entries for a large text corpus.\n",
            "\n"
          ]
        }
      ]
    },
    {
      "cell_type": "markdown",
      "source": [
        "EMJ\n",
        "Del siguiente proyecto obtenemos un archivo, vaamos a leer algunos caapítulos, "
      ],
      "metadata": {
        "id": "fLdmJgZDFmqK"
      }
    },
    {
      "cell_type": "code",
      "metadata": {
        "id": "z6PnPJkMZ_E9",
        "colab": {
          "base_uri": "https://localhost:8080/"
        },
        "outputId": "cf4dd9b7-6888-4db1-822b-609447b188df"
      },
      "source": [
        "!wget https://www.gutenberg.org/files/84/84-0.txt -O book.txt"
      ],
      "execution_count": 29,
      "outputs": [
        {
          "output_type": "stream",
          "name": "stdout",
          "text": [
            "--2022-05-09 13:49:15--  https://www.gutenberg.org/files/84/84-0.txt\n",
            "Resolving www.gutenberg.org (www.gutenberg.org)... 152.19.134.47, 2610:28:3090:3000:0:bad:cafe:47\n",
            "Connecting to www.gutenberg.org (www.gutenberg.org)|152.19.134.47|:443... connected.\n",
            "HTTP request sent, awaiting response... 200 OK\n",
            "Length: 448821 (438K) [text/plain]\n",
            "Saving to: ‘book.txt’\n",
            "\n",
            "book.txt            100%[===================>] 438.30K  --.-KB/s    in 0.1s    \n",
            "\n",
            "2022-05-09 13:49:15 (3.53 MB/s) - ‘book.txt’ saved [448821/448821]\n",
            "\n"
          ]
        }
      ]
    },
    {
      "cell_type": "markdown",
      "source": [
        "EMJ en la siguiente instrucción abrimos, leemos e imprimimos el rchivo"
      ],
      "metadata": {
        "id": "aqKp0dLCF4jt"
      }
    },
    {
      "cell_type": "code",
      "metadata": {
        "id": "meluoUwsaDSK",
        "colab": {
          "base_uri": "https://localhost:8080/"
        },
        "outputId": "a149e9a9-5e3a-4a5d-f2aa-cf430c1ac5d6"
      },
      "source": [
        "with open(\"book.txt\") as f:\n",
        "    book_raw = f.read()\n",
        "print(book_raw[0:1000])"
      ],
      "execution_count": 31,
      "outputs": [
        {
          "output_type": "stream",
          "name": "stdout",
          "text": [
            "﻿The Project Gutenberg eBook of Frankenstein, by Mary Wollstonecraft (Godwin) Shelley\n",
            "\n",
            "This eBook is for the use of anyone anywhere in the United States and\n",
            "most other parts of the world at no cost and with almost no restrictions\n",
            "whatsoever. You may copy it, give it away or re-use it under the terms\n",
            "of the Project Gutenberg License included with this eBook or online at\n",
            "www.gutenberg.org. If you are not located in the United States, you\n",
            "will have to check the laws of the country where you are located before\n",
            "using this eBook.\n",
            "\n",
            "Title: Frankenstein\n",
            "       or, The Modern Prometheus\n",
            "\n",
            "Author: Mary Wollstonecraft (Godwin) Shelley\n",
            "\n",
            "Release Date: 31, 1993 [eBook #84]\n",
            "[Most recently updated: November 13, 2020]\n",
            "\n",
            "Language: English\n",
            "\n",
            "Character set encoding: UTF-8\n",
            "\n",
            "Produced by: Judith Boss, Christy Phillips, Lynn Hanninen, and David Meltzer. HTML version by Al Haines.\n",
            "Further corrections by Menno de Leeuw.\n",
            "\n",
            "*** START OF THE PROJECT GUTENBERG EBOOK FRANKENSTEIN ***\n",
            "\n",
            "\n",
            "\n",
            "\n",
            "Frankenstein;\n",
            "\n",
            "or, the Modern Pro\n"
          ]
        }
      ]
    },
    {
      "cell_type": "markdown",
      "source": [
        "EMJ\n",
        "En la siguiente linea buscamos en los siguientes capitulos\n"
      ],
      "metadata": {
        "id": "dj4_GAu9F_-m"
      }
    },
    {
      "cell_type": "code",
      "source": [
        "start = book_raw.rfind(\"Chapter 5\\n\")\n",
        "end = book_raw.rfind('Chapter 6\\n')"
      ],
      "metadata": {
        "id": "DymBfakBWb9G"
      },
      "execution_count": 32,
      "outputs": []
    },
    {
      "cell_type": "code",
      "source": [
        "chapter_n = book_raw[start + len(\"Chapter 5\\n\"): end]"
      ],
      "metadata": {
        "id": "hGk5g4H6Xo8l"
      },
      "execution_count": 33,
      "outputs": []
    },
    {
      "cell_type": "markdown",
      "source": [
        "Este va a leer todo el contenido del caapitulo 1 y su indice"
      ],
      "metadata": {
        "id": "LOpVKuKiGcT_"
      }
    },
    {
      "cell_type": "code",
      "metadata": {
        "id": "ghILIorhaQWp",
        "colab": {
          "base_uri": "https://localhost:8080/"
        },
        "outputId": "a8adfd90-df56-4456-badb-234e4cde19f8"
      },
      "source": [
        "bullet_points = summary(chapter_n, 5, False, eig = True)"
      ],
      "execution_count": 36,
      "outputs": [
        {
          "output_type": "stream",
          "name": "stdout",
          "text": [
            "Paso 1. Obteniendo oraciones\n",
            "# oraciones: 90\n",
            "Paso 2. Procesando texto\n",
            "Paso 3. Creando matriz de similitud\n",
            "Paso 4. Normalizando matriz de similitud\n",
            "Paso 5. Ejecutando TextRank\n",
            "\tPaso 5. Terminado\n"
          ]
        }
      ]
    },
    {
      "cell_type": "code",
      "metadata": {
        "id": "7xh7Q-Cnagx5",
        "colab": {
          "base_uri": "https://localhost:8080/"
        },
        "outputId": "03302440-2035-4653-9b57-551e59a0aacf"
      },
      "source": [
        "print_bullet_points(bullet_points)"
      ],
      "execution_count": 38,
      "outputs": [
        {
          "output_type": "stream",
          "name": "stdout",
          "text": [
            "- “You may easily believe,” said\n",
            "he, “how great was the difficulty to persuade my father that all\n",
            "necessary knowledge was not comprised in the noble art of book-keeping;\n",
            "and, indeed, I believe I left him incredulous to the last, for his constant\n",
            "answer to my unwearied entreaties was the same as that of the Dutch\n",
            "schoolmaster in The Vicar of Wakefield: ‘I have ten thousand florins\n",
            "a year without Greek, I eat heartily without Greek.’ But his\n",
            "affection for me at length overcame his dislike of learning, and he has\n",
            "permitted me to undertake a voyage of discovery to the land of\n",
            "knowledge.”\n",
            "\n",
            "“It gives me the greatest delight to see you; but tell me how you left\n",
            "my father, brothers, and Elizabeth.”\n",
            "\n",
            "“Very well, and very happy, only a little uneasy that they hear from\n",
            "you so seldom.\n",
            "\n",
            "- But, my dear Frankenstein,” continued he, stopping\n",
            "short and gazing full in my face, “I did not before remark how very ill\n",
            "you appear; so thin and pale; you look as if you had been watching for\n",
            "several nights.”\n",
            "\n",
            "“You have guessed right; I have lately been so deeply engaged in one\n",
            "occupation that I have not allowed myself sufficient rest, as you see;\n",
            "but I hope, I sincerely hope, that all these employments are now at an\n",
            "end and that I am at length free.”\n",
            "\n",
            "I trembled excessively; I could not endure to think of, and far less to\n",
            "allude to, the occurrences of the preceding night.\n",
            "\n",
            "- His yellow skin scarcely covered\n",
            "the work of muscles and arteries beneath; his hair was of a lustrous\n",
            "black, and flowing; his teeth of a pearly whiteness; but these\n",
            "luxuriances only formed a more horrid contrast with his watery eyes,\n",
            "that seemed almost of the same colour as the dun-white sockets in which\n",
            "they were set, his shrivelled complexion and straight black lips.\n",
            "\n",
            "- Delighted and surprised, I embraced her,\n",
            "but as I imprinted the first kiss on her lips, they became livid with\n",
            "the hue of death; her features appeared to change, and I thought that I\n",
            "held the corpse of my dead mother in my arms; a shroud enveloped her\n",
            "form, and I saw the grave-worms crawling in the folds of the flannel.\n",
            "\n",
            "- I took refuge in the\n",
            "courtyard belonging to the house which I inhabited, where I remained\n",
            "during the rest of the night, walking up and down in the greatest\n",
            "agitation, listening attentively, catching and fearing each sound as if\n",
            "it were to announce the approach of the demoniacal corpse to which I\n",
            "had so miserably given life.\n",
            "\n"
          ]
        }
      ]
    },
    {
      "cell_type": "markdown",
      "metadata": {
        "id": "FZkOKPyqbPUy"
      },
      "source": [
        "# Ejercicios"
      ]
    },
    {
      "cell_type": "markdown",
      "metadata": {
        "id": "8FceaxoTbVgN"
      },
      "source": [
        "## Matriz de similitud entre oraciones\n",
        "\n",
        "Para la similitud entre las oraciones se uso el número de palabras que aparecen en ambas. **Reemplazar por similitud coseno** y comparar los resultados.\n",
        "\n",
        "Un muy buen primer acercamiento podría ser usando Latent Semantic Analysis y calcular la similitud coseno entre todos los documentos.\n",
        "\n",
        "Si tienen una DataFrame con las columnas ```[id_documento_1, id_documento_2, similitud]```, usar la función [```pandas.DataFrame.pivot```](https://pandas.pydata.org/docs/reference/api/pandas.DataFrame.pivot.html) puede ayudar a crear la matriz de similitud, dicha función toma como argumentos \"index\", \"columns\" y \"values\".\n",
        "\n",
        "\n"
      ]
    },
    {
      "cell_type": "markdown",
      "metadata": {
        "id": "HqBKwF5MfShn"
      },
      "source": [
        "## Idioma\n",
        "\n",
        "Este ejemplo esta hecho para texto en inglés por las stopwords que se usan y el radicalizador (PorterStemmer). Hacer los cambios necesarios para que reciba textos en español.\n",
        "\n",
        "Esto es, cambiar las stopwords (nltk tiene stopwords en español) y el radicalizador (Pista: ```nltk.stemmer``` tiene más radicalizadores y uno de ellos tienen un algoritmo para el español)"
      ]
    },
    {
      "cell_type": "markdown",
      "metadata": {
        "id": "zJt0u90fgAWH"
      },
      "source": [
        "## Oraciones vs. Palabras\n",
        "\n",
        "En este Notebook utilizamos las oraciones para obtener el resumen, de haber utilizado las palabras, de TextRank obtendríamos las palabras clave del texto. \n",
        "\n",
        "Implementar TextRank con palabras. Para la matriz de similitud (o adyacencias), se pueden ligar las palabras que son consecutivas o definir una ventana de k palabras consecutivas en cada oración (parecido a skip-gram) y ligar todas estas palabras. En este caso, la matriz A tendría la dimensión del vocabulario (lista de palabras únicas) y tendría un 1 si las palabras están ligadas.\n",
        "\n",
        "Una alternativa más sería ocupar un embedding de palabras (e.g. word2vec) y calcular la similitud coseno entre los vectores de cada palabra para llenas a A.\n",
        "\n",
        "Después de eso, todo sería lo mismo."
      ]
    },
    {
      "cell_type": "markdown",
      "metadata": {
        "id": "LdXDlhlAkkPt"
      },
      "source": [
        "## Resumen sobre un tema\n",
        "\n",
        "Aquí usamos sólo un documento para aplicarle TextRank. Podemos tener un corpus de documentos del mismo tema (e.g. noticias sobre el AIFA, etc) y aplicarlo para obtener los puntos importantes de todo el corpus.\n",
        "\n",
        "A la implementación actual no se le tiene que cambiar nada, sólo concatenar en una sola cadena de texto todo el corpus.\n",
        "\n",
        "Ejercicio: Construir un corpus con 4 artículos sobre un tema de interés, concatenarlos y pasarlo como parámetro a la función ```summary```."
      ]
    },
    {
      "cell_type": "markdown",
      "metadata": {
        "id": "sRPeC_Mjre7_"
      },
      "source": [
        "## Mejorar la función ```summary```\n",
        "\n",
        "Podemos dividir el código de la función para que funcionen como módulos y permita cierta libertad a la hora de ejecutarse. Por ejemplo, podríamos tener varias funciones que calculen la matriz A de diferentes maneras y que dentro de ```summary``` se ejecute una de tantas de acuerdo a un parámetro de la función.\n",
        "\n",
        "Ejercicio: Crear funciones para cada paso de ```summary```"
      ]
    },
    {
      "cell_type": "markdown",
      "metadata": {
        "id": "flM_zk_I0HAW"
      },
      "source": [
        "# Sobre la obtención de los valores de PageRank\n",
        "\n",
        "https://nlp.stanford.edu/IR-book/html/htmledition/the-pagerank-computation-1.html\n",
        "\n",
        "https://nlp.stanford.edu/IR-book/html/htmledition/markov-chains-1.html"
      ]
    }
  ]
}