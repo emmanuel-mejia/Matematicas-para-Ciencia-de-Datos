{
  "nbformat": 4,
  "nbformat_minor": 0,
  "metadata": {
    "colab": {
      "name": "semana6_Algebra_Textrank.ipynb",
      "provenance": [],
      "collapsed_sections": [],
      "include_colab_link": true
    },
    "kernelspec": {
      "name": "python3",
      "display_name": "Python 3"
    },
    "language_info": {
      "name": "python"
    }
  },
  "cells": [
    {
      "cell_type": "markdown",
      "metadata": {
        "id": "view-in-github",
        "colab_type": "text"
      },
      "source": [
        "<a href=\"https://colab.research.google.com/github/emmanuel-mejia/Matematicas-para-Ciencia-de-Datos/blob/main/semana6_Algebra_Textrank.ipynb\" target=\"_parent\"><img src=\"https://colab.research.google.com/assets/colab-badge.svg\" alt=\"Open In Colab\"/></a>"
      ]
    },
    {
      "cell_type": "markdown",
      "metadata": {
        "id": "ccYq5VAqlz-T"
      },
      "source": [
        "## Implementación de TextRank para la obtención de resúmenes"
      ]
    },
    {
      "cell_type": "markdown",
      "metadata": {
        "id": "QkXRhT3nlsuC"
      },
      "source": [
        "En este Notebook se implementará TextRank para obtener un resumen con las oraciones clave de todo un texto."
      ]
    },
    {
      "cell_type": "markdown",
      "metadata": {
        "id": "CDdVl3jFU6pW"
      },
      "source": [
        "# Dependencias"
      ]
    },
    {
      "cell_type": "code",
      "metadata": {
        "id": "m5panRZIU04F"
      },
      "source": [
        "%%capture\n",
        "!pip install wikipedia git+https://github.com/neuml/txtai#egg=txtai[pipeline]"
      ],
      "execution_count": 1,
      "outputs": []
    },
    {
      "cell_type": "code",
      "source": [
        "# PUEDE ser necesario utilizar una versión anterior de pillow\n",
        "!pip install Pillow==9.0.0"
      ],
      "metadata": {
        "id": "Lgm_83kCa_LO",
        "outputId": "3dc40342-b249-4f5d-dc00-f0863abf22cf",
        "colab": {
          "base_uri": "https://localhost:8080/",
          "height": 293
        }
      },
      "execution_count": 2,
      "outputs": [
        {
          "output_type": "stream",
          "name": "stdout",
          "text": [
            "Collecting Pillow==9.0.0\n",
            "  Using cached Pillow-9.0.0-cp37-cp37m-manylinux_2_17_x86_64.manylinux2014_x86_64.whl (4.3 MB)\n",
            "Installing collected packages: Pillow\n",
            "  Attempting uninstall: Pillow\n",
            "    Found existing installation: Pillow 9.1.0\n",
            "    Uninstalling Pillow-9.1.0:\n",
            "      Successfully uninstalled Pillow-9.1.0\n",
            "\u001b[31mERROR: pip's dependency resolver does not currently take into account all the packages that are installed. This behaviour is the source of the following dependency conflicts.\n",
            "albumentations 0.1.12 requires imgaug<0.2.7,>=0.2.5, but you have imgaug 0.2.9 which is incompatible.\u001b[0m\n",
            "Successfully installed Pillow-9.0.0\n"
          ]
        },
        {
          "output_type": "display_data",
          "data": {
            "application/vnd.colab-display-data+json": {
              "pip_warning": {
                "packages": [
                  "PIL"
                ]
              }
            }
          },
          "metadata": {}
        }
      ]
    },
    {
      "cell_type": "code",
      "metadata": {
        "id": "S_urJE6MrUmm"
      },
      "source": [
        "import re\n",
        "\n",
        "import pandas as pd\n",
        "import numpy as np\n",
        "import scipy.linalg as splinalg\n",
        "\n",
        "import nltk\n",
        "from nltk.tokenize import sent_tokenize, word_tokenize\n",
        "from nltk.corpus import stopwords\n",
        "from nltk.stem import PorterStemmer\n",
        "\n",
        "import wikipedia\n",
        "\n",
        "from txtai.pipeline import Translation"
      ],
      "execution_count": 1,
      "outputs": []
    },
    {
      "cell_type": "code",
      "metadata": {
        "id": "UxckIS4y1EMR",
        "outputId": "65bb4872-8bc7-4a44-a765-f11d1c97a708",
        "colab": {
          "base_uri": "https://localhost:8080/"
        }
      },
      "source": [
        "nltk.download(\"punkt\")\n",
        "nltk.download('stopwords')"
      ],
      "execution_count": 2,
      "outputs": [
        {
          "output_type": "stream",
          "name": "stderr",
          "text": [
            "[nltk_data] Downloading package punkt to /root/nltk_data...\n",
            "[nltk_data]   Unzipping tokenizers/punkt.zip.\n",
            "[nltk_data] Downloading package stopwords to /root/nltk_data...\n",
            "[nltk_data]   Unzipping corpora/stopwords.zip.\n"
          ]
        },
        {
          "output_type": "execute_result",
          "data": {
            "text/plain": [
              "True"
            ]
          },
          "metadata": {},
          "execution_count": 2
        }
      ]
    },
    {
      "cell_type": "code",
      "metadata": {
        "id": "Ov9GnghY7iv1"
      },
      "source": [
        "# Radicalizador\n",
        "stemmer = PorterStemmer()\n",
        "\n",
        "# Palabras de paro\n",
        "cached_stopwords = stopwords.words('english')\n",
        "cached_stopwords[:10]\n",
        "\n",
        "# Traductor\n",
        "translate = Translation()"
      ],
      "execution_count": 3,
      "outputs": []
    },
    {
      "cell_type": "markdown",
      "metadata": {
        "id": "WyYn_meLU_SE"
      },
      "source": [
        "# Datos"
      ]
    },
    {
      "cell_type": "markdown",
      "metadata": {
        "id": "rxh6OST4lp95"
      },
      "source": [
        "Los datos que ocuparemos serán el texto de páginas de Wikipedia. Descargaremos el texto ocupando el módulo [```wikipedia```](https://pypi.org/project/wikipedia/) que es un \"wrapper\" del API de Wikipedia. A este texto lo dividiremos en oraciones, procesaremos cada oración, radicalizaremos cada palabra, y aplicaremos TextRank para obtener las oraciones más importantes de todo el documento."
      ]
    },
    {
      "cell_type": "markdown",
      "metadata": {
        "id": "qpg8u735nGUj"
      },
      "source": [
        "## Lectura de los datos"
      ]
    },
    {
      "cell_type": "markdown",
      "metadata": {
        "id": "ADUkdhJmnQK0"
      },
      "source": [
        "Descargamos un artículos de Wikipedia."
      ]
    },
    {
      "cell_type": "code",
      "metadata": {
        "id": "JXH8g08gSHAO",
        "outputId": "262699f6-e6bd-484f-a7ce-8ba36b320761",
        "colab": {
          "base_uri": "https://localhost:8080/"
        }
      },
      "source": [
        "wiki = wikipedia.page('Expropiación del petróleo en México')\n",
        "book = wiki.content\n",
        "print(book)"
      ],
      "execution_count": 4,
      "outputs": [
        {
          "output_type": "stream",
          "name": "stdout",
          "text": [
            "The Mexican oil expropriation (Spanish: expropiación petrolera) was the nationalization of all petroleum reserves, facilities, and foreign oil companies in Mexico on March 18, 1938.  In accordance with Article 27 of the Constitution of 1917, President Lázaro Cárdenas declared that all mineral and oil reserves found within Mexico belong to \"the nation\", i.e., the federal government. The Mexican government established a state-owned petroleum company, Petróleos Mexicanos, or PEMEX.  For a short period, this measure caused an international boycott of Mexican products in the following years, especially by the United States, the United Kingdom, and the Netherlands, but with the outbreak of World War II and the alliance between Mexico and the Allies, the disputes with private companies over compensation were resolved. The anniversary, March 18, is now a Mexican civic holiday.\n",
            "\n",
            "\n",
            "== Background ==\n",
            "\n",
            "On August 16, 1935, the Petroleum Workers Union of Mexico (Sindicato de Trabajadores Petroleros de la República Mexicana) was formed and one of the first actions was the writing of a lengthy draft contract transmitted to the petroleum companies demanding a 40-hour working week, a full salary paid in the event of sickness, and the payment of 65 million pesos towards benefits and wages. The foreign oil companies refused to sign the agreement, and counter offered with a payment of 14 million pesos toward wages and benefits.On November 3, 1937, the union demanded that the companies sign the collective agreement and on May 17, the union summoned a strike in case their demands were not met. On May 28 the strike became effective throughout the country.\n",
            "The petroleum workers' struggle was well regarded by the President and the population despite problems caused by the petroleum shortage. Due to these problems, the union accepted a lift of the strike on June 9, after the president urged them to present their case before the General Arbitration and Conciliation Board (Junta General de Conciliación y Arbitraje). In July, as instructed by the arbitration board, a commission of financial experts was formed that investigated the petroleum companies' finances, concluding that their profits easily permitted them to cover the demands of the workers. The report stated that just one company (El Aguila) had received annual profits of over 55 million pesos. The arbitration board concluded that the oil companies should pay 26 million pesos for wages and benefits to the workers. \n",
            "The companies, however, insisted the demands would cripple production and bankrupt them, and refused to pay. The president once again intervened to mediate between the parties, and met with oil company representatives at the National Palace on September 2. In this meeting, one of the El Aguila representatives took issue with the description of it being a foreign company, and stated that El Aguila was a Mexican company. In response, Jesus Silva Herzog (present in the meeting) responded with a financial newspaper from London that cited a report from the Royal Dutch Shell of 1928: \"Our Mexican subsidiary, Oil Company El Aguila, has obtained good returns during the last fiscal cycle.\" It was also explained that El Aguila de Mexico would set the price of an oil barrel at 1.96 when sold to The Eagle Shipping company. This price was below the market value of US$3.19 per barrel. This way profits would be hidden to the Mexican treasury, and taxes were saved.\n",
            "\n",
            "But, on December 8, the companies hired other unemployed workers and had not responded to the arbitration board. On December 18, 1937, the board gave a verdict in favor of the union by means of a \"laudo\" (binding judgment in arbitration) which demanded that the companies fulfil the requirements of the petitions and pay 26 million pesos in lost salaries. The petroleum companies initiated a lawsuit on January 2, 1938 before the Mexican Supreme Court to protect their property from the labor union and arbitration board, which denied the request.\n",
            "Consequently, the foreign companies rebelled against the imposed contract, and the maximum Judicial Authority responded by rendering a decision on March 1, giving the companies until March 7 to pay the 26 million pesos penalty.\n",
            "In 1935, all companies in the business of extraction, processing, and exporting of oil in Mexico were foreign companies with foreign capital. These companies attempted to block the creation of labor unions and used legal and illegal tactics to do so. However, the creation of individual unions within each company was made possible, but work conditions differed from one another.\n",
            "On December 27, 1935, the Sindicato Único de Trabajadores Petroleros was created, despite the legal opposition in the states of Tamaulipas and Veracruz. On January 29, 1936, this union joined the Comité de Defensa Proletaria (\"Committee of Proletarian Defense\") which would become in February the Confederation of Mexican Workers (CTM). On July 20, the union celebrated its first convention, in which it was proposed a project of general contracts for each oil company and it was decided on a strike to push towards an agreement.\n",
            "Lázaro Cárdenas intervened between the union and the oil companies in order to force an agreement on the contract. The strike was delayed for six months, but the companies never agreed to the contract and on May 28, the strike took place. The entire country was paralyzed for 12 days, with consumers unable to buy gasoline. Cárdenas convinced the union to end the strike until a decision by the companies could be made. However, the companies declared themselves unable to meet the demands because of financial problems. Cárdenas ordered an investigation and on August 3, and the findings were that the Mexican oil industry produced higher returns than the U.S. oil industry.\n",
            "\n",
            "\n",
            "== Legal conflicts ==\n",
            "After the publication of the findings, the oil companies threatened to leave Mexico and take all of their capital with them. The government entity in charge of the conflict between these companies and the union, the Junta Federal de Conciliación y Arbitraje (Federal Conciliation and Arbitration Board), was not able to make a decision quickly and the union declared a 24-hour strike in protest on December 8.\n",
            "On December 18, the Arbitration Board declared in favor of the union. The oil companies had to pay 26 million pesos of wages lost because of the strike, but they appealed to the Supreme Court. The Supreme Court then rejected the appeal and ordered them to raise salaries and improve working conditions for the union members. The oil companies protested this decision and President Cárdenas mediated a compromise; the union would accept 26 million pesos. Cárdenas offered to end the strike if the oil companies paid the sum. According to witnesses of this meeting, representatives of the oil companies asked the President \"Who can guarantee that the strike will be over\", to which the President replied \"I, the President of the Republic.\" After the businessmen asked with sarcasm \"You?\" President Cárdenas ended the meeting saying \"Sirs, we are finished!\". Cárdenas moved to expropriate the oil industry and create a national oil company, PEMEX.\n",
            "\n",
            "\n",
            "== Oil Expropriation Day, March 18, 1938 ==\n",
            "On March 18, 1938 President Cárdenas embarked on the expropriation of all oil resources and facilities by the state, nationalizing the U.S. and Anglo-Dutch (Mexican Eagle Petroleum Company) operating companies. Two hours before informing his cabinet of his decision, he made the announcement on the radio to the rest of the country. Five days later, a crowd of 200,000 (according to the press) rallied in the zócalo in support of Cárdenas's action. On April 12, 1938, a crowd of thousands of all classes gathered in front of the Palacio de Bellas Artes to make donations to pay the debt to foreign companies. Donations varied from chickens to jewelry. (see photo).\n",
            "On June 7, 1938, President Cárdenas issued a decree creating Petróleos Mexicanos (PEMEX), with exclusive rights over exploration, extraction, refining, and commercialization of oil in Mexico. On June 20, PEMEX started operations.\n",
            "\n",
            "\n",
            "== Opposition ==\n",
            "\n",
            "\n",
            "=== International ===\n",
            "In retaliation, the oil companies initiated a public relations campaign against Mexico, urging people to stop buying Mexican goods and lobbying to embargo U.S. technology to Mexico. Many foreign governments closed their markets to Mexican oil, hoping that PEMEX would drown in its own oil. However, the U.S. government of Franklin Delano Roosevelt had issued the Good Neighbor Policy, aiming to recalibrate U.S.-Latin American relations; the U.S. government did not intervene to aid U.S. oil companies affected by the Mexican  expropriation. Mexican finances suffered due to the boycott, the Mexican peso was devalued, and an immediate 20% increase in prices was suffered by the Mexican population. In a trip to New York to negotiate with oil companies,  Mexican treasury minister, Suarez, serendipitously met an American intermediate, William Rhodes Davis from Davis Oil Company, who had a refinery in Europe, and asked for a collaboration. Davis mediated between Mexico and Germany to a barter agreement where Mexico would give crude oil to Davis, who then would provide refined oil products to Germany in exchange for machinery to Mexico. By 1940, Mexico had an agreement with the American Sinclair Oil Corporation to sell crude oil to the U.S, and the full-scale war in Europe guaranteed that Mexican oil would have international customers. PEMEX developed into one of the largest oil companies in the world and helped Mexico become the world's seventh-largest oil exporter.\n",
            "\n",
            "\n",
            "=== Domestic ===\n",
            "Saturnino Cedillo, a cacique from San Luis Potosí and former Secretary of Agriculture, showed the strongest opposition to Cárdenas's measures. Cedillo had in the past supported Cárdenas in a conflict with ex-President Plutarco Elías Calles, but disagreed with his plan of reforms. On May 15 of the same year, the state congress of San Luis Potosí issued a decree where it refused to recognize Cárdenas as President and declared that the expropiación petrolera did not benefit the economy of Mexico. Cárdenas did not consider this a serious threat and minimized efforts to suppress the rebellion, instead choosing persuasion. The US government did not support the rebellion because it was more concerned that fascist and communist movements from Europe would spread to Mexico.\n",
            "The key to the success of the measures taken by Cárdenas was not just to control the opposition, but to keep afloat an industry in the absence of qualified personnel. The government had to depend on the Sindicato de Trabajadores Petroleros de la República Mexicana (STPRM, or the Union of Oil Workers of the Mexican Republic) to resolve disagreements over the management of oil resources, and deal with threats of strikes and sabotage. In spite of these and technical challenges, local workers who replaced the foreign technicians were successful in making the new nationalized oil industry work. Josephus Daniels, U.S. ambassador to Mexico, explained to President Franklin D. Roosevelt and Secretary of State Cordell Hull that Cárdenas' reforms could not be undone, since his position as president and the position of PEMEX were secure.\n",
            "Critics of the expropriation point out that since Pemex took control of the nation's petroleum, the company has been rife with corruption through every administration since that of Cárdenas, including both the PRI (Partido Revolucionario Institucional) and the PAN (Partido Accion Nacional). In addition, the casus belli of the expropriation was a wage hike of 26 million pesos. In fact, in the aftermath, not only was the promised wage hike postponed indefinitely, wages were actually cut.\n",
            "\n",
            "\n",
            "== See also ==\n",
            "\n",
            "Nationalization of oil supplies\n",
            "Economic nationalism\n",
            "Petroleum industry in Mexico\n",
            "\n",
            "\n",
            "== References ==\n",
            "\n",
            "\n",
            "== Further reading ==\n",
            "Brown, Jonathan C. Oil and Revolution in Mexico. Berkeley: University of California Press 1993.\n",
            "Brown, Jonathan C. and Alan Knight, eds.  The Mexican Petroleum Industry in the Twentieth Century. Austin: University of Texas Press 1992.\n",
            "Gordon, Wendell. The Expropriation of Foreign-Owned Property in Mexico (1941)\n",
            "Hall, Linda B. Oil, Banks, and Politics: the United States and Postrevolutionary Mexico, 1917-1924. Austin: University of Texas Press 1995.\n",
            "Jayne, Catherine E. Oil, war, and Anglo-American relations: American and British reactions to Mexico's expropriation of foreign oil properties, 1937-1941 (Praeger, 2001)\n",
            "Maurer, Noel. \"The empire struck back: sanctions and compensation in the Mexican oil expropriation of 1938.\" Journal of Economic History 71.03 (2011): 590–615. online\n",
            "Meyer, Lorenzo. Mexico and the United States in the oil controversy, 1917–1942 (University of Texas Press, 2014)\n",
            "Rippy, Merrill. Oil and the Mexican Revolution. Leiden: Brill 1972.\n",
            "Wirth, John D., ed. Latin American Oil Companies and the Politics of Energy. Lincoln: University of Nebraska Press 1985.\n"
          ]
        }
      ]
    },
    {
      "cell_type": "markdown",
      "metadata": {
        "id": "V9o2M4-23kIo"
      },
      "source": [
        "## Procesamiento"
      ]
    },
    {
      "cell_type": "markdown",
      "metadata": {
        "id": "cQTst86Zm5Ew"
      },
      "source": [
        "Dividimos el texto en oraciones."
      ]
    },
    {
      "cell_type": "code",
      "metadata": {
        "id": "UudewwgC0npT"
      },
      "source": [
        "sentences = [x for x in sent_tokenize(book)]\n",
        "print(f\"# oraciones: {len(sentences)}\")\n",
        "for sentence in sentences[:3]:\n",
        "    print(sentence)\n",
        "    print()\n",
        "    print(\"...Fin de la oración...\")\n",
        "    print()\n"
      ],
      "execution_count": null,
      "outputs": []
    },
    {
      "cell_type": "markdown",
      "metadata": {
        "id": "VX8wBpNYnUV1"
      },
      "source": [
        "convertimos a minúsculas, eliminamos stopwords, eliminamos signos de puntuación y radicalizamos."
      ]
    },
    {
      "cell_type": "code",
      "metadata": {
        "id": "HhJPqlaB5fh6"
      },
      "source": [
        "sent_low = [[stemmer.stem(re.sub('[^a-z]', \"\", word.lower())) for word in word_tokenize(sentence) if word not in cached_stopwords and len(word) > 2] for sentence in sentences]\n",
        "sent_low[1]"
      ],
      "execution_count": null,
      "outputs": []
    },
    {
      "cell_type": "markdown",
      "metadata": {
        "id": "NuWhLrCHngIg"
      },
      "source": [
        "# TextRank"
      ]
    },
    {
      "cell_type": "markdown",
      "metadata": {
        "id": "7FqpDqoADzub"
      },
      "source": [
        "Construimos la matriz de adyacencias/similitud A entre las oraciones, tomando el número de palabras que están en ambas como la similitud entre las dos oraciones."
      ]
    },
    {
      "cell_type": "code",
      "metadata": {
        "id": "9-8lePsd8th-"
      },
      "source": [
        "A = np.zeros((len(sent_low), len(sent_low)))\n",
        "\n",
        "for i in range(len(sentences)):\n",
        "    if i % 100 == 0:\n",
        "        print(i, end=\", \")\n",
        "        if i % 1000 == 0:\n",
        "            print()\n",
        "    for j in range(i+1, len(sentences)):\n",
        "        # La simillitud entre oraciones va a ser el número de palabras que tienen en común\n",
        "        A[i][j] = A[j][i] = len([x for x in sentences[i] if x in sentences[j]])"
      ],
      "execution_count": null,
      "outputs": []
    },
    {
      "cell_type": "markdown",
      "metadata": {
        "id": "p9s5rI9roNPv"
      },
      "source": [
        "Así es como se ve un fragmento de la matriz A."
      ]
    },
    {
      "cell_type": "code",
      "metadata": {
        "id": "uvFYbKI48tdr"
      },
      "source": [
        "A[:5, :5]"
      ],
      "execution_count": null,
      "outputs": []
    },
    {
      "cell_type": "markdown",
      "metadata": {
        "id": "OoJlPw_ToUdh"
      },
      "source": [
        "Normalizamos las columnas de A"
      ]
    },
    {
      "cell_type": "code",
      "metadata": {
        "id": "8oNFWIjZ8tbP"
      },
      "source": [
        "# Comparamos las oraciones unas con otras, pero no consigo mismas\n",
        "suma = np.sum(A, axis=0)\n",
        "A_norm = np.divide(A, suma, where=suma!=0)\n",
        "A_norm[:5, :5]"
      ],
      "execution_count": null,
      "outputs": []
    },
    {
      "cell_type": "markdown",
      "metadata": {
        "id": "YIdFEIv2KlDT"
      },
      "source": [
        "Se crea el vector de TextRank con unos y se itera hasta que converja. Es decir, hasta que obtengamos $\\Pi$ tal que $$\\Pi = A~\\Pi$$ "
      ]
    },
    {
      "cell_type": "code",
      "source": [
        "np.set_printoptions(suppress=True)"
      ],
      "metadata": {
        "id": "wSg8un2uxyz3"
      },
      "execution_count": null,
      "outputs": []
    },
    {
      "cell_type": "code",
      "metadata": {
        "id": "LUfmpayQKaCA"
      },
      "source": [
        "tol = 1e-7\n",
        "\n",
        "PI_ = np.ones(A_norm.shape[1])\n",
        "    \n",
        "i = 0\n",
        "while True:\n",
        "    pi_ = A_norm.dot(PI_)\n",
        "    print(i, abs(PI_- pi_).sum()) \n",
        "    if np.allclose(PI_, pi_, tol):\n",
        "        break\n",
        "    i += 1\n",
        "    PI_ = pi_"
      ],
      "execution_count": null,
      "outputs": []
    },
    {
      "cell_type": "markdown",
      "metadata": {
        "id": "QnTTffzbv2G0"
      },
      "source": [
        "Alternativamente, podemos obtener los eigenvectores izquierdos de nuestra matriz A_norm. Los valores de PageRank corresponden al vector de probabilidades del estado estacionario de la matriz A que a su vez es el eigenvector izquierdo con eigenvalor asociado 1.\n",
        "\n",
        "$$\\Pi = \\Pi A^T$$"
      ]
    },
    {
      "cell_type": "code",
      "metadata": {
        "id": "2fjuQ_v_vE-O"
      },
      "source": [
        "_, vecs = splinalg.eig(A_norm.T, left=True, right=False)"
      ],
      "execution_count": null,
      "outputs": []
    },
    {
      "cell_type": "code",
      "metadata": {
        "id": "Qn60EkbGzARy"
      },
      "source": [
        "pi_ = vecs[:, 0]\n",
        "pi_"
      ],
      "execution_count": null,
      "outputs": []
    },
    {
      "cell_type": "markdown",
      "metadata": {
        "id": "Y4XCjrheqzkz"
      },
      "source": [
        "Obtenemos los índices de los k valores más grandes en $\\Pi$ y los usamos para obtener las oraciones más relevantes."
      ]
    },
    {
      "cell_type": "code",
      "metadata": {
        "id": "4nzzWurm0_O2"
      },
      "source": [
        "k = 10\n",
        "pi_.argsort()[-k:][::-1]"
      ],
      "execution_count": null,
      "outputs": []
    },
    {
      "cell_type": "code",
      "metadata": {
        "id": "RryDhNr5OfJ5"
      },
      "source": [
        "summary = [sentences[idx] for idx in pi_.argsort()[-k:][::-1]]"
      ],
      "execution_count": null,
      "outputs": []
    },
    {
      "cell_type": "code",
      "source": [
        "summary"
      ],
      "metadata": {
        "id": "iACleNaJDRHu"
      },
      "execution_count": null,
      "outputs": []
    },
    {
      "cell_type": "markdown",
      "metadata": {
        "id": "DpekkaIIrFbJ"
      },
      "source": [
        "Por último, sólo queda ver qué considero TextRank como las oraciones más importantes."
      ]
    },
    {
      "cell_type": "code",
      "metadata": {
        "id": "wAqh4QdWOh1r"
      },
      "source": [
        "for bullet in summary:\n",
        "    print('___________')\n",
        "    print(bullet)"
      ],
      "execution_count": null,
      "outputs": []
    },
    {
      "cell_type": "markdown",
      "metadata": {
        "id": "xN21ZGHrrKY4"
      },
      "source": [
        "Podemos traducir la salida."
      ]
    },
    {
      "cell_type": "code",
      "metadata": {
        "id": "7vpw3FScPo2L"
      },
      "source": [
        "# Aprox 34 seg las primeras 10 oraciones\n",
        "for bullet in summary:\n",
        "    print()\n",
        "    print(translate(bullet, \"es\"))"
      ],
      "execution_count": null,
      "outputs": []
    },
    {
      "cell_type": "markdown",
      "metadata": {
        "id": "sroGaAJSrNER"
      },
      "source": [
        "# Función para crear resúmenes"
      ]
    },
    {
      "cell_type": "markdown",
      "metadata": {
        "id": "o8TBd5q7rSmS"
      },
      "source": [
        "Podemos condensar todo lo anterior en una función que reciba texto y nos regrese las oraciones más relevantes de acuerdo a TextRank."
      ]
    },
    {
      "cell_type": "code",
      "metadata": {
        "id": "ACFufGGmXwCP"
      },
      "source": [
        "def summary(text, k, to_spanish = True, tol = 1e-5, d = .15, eig = False):\n",
        "    print(\"Paso 1. Obteniendo oraciones\")\n",
        "    sentences = [x for x in sent_tokenize(text)]\n",
        "\n",
        "    print(f\"# oraciones: {len(sentences)}\")\n",
        "    \n",
        "    print(\"Paso 2. Procesando texto\")\n",
        "    sent_low = [[stemmer.stem(re.sub('[^a-z]', \"\", word.lower())) for word in word_tokenize(sentence) if word not in cached_stopwords and len(word) > 2] for sentence in sentences]\n",
        "    \n",
        "    print(\"Paso 3. Creando matriz de similitud\")\n",
        "    A = np.zeros((len(sent_low), len(sent_low)))\n",
        "    \n",
        "    for i in range(len(sentences)):\n",
        "        for j in range(i+1, len(sentences)):\n",
        "            # La simillitud entre oraciones va a ser el número de palabras que tienen en común\n",
        "            A[i][j] = A[j][i] = len([x for x in sentences[i] if x in sentences[j]])\n",
        "\n",
        "    print(\"Paso 4. Normalizando matriz de similitud\")   \n",
        "    suma = np.sum(A, axis=0)\n",
        "    A_norm = np.divide(A, suma, where=suma!=0)\n",
        "    \n",
        "    print(\"Paso 5. Ejecutando TextRank\")\n",
        "    if eig:\n",
        "        vals, vecs = splinalg.eig(A_norm.T, left=True, right=False)\n",
        "        pi_ = vecs[:, 0]\n",
        "    else:\n",
        "        PI_ = np.ones(A_norm.shape[1])\n",
        "        \n",
        "        while True:\n",
        "            pi_ = A_norm.dot(PI_)\n",
        "            if np.allclose(PI_, pi_, tol):\n",
        "                break\n",
        "            PI_ = pi_\n",
        "\n",
        "    print(\"\\tPaso 5. Terminado\")\n",
        "\n",
        "    if not to_spanish:\n",
        "        return [sentences[idx] for idx in pi_.argsort()[-k:][::-1]]\n",
        "\n",
        "    print(\"Paso 6. Traduciendo\")\n",
        "    return [translate(sentences[idx], \"es\") for idx in pi_.argsort()[-k:][::-1]]\n",
        "\n",
        "def print_bullet_points(bullet_points):\n",
        "    for point in bullet_points:\n",
        "        print(f\"- {point}\\n\")\n"
      ],
      "execution_count": null,
      "outputs": []
    },
    {
      "cell_type": "code",
      "metadata": {
        "id": "ShmZc9RaYuh3"
      },
      "source": [
        "wiki = wikipedia.page('Automatic summarization')\n",
        "text = wiki.content\n",
        "bullet_points = summary(text, 5, False, eig = False)"
      ],
      "execution_count": null,
      "outputs": []
    },
    {
      "cell_type": "code",
      "metadata": {
        "id": "14--hdHdZNkW"
      },
      "source": [
        "print_bullet_points(bullet_points)"
      ],
      "execution_count": null,
      "outputs": []
    },
    {
      "cell_type": "code",
      "metadata": {
        "id": "z6PnPJkMZ_E9"
      },
      "source": [
        "!wget https://www.gutenberg.org/files/84/84-0.txt -O book.txt"
      ],
      "execution_count": null,
      "outputs": []
    },
    {
      "cell_type": "code",
      "metadata": {
        "id": "meluoUwsaDSK"
      },
      "source": [
        "with open(\"book.txt\") as f:\n",
        "    book_raw = f.read()\n",
        "print(book_raw[0:1000])"
      ],
      "execution_count": null,
      "outputs": []
    },
    {
      "cell_type": "code",
      "source": [
        "start = book_raw.rfind(\"Chapter 5\\n\")\n",
        "end = book_raw.rfind('Chapter 6\\n')"
      ],
      "metadata": {
        "id": "DymBfakBWb9G"
      },
      "execution_count": null,
      "outputs": []
    },
    {
      "cell_type": "code",
      "source": [
        "chapter_n = book_raw[start + len(\"Chapter 5\\n\"): end]"
      ],
      "metadata": {
        "id": "hGk5g4H6Xo8l"
      },
      "execution_count": null,
      "outputs": []
    },
    {
      "cell_type": "code",
      "metadata": {
        "id": "ghILIorhaQWp"
      },
      "source": [
        "bullet_points = summary(chapter_n, 5, False, eig = True)"
      ],
      "execution_count": null,
      "outputs": []
    },
    {
      "cell_type": "code",
      "metadata": {
        "id": "7xh7Q-Cnagx5"
      },
      "source": [
        "print_bullet_points(bullet_points)"
      ],
      "execution_count": null,
      "outputs": []
    },
    {
      "cell_type": "markdown",
      "metadata": {
        "id": "FZkOKPyqbPUy"
      },
      "source": [
        "# Ejercicios"
      ]
    },
    {
      "cell_type": "markdown",
      "metadata": {
        "id": "8FceaxoTbVgN"
      },
      "source": [
        "## Matriz de similitud entre oraciones\n",
        "\n",
        "Para la similitud entre las oraciones se uso el número de palabras que aparecen en ambas. **Reemplazar por similitud coseno** y comparar los resultados.\n",
        "\n",
        "Un muy buen primer acercamiento podría ser usando Latent Semantic Analysis y calcular la similitud coseno entre todos los documentos.\n",
        "\n",
        "Si tienen una DataFrame con las columnas ```[id_documento_1, id_documento_2, similitud]```, usar la función [```pandas.DataFrame.pivot```](https://pandas.pydata.org/docs/reference/api/pandas.DataFrame.pivot.html) puede ayudar a crear la matriz de similitud, dicha función toma como argumentos \"index\", \"columns\" y \"values\".\n",
        "\n",
        "\n"
      ]
    },
    {
      "cell_type": "markdown",
      "metadata": {
        "id": "HqBKwF5MfShn"
      },
      "source": [
        "## Idioma\n",
        "\n",
        "Este ejemplo esta hecho para texto en inglés por las stopwords que se usan y el radicalizador (PorterStemmer). Hacer los cambios necesarios para que reciba textos en español.\n",
        "\n",
        "Esto es, cambiar las stopwords (nltk tiene stopwords en español) y el radicalizador (Pista: ```nltk.stemmer``` tiene más radicalizadores y uno de ellos tienen un algoritmo para el español)"
      ]
    },
    {
      "cell_type": "markdown",
      "metadata": {
        "id": "zJt0u90fgAWH"
      },
      "source": [
        "## Oraciones vs. Palabras\n",
        "\n",
        "En este Notebook utilizamos las oraciones para obtener el resumen, de haber utilizado las palabras, de TextRank obtendríamos las palabras clave del texto. \n",
        "\n",
        "Implementar TextRank con palabras. Para la matriz de similitud (o adyacencias), se pueden ligar las palabras que son consecutivas o definir una ventana de k palabras consecutivas en cada oración (parecido a skip-gram) y ligar todas estas palabras. En este caso, la matriz A tendría la dimensión del vocabulario (lista de palabras únicas) y tendría un 1 si las palabras están ligadas.\n",
        "\n",
        "Una alternativa más sería ocupar un embedding de palabras (e.g. word2vec) y calcular la similitud coseno entre los vectores de cada palabra para llenas a A.\n",
        "\n",
        "Después de eso, todo sería lo mismo."
      ]
    },
    {
      "cell_type": "markdown",
      "metadata": {
        "id": "LdXDlhlAkkPt"
      },
      "source": [
        "## Resumen sobre un tema\n",
        "\n",
        "Aquí usamos sólo un documento para aplicarle TextRank. Podemos tener un corpus de documentos del mismo tema (e.g. noticias sobre el AIFA, etc) y aplicarlo para obtener los puntos importantes de todo el corpus.\n",
        "\n",
        "A la implementación actual no se le tiene que cambiar nada, sólo concatenar en una sola cadena de texto todo el corpus.\n",
        "\n",
        "Ejercicio: Construir un corpus con 4 artículos sobre un tema de interés, concatenarlos y pasarlo como parámetro a la función ```summary```."
      ]
    },
    {
      "cell_type": "markdown",
      "metadata": {
        "id": "sRPeC_Mjre7_"
      },
      "source": [
        "## Mejorar la función ```summary```\n",
        "\n",
        "Podemos dividir el código de la función para que funcionen como módulos y permita cierta libertad a la hora de ejecutarse. Por ejemplo, podríamos tener varias funciones que calculen la matriz A de diferentes maneras y que dentro de ```summary``` se ejecute una de tantas de acuerdo a un parámetro de la función.\n",
        "\n",
        "Ejercicio: Crear funciones para cada paso de ```summary```"
      ]
    },
    {
      "cell_type": "markdown",
      "metadata": {
        "id": "flM_zk_I0HAW"
      },
      "source": [
        "# Sobre la obtención de los valores de PageRank\n",
        "\n",
        "https://nlp.stanford.edu/IR-book/html/htmledition/the-pagerank-computation-1.html\n",
        "\n",
        "https://nlp.stanford.edu/IR-book/html/htmledition/markov-chains-1.html"
      ]
    }
  ]
}