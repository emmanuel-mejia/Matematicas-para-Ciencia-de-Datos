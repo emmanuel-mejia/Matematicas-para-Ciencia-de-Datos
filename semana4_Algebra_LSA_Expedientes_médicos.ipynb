{
  "nbformat": 4,
  "nbformat_minor": 0,
  "metadata": {
    "colab": {
      "name": "semana4_Algebra_LSA_Expedientes-médicos.ipynb",
      "provenance": [],
      "collapsed_sections": [],
      "include_colab_link": true
    },
    "kernelspec": {
      "display_name": "Python 3",
      "name": "python3"
    }
  },
  "cells": [
    {
      "cell_type": "markdown",
      "metadata": {
        "id": "view-in-github",
        "colab_type": "text"
      },
      "source": [
        "<a href=\"https://colab.research.google.com/github/emmanuel-mejia/Matematicas-para-Ciencia-de-Datos/blob/main/semana4_Algebra_LSA_Expedientes_m%C3%A9dicos.ipynb\" target=\"_parent\"><img src=\"https://colab.research.google.com/assets/colab-badge.svg\" alt=\"Open In Colab\"/></a>"
      ]
    },
    {
      "cell_type": "markdown",
      "metadata": {
        "id": "OJofLsOdsCI0"
      },
      "source": [
        "# Importar bibliotecas"
      ]
    },
    {
      "cell_type": "code",
      "metadata": {
        "id": "nXKOejTBvV-t",
        "colab": {
          "base_uri": "https://localhost:8080/"
        },
        "outputId": "820b8623-e86f-44ca-da43-7e5fd7cb8ddb"
      },
      "source": [
        "import pandas as pd\n",
        "import numpy as np\n",
        "\n",
        "from scipy.linalg import sqrtm\n",
        "from scipy.sparse.linalg import svds  #svd estableciendo k << r\n",
        "\n",
        "#preprocesar texto\n",
        "import nltk\n",
        "from nltk.corpus import stopwords\n",
        "from nltk.stem import WordNetLemmatizer, PorterStemmer\n",
        "import re\n",
        "\n",
        "nltk.download('stopwords')\n",
        "nltk.download('wordnet')  #WordNetLemmatizer\n",
        "\n",
        "#construccion de bolsa de palabras\n",
        "\n",
        "from sklearn.feature_extraction.text import CountVectorizer, TfidfVectorizer \n",
        "import matplotlib.pyplot as plt"
      ],
      "execution_count": 1,
      "outputs": [
        {
          "output_type": "stream",
          "name": "stdout",
          "text": [
            "[nltk_data] Downloading package stopwords to /root/nltk_data...\n",
            "[nltk_data]   Unzipping corpora/stopwords.zip.\n",
            "[nltk_data] Downloading package wordnet to /root/nltk_data...\n",
            "[nltk_data]   Unzipping corpora/wordnet.zip.\n"
          ]
        }
      ]
    },
    {
      "cell_type": "code",
      "source": [
        "stopwords.words('spanish')"
      ],
      "metadata": {
        "id": "FSrT8UPQD7c6",
        "colab": {
          "base_uri": "https://localhost:8080/"
        },
        "outputId": "1a88f056-55d2-4278-d269-8fb26c603223"
      },
      "execution_count": 2,
      "outputs": [
        {
          "output_type": "execute_result",
          "data": {
            "text/plain": [
              "['de',\n",
              " 'la',\n",
              " 'que',\n",
              " 'el',\n",
              " 'en',\n",
              " 'y',\n",
              " 'a',\n",
              " 'los',\n",
              " 'del',\n",
              " 'se',\n",
              " 'las',\n",
              " 'por',\n",
              " 'un',\n",
              " 'para',\n",
              " 'con',\n",
              " 'no',\n",
              " 'una',\n",
              " 'su',\n",
              " 'al',\n",
              " 'lo',\n",
              " 'como',\n",
              " 'más',\n",
              " 'pero',\n",
              " 'sus',\n",
              " 'le',\n",
              " 'ya',\n",
              " 'o',\n",
              " 'este',\n",
              " 'sí',\n",
              " 'porque',\n",
              " 'esta',\n",
              " 'entre',\n",
              " 'cuando',\n",
              " 'muy',\n",
              " 'sin',\n",
              " 'sobre',\n",
              " 'también',\n",
              " 'me',\n",
              " 'hasta',\n",
              " 'hay',\n",
              " 'donde',\n",
              " 'quien',\n",
              " 'desde',\n",
              " 'todo',\n",
              " 'nos',\n",
              " 'durante',\n",
              " 'todos',\n",
              " 'uno',\n",
              " 'les',\n",
              " 'ni',\n",
              " 'contra',\n",
              " 'otros',\n",
              " 'ese',\n",
              " 'eso',\n",
              " 'ante',\n",
              " 'ellos',\n",
              " 'e',\n",
              " 'esto',\n",
              " 'mí',\n",
              " 'antes',\n",
              " 'algunos',\n",
              " 'qué',\n",
              " 'unos',\n",
              " 'yo',\n",
              " 'otro',\n",
              " 'otras',\n",
              " 'otra',\n",
              " 'él',\n",
              " 'tanto',\n",
              " 'esa',\n",
              " 'estos',\n",
              " 'mucho',\n",
              " 'quienes',\n",
              " 'nada',\n",
              " 'muchos',\n",
              " 'cual',\n",
              " 'poco',\n",
              " 'ella',\n",
              " 'estar',\n",
              " 'estas',\n",
              " 'algunas',\n",
              " 'algo',\n",
              " 'nosotros',\n",
              " 'mi',\n",
              " 'mis',\n",
              " 'tú',\n",
              " 'te',\n",
              " 'ti',\n",
              " 'tu',\n",
              " 'tus',\n",
              " 'ellas',\n",
              " 'nosotras',\n",
              " 'vosotros',\n",
              " 'vosotras',\n",
              " 'os',\n",
              " 'mío',\n",
              " 'mía',\n",
              " 'míos',\n",
              " 'mías',\n",
              " 'tuyo',\n",
              " 'tuya',\n",
              " 'tuyos',\n",
              " 'tuyas',\n",
              " 'suyo',\n",
              " 'suya',\n",
              " 'suyos',\n",
              " 'suyas',\n",
              " 'nuestro',\n",
              " 'nuestra',\n",
              " 'nuestros',\n",
              " 'nuestras',\n",
              " 'vuestro',\n",
              " 'vuestra',\n",
              " 'vuestros',\n",
              " 'vuestras',\n",
              " 'esos',\n",
              " 'esas',\n",
              " 'estoy',\n",
              " 'estás',\n",
              " 'está',\n",
              " 'estamos',\n",
              " 'estáis',\n",
              " 'están',\n",
              " 'esté',\n",
              " 'estés',\n",
              " 'estemos',\n",
              " 'estéis',\n",
              " 'estén',\n",
              " 'estaré',\n",
              " 'estarás',\n",
              " 'estará',\n",
              " 'estaremos',\n",
              " 'estaréis',\n",
              " 'estarán',\n",
              " 'estaría',\n",
              " 'estarías',\n",
              " 'estaríamos',\n",
              " 'estaríais',\n",
              " 'estarían',\n",
              " 'estaba',\n",
              " 'estabas',\n",
              " 'estábamos',\n",
              " 'estabais',\n",
              " 'estaban',\n",
              " 'estuve',\n",
              " 'estuviste',\n",
              " 'estuvo',\n",
              " 'estuvimos',\n",
              " 'estuvisteis',\n",
              " 'estuvieron',\n",
              " 'estuviera',\n",
              " 'estuvieras',\n",
              " 'estuviéramos',\n",
              " 'estuvierais',\n",
              " 'estuvieran',\n",
              " 'estuviese',\n",
              " 'estuvieses',\n",
              " 'estuviésemos',\n",
              " 'estuvieseis',\n",
              " 'estuviesen',\n",
              " 'estando',\n",
              " 'estado',\n",
              " 'estada',\n",
              " 'estados',\n",
              " 'estadas',\n",
              " 'estad',\n",
              " 'he',\n",
              " 'has',\n",
              " 'ha',\n",
              " 'hemos',\n",
              " 'habéis',\n",
              " 'han',\n",
              " 'haya',\n",
              " 'hayas',\n",
              " 'hayamos',\n",
              " 'hayáis',\n",
              " 'hayan',\n",
              " 'habré',\n",
              " 'habrás',\n",
              " 'habrá',\n",
              " 'habremos',\n",
              " 'habréis',\n",
              " 'habrán',\n",
              " 'habría',\n",
              " 'habrías',\n",
              " 'habríamos',\n",
              " 'habríais',\n",
              " 'habrían',\n",
              " 'había',\n",
              " 'habías',\n",
              " 'habíamos',\n",
              " 'habíais',\n",
              " 'habían',\n",
              " 'hube',\n",
              " 'hubiste',\n",
              " 'hubo',\n",
              " 'hubimos',\n",
              " 'hubisteis',\n",
              " 'hubieron',\n",
              " 'hubiera',\n",
              " 'hubieras',\n",
              " 'hubiéramos',\n",
              " 'hubierais',\n",
              " 'hubieran',\n",
              " 'hubiese',\n",
              " 'hubieses',\n",
              " 'hubiésemos',\n",
              " 'hubieseis',\n",
              " 'hubiesen',\n",
              " 'habiendo',\n",
              " 'habido',\n",
              " 'habida',\n",
              " 'habidos',\n",
              " 'habidas',\n",
              " 'soy',\n",
              " 'eres',\n",
              " 'es',\n",
              " 'somos',\n",
              " 'sois',\n",
              " 'son',\n",
              " 'sea',\n",
              " 'seas',\n",
              " 'seamos',\n",
              " 'seáis',\n",
              " 'sean',\n",
              " 'seré',\n",
              " 'serás',\n",
              " 'será',\n",
              " 'seremos',\n",
              " 'seréis',\n",
              " 'serán',\n",
              " 'sería',\n",
              " 'serías',\n",
              " 'seríamos',\n",
              " 'seríais',\n",
              " 'serían',\n",
              " 'era',\n",
              " 'eras',\n",
              " 'éramos',\n",
              " 'erais',\n",
              " 'eran',\n",
              " 'fui',\n",
              " 'fuiste',\n",
              " 'fue',\n",
              " 'fuimos',\n",
              " 'fuisteis',\n",
              " 'fueron',\n",
              " 'fuera',\n",
              " 'fueras',\n",
              " 'fuéramos',\n",
              " 'fuerais',\n",
              " 'fueran',\n",
              " 'fuese',\n",
              " 'fueses',\n",
              " 'fuésemos',\n",
              " 'fueseis',\n",
              " 'fuesen',\n",
              " 'sintiendo',\n",
              " 'sentido',\n",
              " 'sentida',\n",
              " 'sentidos',\n",
              " 'sentidas',\n",
              " 'siente',\n",
              " 'sentid',\n",
              " 'tengo',\n",
              " 'tienes',\n",
              " 'tiene',\n",
              " 'tenemos',\n",
              " 'tenéis',\n",
              " 'tienen',\n",
              " 'tenga',\n",
              " 'tengas',\n",
              " 'tengamos',\n",
              " 'tengáis',\n",
              " 'tengan',\n",
              " 'tendré',\n",
              " 'tendrás',\n",
              " 'tendrá',\n",
              " 'tendremos',\n",
              " 'tendréis',\n",
              " 'tendrán',\n",
              " 'tendría',\n",
              " 'tendrías',\n",
              " 'tendríamos',\n",
              " 'tendríais',\n",
              " 'tendrían',\n",
              " 'tenía',\n",
              " 'tenías',\n",
              " 'teníamos',\n",
              " 'teníais',\n",
              " 'tenían',\n",
              " 'tuve',\n",
              " 'tuviste',\n",
              " 'tuvo',\n",
              " 'tuvimos',\n",
              " 'tuvisteis',\n",
              " 'tuvieron',\n",
              " 'tuviera',\n",
              " 'tuvieras',\n",
              " 'tuviéramos',\n",
              " 'tuvierais',\n",
              " 'tuvieran',\n",
              " 'tuviese',\n",
              " 'tuvieses',\n",
              " 'tuviésemos',\n",
              " 'tuvieseis',\n",
              " 'tuviesen',\n",
              " 'teniendo',\n",
              " 'tenido',\n",
              " 'tenida',\n",
              " 'tenidos',\n",
              " 'tenidas',\n",
              " 'tened']"
            ]
          },
          "metadata": {},
          "execution_count": 2
        }
      ]
    },
    {
      "cell_type": "markdown",
      "metadata": {
        "id": "Ll2bfLPwg_As"
      },
      "source": [
        "# Funciones"
      ]
    },
    {
      "cell_type": "markdown",
      "metadata": {
        "id": "R9gcqOEK5Tz2"
      },
      "source": [
        "#### elimina_stopwords()"
      ]
    },
    {
      "cell_type": "code",
      "metadata": {
        "id": "h2oSh9rG5UAG"
      },
      "source": [
        "def elimina_stopwords(texto):\n",
        "  stop = re.compile(r'\\b(' + r'|'.join(stopwords.words('english')) + r')\\b\\s*')\n",
        "  nuevo_texto = stop.sub('', texto) \n",
        "  return nuevo_texto"
      ],
      "execution_count": 18,
      "outputs": []
    },
    {
      "cell_type": "markdown",
      "metadata": {
        "id": "zJtH14qHRpfN"
      },
      "source": [
        "### elimina_puntuacion()"
      ]
    },
    {
      "cell_type": "code",
      "metadata": {
        "id": "C7d8p7LSRpmB"
      },
      "source": [
        "def elimina_puntuacion(texto):\n",
        "  nuevo_texto = re.sub('[^A-ZÜÖÄa-z0-9]+', ' ', texto)  #puntuación y todo lo que no sea letra ni números\n",
        "  nuevo_texto = re.sub(\" \\d+\", \" \", nuevo_texto)   # elimina números\n",
        "  return nuevo_texto\n"
      ],
      "execution_count": 19,
      "outputs": []
    },
    {
      "cell_type": "markdown",
      "metadata": {
        "id": "mHypc2nPEzvS"
      },
      "source": [
        "#### lematizar_ingles()"
      ]
    },
    {
      "cell_type": "code",
      "metadata": {
        "id": "fa0Srj3VEz5c"
      },
      "source": [
        "lemmatizer = WordNetLemmatizer()\n",
        "\n",
        "def lematizar(texto):\n",
        "  texto=texto.split()\n",
        "  nuevo_texto = \" \".join([lemmatizer.lemmatize(i) for i in texto])\n",
        "  return nuevo_texto"
      ],
      "execution_count": 20,
      "outputs": []
    },
    {
      "cell_type": "markdown",
      "metadata": {
        "id": "4OrHhLR6E8eq"
      },
      "source": [
        "#### stemmer_inglés()"
      ]
    },
    {
      "cell_type": "code",
      "metadata": {
        "id": "lZGlyjk2E8ot"
      },
      "source": [
        "st = PorterStemmer()\n",
        "\n",
        "def stemmer(texto):\n",
        "  texto=texto.split()\n",
        "  nuevo_texto =\" \".join([st.stem(i) for i in texto])\n",
        "  return nuevo_texto"
      ],
      "execution_count": 21,
      "outputs": []
    },
    {
      "cell_type": "markdown",
      "metadata": {
        "id": "R_d912qROTu8"
      },
      "source": [
        "#### preprocesar(texto)\n"
      ]
    },
    {
      "cell_type": "code",
      "metadata": {
        "id": "AJYwX4CPOT4P"
      },
      "source": [
        "def preprocesar(texto):\n",
        "  texto = texto.lower()\n",
        "  texto = elimina_stopwords(texto)\n",
        "  texto = elimina_puntuacion(texto)\n",
        "  texto = stemmer(texto)\n",
        "  return(texto)"
      ],
      "execution_count": 22,
      "outputs": []
    },
    {
      "cell_type": "markdown",
      "metadata": {
        "id": "QMhaZc0Mn_jW"
      },
      "source": [
        "#### vectorizar_consulta ()"
      ]
    },
    {
      "cell_type": "code",
      "metadata": {
        "id": "zqirKL1jq37q"
      },
      "source": [
        "def vectorizar_consulta(texto):\n",
        "  '''regresa la consulta vectorizada con el mismo vocabulario que el corpus, \n",
        "  y pesos tfidf en relación al corpus '''\n",
        "  q = preprocesar(texto)\n",
        "  q = tfidf.transform([q])\n",
        "  q = q.toarray()\n",
        "  return q\n"
      ],
      "execution_count": 23,
      "outputs": []
    },
    {
      "cell_type": "markdown",
      "metadata": {
        "id": "x1KyAMJwCInC"
      },
      "source": [
        "#### reducir_vec_consulta()"
      ]
    },
    {
      "cell_type": "code",
      "metadata": {
        "id": "yE65PdHXnkpn"
      },
      "source": [
        "def reducir_vec_consulta (q):\n",
        "  q_k = (q @ np.transpose(Vt_k)) @ (D_k)\n",
        "  return q_k"
      ],
      "execution_count": 24,
      "outputs": []
    },
    {
      "cell_type": "markdown",
      "metadata": {
        "id": "TuiaMZV9vrTw"
      },
      "source": [
        "#### descomposicion_k()"
      ]
    },
    {
      "cell_type": "code",
      "metadata": {
        "id": "jv7_xAwcvrT1"
      },
      "source": [
        "def descomposicion_k(U_k, D_k, Vt_k):\n",
        "  ''' a partir de las tres matrices corresponeinetes a la  descomposición \n",
        "  truncada en  valores singulares (donde k << r),   devuelve dos matrices \n",
        "  la primera de tamaño n por k, y la segunda de dimensión k x d  '''\n",
        "  MDT_n_k = np.matmul(U_k, sqrtm(D_k))\n",
        "  MDT_k_d = MDT_kd =  np.matmul(sqrtm(D_k), Vt_k)\n",
        "  return MDT_n_k, MDT_k_d"
      ],
      "execution_count": 25,
      "outputs": []
    },
    {
      "cell_type": "markdown",
      "metadata": {
        "id": "lu8axMDrdim_"
      },
      "source": [
        "#### diagnosticos_similares()"
      ]
    },
    {
      "cell_type": "code",
      "metadata": {
        "id": "dWbXjvDIdim_"
      },
      "source": [
        "def documentos_similares(q_vec, M, lim = 0):\n",
        "  q_vec = q_vec.flatten()\n",
        "  n = M.shape[0]\n",
        "  sim_coseno = {}\n",
        "  relevantes={}\n",
        "  # Calcular similitud coseno\n",
        "  for i in range(n):\n",
        "    sim_coseno[i] = np.dot(M[i,:], q_vec) / (np.linalg.norm(M[i,:]) * np.linalg.norm(q_vec))\n",
        "    if sim_coseno[i] > lim:\n",
        "      relevantes[i] = sim_coseno[i]\n",
        "  if not relevantes:\n",
        "    raise Exception( \"No existen documentos similares\", lim)\n",
        "\n",
        "  #Ordenar valores\n",
        "  relevantes_ordenados = {k:v for k, v in sorted(relevantes.items(),\n",
        "                                                 key=lambda x: x[1],\n",
        "                                                 reverse=True)}\n",
        "  indices = list(relevantes_ordenados.keys())\n",
        "  \n",
        "  return corpus.loc[indices, :]"
      ],
      "execution_count": 26,
      "outputs": []
    },
    {
      "cell_type": "markdown",
      "metadata": {
        "id": "snvF0q7sbEXI"
      },
      "source": [
        "#### precision_sensibilidad()"
      ]
    },
    {
      "cell_type": "markdown",
      "source": [
        "Llega una consulta nueva, tenemos una descripción del caso clínico, lo que hace la precisión es que va a hacer la división de los documentos relevantes encontrados versus los doc encontrados.\n",
        "La manera de comparar esto es con las etiquetas que tenía cada caso clínico"
      ],
      "metadata": {
        "id": "5Cut5DtuXLVv"
      }
    },
    {
      "cell_type": "code",
      "metadata": {
        "id": "oNHUePJa2A1i"
      },
      "source": [
        "def precision_sensibilidad(q, M, limites):\n",
        "  doc_sim_dic = {}\n",
        "  precision_dic = {}\n",
        "  sensibilidad_dic = {}\n",
        "  tolerancias_dic = {}\n",
        "\n",
        "  for tol in limites:\n",
        "    tolerancias_dic[tol] = tol\n",
        "    df_similares = documentos_similares(q, M, lim = tol)\n",
        "    doc_sim_dic[tol] =df_similares\n",
        "    Dt = len(df_similares)                       #documentos encontrados \n",
        "    Dr = (df_similares['label']==clase_q).sum()  #documentos relevantes encontrados\n",
        "    Nr = (corpus['label']==clase_q).sum()   #documentos relevantes en todo el corps\n",
        "\n",
        "    #documentos relevantes encontrados, entre todos los doc encontrados similares\n",
        "    precision_dic[tol] = Dr / Dt \n",
        "\n",
        "    # documentos relevantes encontrados, entre todos los documentos en el corpus\n",
        "    sensibilidad_dic[tol] = Dr / Nr   #recall\n",
        "\n",
        "  evaluacion = pd.DataFrame({'precision': precision_dic,\n",
        "                           'sensibilidad': sensibilidad_dic\n",
        "                           })\n",
        "  evaluacion.plot.line(x= 'sensibilidad', y= 'precision', \n",
        "                       title ='Precisión vs Sensibilidad',\n",
        "                       xlim=(0,1), ylim=(0,1))\n",
        "\n",
        "  plt.grid(alpha=.8, linestyle='--')\n",
        "  plt.show()\n",
        "  return evaluacion"
      ],
      "execution_count": 29,
      "outputs": []
    },
    {
      "cell_type": "markdown",
      "metadata": {
        "id": "gbqBJWu6_9dq"
      },
      "source": [
        "# Lectura de datos \n",
        "\n",
        "El conjunto completo de datos se encuentra en [OHSUMED dataset](https://www.mat.unical.it/OlexSuite/Datasets/SampleDataSets-about.htm). El dataset que utilizaremos estará un poco preprocesado para quedarnos con resumenes textuales de enfermedades que están catalogadas en 23 categorías."
      ]
    },
    {
      "cell_type": "markdown",
      "source": [
        "220422 Relacionar casos solo me intesa saaber cuantas categorias es decir como esstan catalogadaos los ddocumentos, aveces separamos 10 datos en los que conozco su etiqueta al final probamos su predicción"
      ],
      "metadata": {
        "id": "AAZlE5KAXpkL"
      }
    },
    {
      "cell_type": "code",
      "metadata": {
        "id": "adKq9HP1bihz",
        "colab": {
          "base_uri": "https://localhost:8080/",
          "height": 221
        },
        "outputId": "a119a95b-5f09-4253-9d38-9f894782da68"
      },
      "source": [
        "datos = pd.read_csv('https://raw.githubusercontent.com/danieljfeller/medline-multilabel/master/data/processed/ohsumed_abstracts.csv', \n",
        "                    usecols=[0,1,2], index_col=0,)\n",
        "print(datos.shape)\n",
        "datos.head()"
      ],
      "execution_count": 28,
      "outputs": [
        {
          "output_type": "stream",
          "name": "stdout",
          "text": [
            "(13924, 2)\n"
          ]
        },
        {
          "output_type": "execute_result",
          "data": {
            "text/plain": [
              "   label                                                doc\n",
              "0     16   Improved outcome at 28 days of age for very l...\n",
              "1      5   Chylothorax after posterior spinal instrument...\n",
              "2     16   Childhood pulmonary function following hyalin...\n",
              "3      8   Treatment of atelectasis of upper lung lobes....\n",
              "4     21   Decision analysis, public health policy, and ..."
            ],
            "text/html": [
              "\n",
              "  <div id=\"df-42f96738-65be-4575-908a-156e96f1393f\">\n",
              "    <div class=\"colab-df-container\">\n",
              "      <div>\n",
              "<style scoped>\n",
              "    .dataframe tbody tr th:only-of-type {\n",
              "        vertical-align: middle;\n",
              "    }\n",
              "\n",
              "    .dataframe tbody tr th {\n",
              "        vertical-align: top;\n",
              "    }\n",
              "\n",
              "    .dataframe thead th {\n",
              "        text-align: right;\n",
              "    }\n",
              "</style>\n",
              "<table border=\"1\" class=\"dataframe\">\n",
              "  <thead>\n",
              "    <tr style=\"text-align: right;\">\n",
              "      <th></th>\n",
              "      <th>label</th>\n",
              "      <th>doc</th>\n",
              "    </tr>\n",
              "  </thead>\n",
              "  <tbody>\n",
              "    <tr>\n",
              "      <th>0</th>\n",
              "      <td>16</td>\n",
              "      <td>Improved outcome at 28 days of age for very l...</td>\n",
              "    </tr>\n",
              "    <tr>\n",
              "      <th>1</th>\n",
              "      <td>5</td>\n",
              "      <td>Chylothorax after posterior spinal instrument...</td>\n",
              "    </tr>\n",
              "    <tr>\n",
              "      <th>2</th>\n",
              "      <td>16</td>\n",
              "      <td>Childhood pulmonary function following hyalin...</td>\n",
              "    </tr>\n",
              "    <tr>\n",
              "      <th>3</th>\n",
              "      <td>8</td>\n",
              "      <td>Treatment of atelectasis of upper lung lobes....</td>\n",
              "    </tr>\n",
              "    <tr>\n",
              "      <th>4</th>\n",
              "      <td>21</td>\n",
              "      <td>Decision analysis, public health policy, and ...</td>\n",
              "    </tr>\n",
              "  </tbody>\n",
              "</table>\n",
              "</div>\n",
              "      <button class=\"colab-df-convert\" onclick=\"convertToInteractive('df-42f96738-65be-4575-908a-156e96f1393f')\"\n",
              "              title=\"Convert this dataframe to an interactive table.\"\n",
              "              style=\"display:none;\">\n",
              "        \n",
              "  <svg xmlns=\"http://www.w3.org/2000/svg\" height=\"24px\"viewBox=\"0 0 24 24\"\n",
              "       width=\"24px\">\n",
              "    <path d=\"M0 0h24v24H0V0z\" fill=\"none\"/>\n",
              "    <path d=\"M18.56 5.44l.94 2.06.94-2.06 2.06-.94-2.06-.94-.94-2.06-.94 2.06-2.06.94zm-11 1L8.5 8.5l.94-2.06 2.06-.94-2.06-.94L8.5 2.5l-.94 2.06-2.06.94zm10 10l.94 2.06.94-2.06 2.06-.94-2.06-.94-.94-2.06-.94 2.06-2.06.94z\"/><path d=\"M17.41 7.96l-1.37-1.37c-.4-.4-.92-.59-1.43-.59-.52 0-1.04.2-1.43.59L10.3 9.45l-7.72 7.72c-.78.78-.78 2.05 0 2.83L4 21.41c.39.39.9.59 1.41.59.51 0 1.02-.2 1.41-.59l7.78-7.78 2.81-2.81c.8-.78.8-2.07 0-2.86zM5.41 20L4 18.59l7.72-7.72 1.47 1.35L5.41 20z\"/>\n",
              "  </svg>\n",
              "      </button>\n",
              "      \n",
              "  <style>\n",
              "    .colab-df-container {\n",
              "      display:flex;\n",
              "      flex-wrap:wrap;\n",
              "      gap: 12px;\n",
              "    }\n",
              "\n",
              "    .colab-df-convert {\n",
              "      background-color: #E8F0FE;\n",
              "      border: none;\n",
              "      border-radius: 50%;\n",
              "      cursor: pointer;\n",
              "      display: none;\n",
              "      fill: #1967D2;\n",
              "      height: 32px;\n",
              "      padding: 0 0 0 0;\n",
              "      width: 32px;\n",
              "    }\n",
              "\n",
              "    .colab-df-convert:hover {\n",
              "      background-color: #E2EBFA;\n",
              "      box-shadow: 0px 1px 2px rgba(60, 64, 67, 0.3), 0px 1px 3px 1px rgba(60, 64, 67, 0.15);\n",
              "      fill: #174EA6;\n",
              "    }\n",
              "\n",
              "    [theme=dark] .colab-df-convert {\n",
              "      background-color: #3B4455;\n",
              "      fill: #D2E3FC;\n",
              "    }\n",
              "\n",
              "    [theme=dark] .colab-df-convert:hover {\n",
              "      background-color: #434B5C;\n",
              "      box-shadow: 0px 1px 3px 1px rgba(0, 0, 0, 0.15);\n",
              "      filter: drop-shadow(0px 1px 2px rgba(0, 0, 0, 0.3));\n",
              "      fill: #FFFFFF;\n",
              "    }\n",
              "  </style>\n",
              "\n",
              "      <script>\n",
              "        const buttonEl =\n",
              "          document.querySelector('#df-42f96738-65be-4575-908a-156e96f1393f button.colab-df-convert');\n",
              "        buttonEl.style.display =\n",
              "          google.colab.kernel.accessAllowed ? 'block' : 'none';\n",
              "\n",
              "        async function convertToInteractive(key) {\n",
              "          const element = document.querySelector('#df-42f96738-65be-4575-908a-156e96f1393f');\n",
              "          const dataTable =\n",
              "            await google.colab.kernel.invokeFunction('convertToInteractive',\n",
              "                                                     [key], {});\n",
              "          if (!dataTable) return;\n",
              "\n",
              "          const docLinkHtml = 'Like what you see? Visit the ' +\n",
              "            '<a target=\"_blank\" href=https://colab.research.google.com/notebooks/data_table.ipynb>data table notebook</a>'\n",
              "            + ' to learn more about interactive tables.';\n",
              "          element.innerHTML = '';\n",
              "          dataTable['output_type'] = 'display_data';\n",
              "          await google.colab.output.renderOutput(dataTable, element);\n",
              "          const docLink = document.createElement('div');\n",
              "          docLink.innerHTML = docLinkHtml;\n",
              "          element.appendChild(docLink);\n",
              "        }\n",
              "      </script>\n",
              "    </div>\n",
              "  </div>\n",
              "  "
            ]
          },
          "metadata": {},
          "execution_count": 28
        }
      ]
    },
    {
      "cell_type": "code",
      "metadata": {
        "id": "01e4afoYrXjV",
        "colab": {
          "base_uri": "https://localhost:8080/"
        },
        "outputId": "959c6f18-ec44-4bb3-9d80-ed2ae5dea9a7"
      },
      "source": [
        "len(datos['label'].value_counts())"
      ],
      "execution_count": 14,
      "outputs": [
        {
          "output_type": "execute_result",
          "data": {
            "text/plain": [
              "23"
            ]
          },
          "metadata": {},
          "execution_count": 14
        }
      ]
    },
    {
      "cell_type": "markdown",
      "metadata": {
        "id": "7Uc41Rik5TAY"
      },
      "source": [
        "Los documentos están catalogados en 23 categorías"
      ]
    },
    {
      "cell_type": "markdown",
      "metadata": {
        "id": "Ji-NhMNGeb4M"
      },
      "source": [
        "#Separar el corpus para tener documentos de consulta"
      ]
    },
    {
      "cell_type": "markdown",
      "source": [
        "220422 Separamos un sample"
      ],
      "metadata": {
        "id": "bwaKMHyJX_RR"
      }
    },
    {
      "cell_type": "code",
      "metadata": {
        "id": "FrnC-kc7f-Uw",
        "colab": {
          "base_uri": "https://localhost:8080/",
          "height": 359
        },
        "outputId": "8ed56998-57f9-4a30-fdb6-932e1232cacc"
      },
      "source": [
        "datos.sample(10, random_state=3)"
      ],
      "execution_count": 16,
      "outputs": [
        {
          "output_type": "execute_result",
          "data": {
            "text/plain": [
              "       label                                                doc\n",
              "5832      18   Alkaline phosphatase (tissue-nonspecific isoe...\n",
              "12535     10   The community hospital-based stroke programs ...\n",
              "151       23   Surgery in patients on long-term steroid ther...\n",
              "11997      4   Primary Ewing sarcoma: follow-up with Ga-67 s...\n",
              "13010     21   Psychiatric diagnoses of treatment-seeking co...\n",
              "3077      21   Clinical experience with the benzodiazepine a...\n",
              "10659     23   The validity of canine platelet aggregometry ...\n",
              "965        6   Evaluation of women with possible appendiciti...\n",
              "8664      14   Heart rate adjustment of exercise-induced ST ...\n",
              "6687      14   Auto-PEEP during CPR. An \"occult\" cause of el..."
            ],
            "text/html": [
              "\n",
              "  <div id=\"df-7f6594ff-5579-468f-a717-cb4431bdf199\">\n",
              "    <div class=\"colab-df-container\">\n",
              "      <div>\n",
              "<style scoped>\n",
              "    .dataframe tbody tr th:only-of-type {\n",
              "        vertical-align: middle;\n",
              "    }\n",
              "\n",
              "    .dataframe tbody tr th {\n",
              "        vertical-align: top;\n",
              "    }\n",
              "\n",
              "    .dataframe thead th {\n",
              "        text-align: right;\n",
              "    }\n",
              "</style>\n",
              "<table border=\"1\" class=\"dataframe\">\n",
              "  <thead>\n",
              "    <tr style=\"text-align: right;\">\n",
              "      <th></th>\n",
              "      <th>label</th>\n",
              "      <th>doc</th>\n",
              "    </tr>\n",
              "  </thead>\n",
              "  <tbody>\n",
              "    <tr>\n",
              "      <th>5832</th>\n",
              "      <td>18</td>\n",
              "      <td>Alkaline phosphatase (tissue-nonspecific isoe...</td>\n",
              "    </tr>\n",
              "    <tr>\n",
              "      <th>12535</th>\n",
              "      <td>10</td>\n",
              "      <td>The community hospital-based stroke programs ...</td>\n",
              "    </tr>\n",
              "    <tr>\n",
              "      <th>151</th>\n",
              "      <td>23</td>\n",
              "      <td>Surgery in patients on long-term steroid ther...</td>\n",
              "    </tr>\n",
              "    <tr>\n",
              "      <th>11997</th>\n",
              "      <td>4</td>\n",
              "      <td>Primary Ewing sarcoma: follow-up with Ga-67 s...</td>\n",
              "    </tr>\n",
              "    <tr>\n",
              "      <th>13010</th>\n",
              "      <td>21</td>\n",
              "      <td>Psychiatric diagnoses of treatment-seeking co...</td>\n",
              "    </tr>\n",
              "    <tr>\n",
              "      <th>3077</th>\n",
              "      <td>21</td>\n",
              "      <td>Clinical experience with the benzodiazepine a...</td>\n",
              "    </tr>\n",
              "    <tr>\n",
              "      <th>10659</th>\n",
              "      <td>23</td>\n",
              "      <td>The validity of canine platelet aggregometry ...</td>\n",
              "    </tr>\n",
              "    <tr>\n",
              "      <th>965</th>\n",
              "      <td>6</td>\n",
              "      <td>Evaluation of women with possible appendiciti...</td>\n",
              "    </tr>\n",
              "    <tr>\n",
              "      <th>8664</th>\n",
              "      <td>14</td>\n",
              "      <td>Heart rate adjustment of exercise-induced ST ...</td>\n",
              "    </tr>\n",
              "    <tr>\n",
              "      <th>6687</th>\n",
              "      <td>14</td>\n",
              "      <td>Auto-PEEP during CPR. An \"occult\" cause of el...</td>\n",
              "    </tr>\n",
              "  </tbody>\n",
              "</table>\n",
              "</div>\n",
              "      <button class=\"colab-df-convert\" onclick=\"convertToInteractive('df-7f6594ff-5579-468f-a717-cb4431bdf199')\"\n",
              "              title=\"Convert this dataframe to an interactive table.\"\n",
              "              style=\"display:none;\">\n",
              "        \n",
              "  <svg xmlns=\"http://www.w3.org/2000/svg\" height=\"24px\"viewBox=\"0 0 24 24\"\n",
              "       width=\"24px\">\n",
              "    <path d=\"M0 0h24v24H0V0z\" fill=\"none\"/>\n",
              "    <path d=\"M18.56 5.44l.94 2.06.94-2.06 2.06-.94-2.06-.94-.94-2.06-.94 2.06-2.06.94zm-11 1L8.5 8.5l.94-2.06 2.06-.94-2.06-.94L8.5 2.5l-.94 2.06-2.06.94zm10 10l.94 2.06.94-2.06 2.06-.94-2.06-.94-.94-2.06-.94 2.06-2.06.94z\"/><path d=\"M17.41 7.96l-1.37-1.37c-.4-.4-.92-.59-1.43-.59-.52 0-1.04.2-1.43.59L10.3 9.45l-7.72 7.72c-.78.78-.78 2.05 0 2.83L4 21.41c.39.39.9.59 1.41.59.51 0 1.02-.2 1.41-.59l7.78-7.78 2.81-2.81c.8-.78.8-2.07 0-2.86zM5.41 20L4 18.59l7.72-7.72 1.47 1.35L5.41 20z\"/>\n",
              "  </svg>\n",
              "      </button>\n",
              "      \n",
              "  <style>\n",
              "    .colab-df-container {\n",
              "      display:flex;\n",
              "      flex-wrap:wrap;\n",
              "      gap: 12px;\n",
              "    }\n",
              "\n",
              "    .colab-df-convert {\n",
              "      background-color: #E8F0FE;\n",
              "      border: none;\n",
              "      border-radius: 50%;\n",
              "      cursor: pointer;\n",
              "      display: none;\n",
              "      fill: #1967D2;\n",
              "      height: 32px;\n",
              "      padding: 0 0 0 0;\n",
              "      width: 32px;\n",
              "    }\n",
              "\n",
              "    .colab-df-convert:hover {\n",
              "      background-color: #E2EBFA;\n",
              "      box-shadow: 0px 1px 2px rgba(60, 64, 67, 0.3), 0px 1px 3px 1px rgba(60, 64, 67, 0.15);\n",
              "      fill: #174EA6;\n",
              "    }\n",
              "\n",
              "    [theme=dark] .colab-df-convert {\n",
              "      background-color: #3B4455;\n",
              "      fill: #D2E3FC;\n",
              "    }\n",
              "\n",
              "    [theme=dark] .colab-df-convert:hover {\n",
              "      background-color: #434B5C;\n",
              "      box-shadow: 0px 1px 3px 1px rgba(0, 0, 0, 0.15);\n",
              "      filter: drop-shadow(0px 1px 2px rgba(0, 0, 0, 0.3));\n",
              "      fill: #FFFFFF;\n",
              "    }\n",
              "  </style>\n",
              "\n",
              "      <script>\n",
              "        const buttonEl =\n",
              "          document.querySelector('#df-7f6594ff-5579-468f-a717-cb4431bdf199 button.colab-df-convert');\n",
              "        buttonEl.style.display =\n",
              "          google.colab.kernel.accessAllowed ? 'block' : 'none';\n",
              "\n",
              "        async function convertToInteractive(key) {\n",
              "          const element = document.querySelector('#df-7f6594ff-5579-468f-a717-cb4431bdf199');\n",
              "          const dataTable =\n",
              "            await google.colab.kernel.invokeFunction('convertToInteractive',\n",
              "                                                     [key], {});\n",
              "          if (!dataTable) return;\n",
              "\n",
              "          const docLinkHtml = 'Like what you see? Visit the ' +\n",
              "            '<a target=\"_blank\" href=https://colab.research.google.com/notebooks/data_table.ipynb>data table notebook</a>'\n",
              "            + ' to learn more about interactive tables.';\n",
              "          element.innerHTML = '';\n",
              "          dataTable['output_type'] = 'display_data';\n",
              "          await google.colab.output.renderOutput(dataTable, element);\n",
              "          const docLink = document.createElement('div');\n",
              "          docLink.innerHTML = docLinkHtml;\n",
              "          element.appendChild(docLink);\n",
              "        }\n",
              "      </script>\n",
              "    </div>\n",
              "  </div>\n",
              "  "
            ]
          },
          "metadata": {},
          "execution_count": 16
        }
      ]
    },
    {
      "cell_type": "markdown",
      "source": [
        "220422 Establecemos un random state para repetir los elementos"
      ],
      "metadata": {
        "id": "UWVEjJLUYCoN"
      }
    },
    {
      "cell_type": "code",
      "metadata": {
        "id": "wmCOWzYjqIuu",
        "colab": {
          "base_uri": "https://localhost:8080/",
          "height": 359
        },
        "outputId": "38bde0ae-9034-490c-ea78-d80884404948"
      },
      "source": [
        "#separamos una muestra aleatoria de 10 documentos, que serán nuestras consultas\n",
        "consultas_idx = datos.sample(10, random_state=3).index \n",
        "consultas = datos.iloc[consultas_idx,:].copy()\n",
        "consultas"
      ],
      "execution_count": 17,
      "outputs": [
        {
          "output_type": "execute_result",
          "data": {
            "text/plain": [
              "       label                                                doc\n",
              "5832      18   Alkaline phosphatase (tissue-nonspecific isoe...\n",
              "12535     10   The community hospital-based stroke programs ...\n",
              "151       23   Surgery in patients on long-term steroid ther...\n",
              "11997      4   Primary Ewing sarcoma: follow-up with Ga-67 s...\n",
              "13010     21   Psychiatric diagnoses of treatment-seeking co...\n",
              "3077      21   Clinical experience with the benzodiazepine a...\n",
              "10659     23   The validity of canine platelet aggregometry ...\n",
              "965        6   Evaluation of women with possible appendiciti...\n",
              "8664      14   Heart rate adjustment of exercise-induced ST ...\n",
              "6687      14   Auto-PEEP during CPR. An \"occult\" cause of el..."
            ],
            "text/html": [
              "\n",
              "  <div id=\"df-85bfcc84-8374-4b74-a02c-e713fffe9c72\">\n",
              "    <div class=\"colab-df-container\">\n",
              "      <div>\n",
              "<style scoped>\n",
              "    .dataframe tbody tr th:only-of-type {\n",
              "        vertical-align: middle;\n",
              "    }\n",
              "\n",
              "    .dataframe tbody tr th {\n",
              "        vertical-align: top;\n",
              "    }\n",
              "\n",
              "    .dataframe thead th {\n",
              "        text-align: right;\n",
              "    }\n",
              "</style>\n",
              "<table border=\"1\" class=\"dataframe\">\n",
              "  <thead>\n",
              "    <tr style=\"text-align: right;\">\n",
              "      <th></th>\n",
              "      <th>label</th>\n",
              "      <th>doc</th>\n",
              "    </tr>\n",
              "  </thead>\n",
              "  <tbody>\n",
              "    <tr>\n",
              "      <th>5832</th>\n",
              "      <td>18</td>\n",
              "      <td>Alkaline phosphatase (tissue-nonspecific isoe...</td>\n",
              "    </tr>\n",
              "    <tr>\n",
              "      <th>12535</th>\n",
              "      <td>10</td>\n",
              "      <td>The community hospital-based stroke programs ...</td>\n",
              "    </tr>\n",
              "    <tr>\n",
              "      <th>151</th>\n",
              "      <td>23</td>\n",
              "      <td>Surgery in patients on long-term steroid ther...</td>\n",
              "    </tr>\n",
              "    <tr>\n",
              "      <th>11997</th>\n",
              "      <td>4</td>\n",
              "      <td>Primary Ewing sarcoma: follow-up with Ga-67 s...</td>\n",
              "    </tr>\n",
              "    <tr>\n",
              "      <th>13010</th>\n",
              "      <td>21</td>\n",
              "      <td>Psychiatric diagnoses of treatment-seeking co...</td>\n",
              "    </tr>\n",
              "    <tr>\n",
              "      <th>3077</th>\n",
              "      <td>21</td>\n",
              "      <td>Clinical experience with the benzodiazepine a...</td>\n",
              "    </tr>\n",
              "    <tr>\n",
              "      <th>10659</th>\n",
              "      <td>23</td>\n",
              "      <td>The validity of canine platelet aggregometry ...</td>\n",
              "    </tr>\n",
              "    <tr>\n",
              "      <th>965</th>\n",
              "      <td>6</td>\n",
              "      <td>Evaluation of women with possible appendiciti...</td>\n",
              "    </tr>\n",
              "    <tr>\n",
              "      <th>8664</th>\n",
              "      <td>14</td>\n",
              "      <td>Heart rate adjustment of exercise-induced ST ...</td>\n",
              "    </tr>\n",
              "    <tr>\n",
              "      <th>6687</th>\n",
              "      <td>14</td>\n",
              "      <td>Auto-PEEP during CPR. An \"occult\" cause of el...</td>\n",
              "    </tr>\n",
              "  </tbody>\n",
              "</table>\n",
              "</div>\n",
              "      <button class=\"colab-df-convert\" onclick=\"convertToInteractive('df-85bfcc84-8374-4b74-a02c-e713fffe9c72')\"\n",
              "              title=\"Convert this dataframe to an interactive table.\"\n",
              "              style=\"display:none;\">\n",
              "        \n",
              "  <svg xmlns=\"http://www.w3.org/2000/svg\" height=\"24px\"viewBox=\"0 0 24 24\"\n",
              "       width=\"24px\">\n",
              "    <path d=\"M0 0h24v24H0V0z\" fill=\"none\"/>\n",
              "    <path d=\"M18.56 5.44l.94 2.06.94-2.06 2.06-.94-2.06-.94-.94-2.06-.94 2.06-2.06.94zm-11 1L8.5 8.5l.94-2.06 2.06-.94-2.06-.94L8.5 2.5l-.94 2.06-2.06.94zm10 10l.94 2.06.94-2.06 2.06-.94-2.06-.94-.94-2.06-.94 2.06-2.06.94z\"/><path d=\"M17.41 7.96l-1.37-1.37c-.4-.4-.92-.59-1.43-.59-.52 0-1.04.2-1.43.59L10.3 9.45l-7.72 7.72c-.78.78-.78 2.05 0 2.83L4 21.41c.39.39.9.59 1.41.59.51 0 1.02-.2 1.41-.59l7.78-7.78 2.81-2.81c.8-.78.8-2.07 0-2.86zM5.41 20L4 18.59l7.72-7.72 1.47 1.35L5.41 20z\"/>\n",
              "  </svg>\n",
              "      </button>\n",
              "      \n",
              "  <style>\n",
              "    .colab-df-container {\n",
              "      display:flex;\n",
              "      flex-wrap:wrap;\n",
              "      gap: 12px;\n",
              "    }\n",
              "\n",
              "    .colab-df-convert {\n",
              "      background-color: #E8F0FE;\n",
              "      border: none;\n",
              "      border-radius: 50%;\n",
              "      cursor: pointer;\n",
              "      display: none;\n",
              "      fill: #1967D2;\n",
              "      height: 32px;\n",
              "      padding: 0 0 0 0;\n",
              "      width: 32px;\n",
              "    }\n",
              "\n",
              "    .colab-df-convert:hover {\n",
              "      background-color: #E2EBFA;\n",
              "      box-shadow: 0px 1px 2px rgba(60, 64, 67, 0.3), 0px 1px 3px 1px rgba(60, 64, 67, 0.15);\n",
              "      fill: #174EA6;\n",
              "    }\n",
              "\n",
              "    [theme=dark] .colab-df-convert {\n",
              "      background-color: #3B4455;\n",
              "      fill: #D2E3FC;\n",
              "    }\n",
              "\n",
              "    [theme=dark] .colab-df-convert:hover {\n",
              "      background-color: #434B5C;\n",
              "      box-shadow: 0px 1px 3px 1px rgba(0, 0, 0, 0.15);\n",
              "      filter: drop-shadow(0px 1px 2px rgba(0, 0, 0, 0.3));\n",
              "      fill: #FFFFFF;\n",
              "    }\n",
              "  </style>\n",
              "\n",
              "      <script>\n",
              "        const buttonEl =\n",
              "          document.querySelector('#df-85bfcc84-8374-4b74-a02c-e713fffe9c72 button.colab-df-convert');\n",
              "        buttonEl.style.display =\n",
              "          google.colab.kernel.accessAllowed ? 'block' : 'none';\n",
              "\n",
              "        async function convertToInteractive(key) {\n",
              "          const element = document.querySelector('#df-85bfcc84-8374-4b74-a02c-e713fffe9c72');\n",
              "          const dataTable =\n",
              "            await google.colab.kernel.invokeFunction('convertToInteractive',\n",
              "                                                     [key], {});\n",
              "          if (!dataTable) return;\n",
              "\n",
              "          const docLinkHtml = 'Like what you see? Visit the ' +\n",
              "            '<a target=\"_blank\" href=https://colab.research.google.com/notebooks/data_table.ipynb>data table notebook</a>'\n",
              "            + ' to learn more about interactive tables.';\n",
              "          element.innerHTML = '';\n",
              "          dataTable['output_type'] = 'display_data';\n",
              "          await google.colab.output.renderOutput(dataTable, element);\n",
              "          const docLink = document.createElement('div');\n",
              "          docLink.innerHTML = docLinkHtml;\n",
              "          element.appendChild(docLink);\n",
              "        }\n",
              "      </script>\n",
              "    </div>\n",
              "  </div>\n",
              "  "
            ]
          },
          "metadata": {},
          "execution_count": 17
        }
      ]
    },
    {
      "cell_type": "markdown",
      "source": [
        "220422 dropea los duplicados y deshaszte completamente de ellos, ve los duplicados y se deshace del segundo porque quiero sacar estas noticias del cuerpo de noticias"
      ],
      "metadata": {
        "id": "cyb0V2ZyYQD9"
      }
    },
    {
      "cell_type": "code",
      "metadata": {
        "id": "btWRCRJDqY4t",
        "colab": {
          "base_uri": "https://localhost:8080/",
          "height": 221
        },
        "outputId": "11d59395-3654-4635-a6e2-d218ca98cced"
      },
      "source": [
        "#dejamos el resto de documentos como nuestro corpus\n",
        "corpus = pd.concat([datos,consultas]).drop_duplicates(keep=False).reset_index(drop=True)\n",
        "consultas = consultas.reset_index(drop=True)\n",
        "print(corpus.shape)\n",
        "corpus.tail()"
      ],
      "execution_count": 31,
      "outputs": [
        {
          "output_type": "stream",
          "name": "stdout",
          "text": [
            "(13914, 2)\n"
          ]
        },
        {
          "output_type": "execute_result",
          "data": {
            "text/plain": [
              "       label                                                doc\n",
              "13909     11   Results of blepharoptosis surgery with early ...\n",
              "13910     11   A century of cerebral achromatopsia, This rev...\n",
              "13911     11   Intraocular lens implantation after penetrati...\n",
              "13912     11   Reproducibility of topographic measurements o...\n",
              "13913     11   Cyclocryotherapy in selected cases of congeni..."
            ],
            "text/html": [
              "\n",
              "  <div id=\"df-35fce948-2dc8-4dc3-a530-73f3bc766b5c\">\n",
              "    <div class=\"colab-df-container\">\n",
              "      <div>\n",
              "<style scoped>\n",
              "    .dataframe tbody tr th:only-of-type {\n",
              "        vertical-align: middle;\n",
              "    }\n",
              "\n",
              "    .dataframe tbody tr th {\n",
              "        vertical-align: top;\n",
              "    }\n",
              "\n",
              "    .dataframe thead th {\n",
              "        text-align: right;\n",
              "    }\n",
              "</style>\n",
              "<table border=\"1\" class=\"dataframe\">\n",
              "  <thead>\n",
              "    <tr style=\"text-align: right;\">\n",
              "      <th></th>\n",
              "      <th>label</th>\n",
              "      <th>doc</th>\n",
              "    </tr>\n",
              "  </thead>\n",
              "  <tbody>\n",
              "    <tr>\n",
              "      <th>13909</th>\n",
              "      <td>11</td>\n",
              "      <td>Results of blepharoptosis surgery with early ...</td>\n",
              "    </tr>\n",
              "    <tr>\n",
              "      <th>13910</th>\n",
              "      <td>11</td>\n",
              "      <td>A century of cerebral achromatopsia, This rev...</td>\n",
              "    </tr>\n",
              "    <tr>\n",
              "      <th>13911</th>\n",
              "      <td>11</td>\n",
              "      <td>Intraocular lens implantation after penetrati...</td>\n",
              "    </tr>\n",
              "    <tr>\n",
              "      <th>13912</th>\n",
              "      <td>11</td>\n",
              "      <td>Reproducibility of topographic measurements o...</td>\n",
              "    </tr>\n",
              "    <tr>\n",
              "      <th>13913</th>\n",
              "      <td>11</td>\n",
              "      <td>Cyclocryotherapy in selected cases of congeni...</td>\n",
              "    </tr>\n",
              "  </tbody>\n",
              "</table>\n",
              "</div>\n",
              "      <button class=\"colab-df-convert\" onclick=\"convertToInteractive('df-35fce948-2dc8-4dc3-a530-73f3bc766b5c')\"\n",
              "              title=\"Convert this dataframe to an interactive table.\"\n",
              "              style=\"display:none;\">\n",
              "        \n",
              "  <svg xmlns=\"http://www.w3.org/2000/svg\" height=\"24px\"viewBox=\"0 0 24 24\"\n",
              "       width=\"24px\">\n",
              "    <path d=\"M0 0h24v24H0V0z\" fill=\"none\"/>\n",
              "    <path d=\"M18.56 5.44l.94 2.06.94-2.06 2.06-.94-2.06-.94-.94-2.06-.94 2.06-2.06.94zm-11 1L8.5 8.5l.94-2.06 2.06-.94-2.06-.94L8.5 2.5l-.94 2.06-2.06.94zm10 10l.94 2.06.94-2.06 2.06-.94-2.06-.94-.94-2.06-.94 2.06-2.06.94z\"/><path d=\"M17.41 7.96l-1.37-1.37c-.4-.4-.92-.59-1.43-.59-.52 0-1.04.2-1.43.59L10.3 9.45l-7.72 7.72c-.78.78-.78 2.05 0 2.83L4 21.41c.39.39.9.59 1.41.59.51 0 1.02-.2 1.41-.59l7.78-7.78 2.81-2.81c.8-.78.8-2.07 0-2.86zM5.41 20L4 18.59l7.72-7.72 1.47 1.35L5.41 20z\"/>\n",
              "  </svg>\n",
              "      </button>\n",
              "      \n",
              "  <style>\n",
              "    .colab-df-container {\n",
              "      display:flex;\n",
              "      flex-wrap:wrap;\n",
              "      gap: 12px;\n",
              "    }\n",
              "\n",
              "    .colab-df-convert {\n",
              "      background-color: #E8F0FE;\n",
              "      border: none;\n",
              "      border-radius: 50%;\n",
              "      cursor: pointer;\n",
              "      display: none;\n",
              "      fill: #1967D2;\n",
              "      height: 32px;\n",
              "      padding: 0 0 0 0;\n",
              "      width: 32px;\n",
              "    }\n",
              "\n",
              "    .colab-df-convert:hover {\n",
              "      background-color: #E2EBFA;\n",
              "      box-shadow: 0px 1px 2px rgba(60, 64, 67, 0.3), 0px 1px 3px 1px rgba(60, 64, 67, 0.15);\n",
              "      fill: #174EA6;\n",
              "    }\n",
              "\n",
              "    [theme=dark] .colab-df-convert {\n",
              "      background-color: #3B4455;\n",
              "      fill: #D2E3FC;\n",
              "    }\n",
              "\n",
              "    [theme=dark] .colab-df-convert:hover {\n",
              "      background-color: #434B5C;\n",
              "      box-shadow: 0px 1px 3px 1px rgba(0, 0, 0, 0.15);\n",
              "      filter: drop-shadow(0px 1px 2px rgba(0, 0, 0, 0.3));\n",
              "      fill: #FFFFFF;\n",
              "    }\n",
              "  </style>\n",
              "\n",
              "      <script>\n",
              "        const buttonEl =\n",
              "          document.querySelector('#df-35fce948-2dc8-4dc3-a530-73f3bc766b5c button.colab-df-convert');\n",
              "        buttonEl.style.display =\n",
              "          google.colab.kernel.accessAllowed ? 'block' : 'none';\n",
              "\n",
              "        async function convertToInteractive(key) {\n",
              "          const element = document.querySelector('#df-35fce948-2dc8-4dc3-a530-73f3bc766b5c');\n",
              "          const dataTable =\n",
              "            await google.colab.kernel.invokeFunction('convertToInteractive',\n",
              "                                                     [key], {});\n",
              "          if (!dataTable) return;\n",
              "\n",
              "          const docLinkHtml = 'Like what you see? Visit the ' +\n",
              "            '<a target=\"_blank\" href=https://colab.research.google.com/notebooks/data_table.ipynb>data table notebook</a>'\n",
              "            + ' to learn more about interactive tables.';\n",
              "          element.innerHTML = '';\n",
              "          dataTable['output_type'] = 'display_data';\n",
              "          await google.colab.output.renderOutput(dataTable, element);\n",
              "          const docLink = document.createElement('div');\n",
              "          docLink.innerHTML = docLinkHtml;\n",
              "          element.appendChild(docLink);\n",
              "        }\n",
              "      </script>\n",
              "    </div>\n",
              "  </div>\n",
              "  "
            ]
          },
          "metadata": {},
          "execution_count": 31
        }
      ]
    },
    {
      "cell_type": "code",
      "metadata": {
        "id": "3g9iFXtrapbL",
        "colab": {
          "base_uri": "https://localhost:8080/",
          "height": 359
        },
        "outputId": "eb6c50ad-1d82-4c90-b610-1d58d652b94d"
      },
      "source": [
        "consultas"
      ],
      "execution_count": 32,
      "outputs": [
        {
          "output_type": "execute_result",
          "data": {
            "text/plain": [
              "   label                                                doc\n",
              "0     18   Alkaline phosphatase (tissue-nonspecific isoe...\n",
              "1     10   The community hospital-based stroke programs ...\n",
              "2     23   Surgery in patients on long-term steroid ther...\n",
              "3      4   Primary Ewing sarcoma: follow-up with Ga-67 s...\n",
              "4     21   Psychiatric diagnoses of treatment-seeking co...\n",
              "5     21   Clinical experience with the benzodiazepine a...\n",
              "6     23   The validity of canine platelet aggregometry ...\n",
              "7      6   Evaluation of women with possible appendiciti...\n",
              "8     14   Heart rate adjustment of exercise-induced ST ...\n",
              "9     14   Auto-PEEP during CPR. An \"occult\" cause of el..."
            ],
            "text/html": [
              "\n",
              "  <div id=\"df-1d5905ca-a7c1-4318-902d-2f7c0e571c70\">\n",
              "    <div class=\"colab-df-container\">\n",
              "      <div>\n",
              "<style scoped>\n",
              "    .dataframe tbody tr th:only-of-type {\n",
              "        vertical-align: middle;\n",
              "    }\n",
              "\n",
              "    .dataframe tbody tr th {\n",
              "        vertical-align: top;\n",
              "    }\n",
              "\n",
              "    .dataframe thead th {\n",
              "        text-align: right;\n",
              "    }\n",
              "</style>\n",
              "<table border=\"1\" class=\"dataframe\">\n",
              "  <thead>\n",
              "    <tr style=\"text-align: right;\">\n",
              "      <th></th>\n",
              "      <th>label</th>\n",
              "      <th>doc</th>\n",
              "    </tr>\n",
              "  </thead>\n",
              "  <tbody>\n",
              "    <tr>\n",
              "      <th>0</th>\n",
              "      <td>18</td>\n",
              "      <td>Alkaline phosphatase (tissue-nonspecific isoe...</td>\n",
              "    </tr>\n",
              "    <tr>\n",
              "      <th>1</th>\n",
              "      <td>10</td>\n",
              "      <td>The community hospital-based stroke programs ...</td>\n",
              "    </tr>\n",
              "    <tr>\n",
              "      <th>2</th>\n",
              "      <td>23</td>\n",
              "      <td>Surgery in patients on long-term steroid ther...</td>\n",
              "    </tr>\n",
              "    <tr>\n",
              "      <th>3</th>\n",
              "      <td>4</td>\n",
              "      <td>Primary Ewing sarcoma: follow-up with Ga-67 s...</td>\n",
              "    </tr>\n",
              "    <tr>\n",
              "      <th>4</th>\n",
              "      <td>21</td>\n",
              "      <td>Psychiatric diagnoses of treatment-seeking co...</td>\n",
              "    </tr>\n",
              "    <tr>\n",
              "      <th>5</th>\n",
              "      <td>21</td>\n",
              "      <td>Clinical experience with the benzodiazepine a...</td>\n",
              "    </tr>\n",
              "    <tr>\n",
              "      <th>6</th>\n",
              "      <td>23</td>\n",
              "      <td>The validity of canine platelet aggregometry ...</td>\n",
              "    </tr>\n",
              "    <tr>\n",
              "      <th>7</th>\n",
              "      <td>6</td>\n",
              "      <td>Evaluation of women with possible appendiciti...</td>\n",
              "    </tr>\n",
              "    <tr>\n",
              "      <th>8</th>\n",
              "      <td>14</td>\n",
              "      <td>Heart rate adjustment of exercise-induced ST ...</td>\n",
              "    </tr>\n",
              "    <tr>\n",
              "      <th>9</th>\n",
              "      <td>14</td>\n",
              "      <td>Auto-PEEP during CPR. An \"occult\" cause of el...</td>\n",
              "    </tr>\n",
              "  </tbody>\n",
              "</table>\n",
              "</div>\n",
              "      <button class=\"colab-df-convert\" onclick=\"convertToInteractive('df-1d5905ca-a7c1-4318-902d-2f7c0e571c70')\"\n",
              "              title=\"Convert this dataframe to an interactive table.\"\n",
              "              style=\"display:none;\">\n",
              "        \n",
              "  <svg xmlns=\"http://www.w3.org/2000/svg\" height=\"24px\"viewBox=\"0 0 24 24\"\n",
              "       width=\"24px\">\n",
              "    <path d=\"M0 0h24v24H0V0z\" fill=\"none\"/>\n",
              "    <path d=\"M18.56 5.44l.94 2.06.94-2.06 2.06-.94-2.06-.94-.94-2.06-.94 2.06-2.06.94zm-11 1L8.5 8.5l.94-2.06 2.06-.94-2.06-.94L8.5 2.5l-.94 2.06-2.06.94zm10 10l.94 2.06.94-2.06 2.06-.94-2.06-.94-.94-2.06-.94 2.06-2.06.94z\"/><path d=\"M17.41 7.96l-1.37-1.37c-.4-.4-.92-.59-1.43-.59-.52 0-1.04.2-1.43.59L10.3 9.45l-7.72 7.72c-.78.78-.78 2.05 0 2.83L4 21.41c.39.39.9.59 1.41.59.51 0 1.02-.2 1.41-.59l7.78-7.78 2.81-2.81c.8-.78.8-2.07 0-2.86zM5.41 20L4 18.59l7.72-7.72 1.47 1.35L5.41 20z\"/>\n",
              "  </svg>\n",
              "      </button>\n",
              "      \n",
              "  <style>\n",
              "    .colab-df-container {\n",
              "      display:flex;\n",
              "      flex-wrap:wrap;\n",
              "      gap: 12px;\n",
              "    }\n",
              "\n",
              "    .colab-df-convert {\n",
              "      background-color: #E8F0FE;\n",
              "      border: none;\n",
              "      border-radius: 50%;\n",
              "      cursor: pointer;\n",
              "      display: none;\n",
              "      fill: #1967D2;\n",
              "      height: 32px;\n",
              "      padding: 0 0 0 0;\n",
              "      width: 32px;\n",
              "    }\n",
              "\n",
              "    .colab-df-convert:hover {\n",
              "      background-color: #E2EBFA;\n",
              "      box-shadow: 0px 1px 2px rgba(60, 64, 67, 0.3), 0px 1px 3px 1px rgba(60, 64, 67, 0.15);\n",
              "      fill: #174EA6;\n",
              "    }\n",
              "\n",
              "    [theme=dark] .colab-df-convert {\n",
              "      background-color: #3B4455;\n",
              "      fill: #D2E3FC;\n",
              "    }\n",
              "\n",
              "    [theme=dark] .colab-df-convert:hover {\n",
              "      background-color: #434B5C;\n",
              "      box-shadow: 0px 1px 3px 1px rgba(0, 0, 0, 0.15);\n",
              "      filter: drop-shadow(0px 1px 2px rgba(0, 0, 0, 0.3));\n",
              "      fill: #FFFFFF;\n",
              "    }\n",
              "  </style>\n",
              "\n",
              "      <script>\n",
              "        const buttonEl =\n",
              "          document.querySelector('#df-1d5905ca-a7c1-4318-902d-2f7c0e571c70 button.colab-df-convert');\n",
              "        buttonEl.style.display =\n",
              "          google.colab.kernel.accessAllowed ? 'block' : 'none';\n",
              "\n",
              "        async function convertToInteractive(key) {\n",
              "          const element = document.querySelector('#df-1d5905ca-a7c1-4318-902d-2f7c0e571c70');\n",
              "          const dataTable =\n",
              "            await google.colab.kernel.invokeFunction('convertToInteractive',\n",
              "                                                     [key], {});\n",
              "          if (!dataTable) return;\n",
              "\n",
              "          const docLinkHtml = 'Like what you see? Visit the ' +\n",
              "            '<a target=\"_blank\" href=https://colab.research.google.com/notebooks/data_table.ipynb>data table notebook</a>'\n",
              "            + ' to learn more about interactive tables.';\n",
              "          element.innerHTML = '';\n",
              "          dataTable['output_type'] = 'display_data';\n",
              "          await google.colab.output.renderOutput(dataTable, element);\n",
              "          const docLink = document.createElement('div');\n",
              "          docLink.innerHTML = docLinkHtml;\n",
              "          element.appendChild(docLink);\n",
              "        }\n",
              "      </script>\n",
              "    </div>\n",
              "  </div>\n",
              "  "
            ]
          },
          "metadata": {},
          "execution_count": 32
        }
      ]
    },
    {
      "cell_type": "markdown",
      "metadata": {
        "id": "Z2pI7oH5tAH9"
      },
      "source": [
        "# Preprocesamiento de texto"
      ]
    },
    {
      "cell_type": "code",
      "metadata": {
        "id": "_0gF4PanN61o",
        "colab": {
          "base_uri": "https://localhost:8080/",
          "height": 140
        },
        "outputId": "56e9c336-e36b-44a2-a449-eae0b1a7c884"
      },
      "source": [
        "ejemplo = np.random.choice(corpus['doc'])\n",
        "print(len(ejemplo))\n",
        "ejemplo"
      ],
      "execution_count": 33,
      "outputs": [
        {
          "output_type": "stream",
          "name": "stdout",
          "text": [
            "1146\n"
          ]
        },
        {
          "output_type": "execute_result",
          "data": {
            "text/plain": [
              "' Postoperative follow-up of patients with early breast cancer. Patterns of care among clinical oncologists and a review of the literature, Eighty clinical oncologists in the southeastern United States were surveyed to determine their strategies for follow-up care after primary treatment of early-stage breast cancer. The frequency of use of the history and physical examination. complete blood count. liver function tests. carcinoembryonic antigen levels. chest x-ray. skeletal survey. bone scan. liver scan. and mammogram for observing hypothetical low- and high-risk patients was assessed. Yearly mammograms were recommended by more than 95% of respondents. History and physical examination were the modalities used most often. whereas periodic bone and liver scans were used only in a minority of patients. A review of the literature supported the strategy of the respondents in this survey and further underscored the cost-effectiveness of the history and physical examination in detecting recurrence during follow-up. Based on this survey and supporting literature. recommendations for reasonable yet cost-conscious follow-up are presented.'"
            ],
            "application/vnd.google.colaboratory.intrinsic+json": {
              "type": "string"
            }
          },
          "metadata": {},
          "execution_count": 33
        }
      ]
    },
    {
      "cell_type": "markdown",
      "metadata": {
        "id": "CYZO4qz9tDdD"
      },
      "source": [
        "#### Transformar texto a minúsculas"
      ]
    },
    {
      "cell_type": "markdown",
      "source": [
        "220422 Puede tener problemas con mayusculas y minusculas y trabajaamos con ello"
      ],
      "metadata": {
        "id": "L7b_KYnDY2-S"
      }
    },
    {
      "cell_type": "code",
      "metadata": {
        "id": "l9_may3QtHpT",
        "colab": {
          "base_uri": "https://localhost:8080/",
          "height": 140
        },
        "outputId": "df729bb5-bd24-4130-96c3-93d4f3ef27f9"
      },
      "source": [
        "ejemplo = ejemplo.lower()\n",
        "print(len(ejemplo))\n",
        "ejemplo"
      ],
      "execution_count": 34,
      "outputs": [
        {
          "output_type": "stream",
          "name": "stdout",
          "text": [
            "1146\n"
          ]
        },
        {
          "output_type": "execute_result",
          "data": {
            "text/plain": [
              "' postoperative follow-up of patients with early breast cancer. patterns of care among clinical oncologists and a review of the literature, eighty clinical oncologists in the southeastern united states were surveyed to determine their strategies for follow-up care after primary treatment of early-stage breast cancer. the frequency of use of the history and physical examination. complete blood count. liver function tests. carcinoembryonic antigen levels. chest x-ray. skeletal survey. bone scan. liver scan. and mammogram for observing hypothetical low- and high-risk patients was assessed. yearly mammograms were recommended by more than 95% of respondents. history and physical examination were the modalities used most often. whereas periodic bone and liver scans were used only in a minority of patients. a review of the literature supported the strategy of the respondents in this survey and further underscored the cost-effectiveness of the history and physical examination in detecting recurrence during follow-up. based on this survey and supporting literature. recommendations for reasonable yet cost-conscious follow-up are presented.'"
            ],
            "application/vnd.google.colaboratory.intrinsic+json": {
              "type": "string"
            }
          },
          "metadata": {},
          "execution_count": 34
        }
      ]
    },
    {
      "cell_type": "markdown",
      "metadata": {
        "id": "FJfeT1uwtIHT"
      },
      "source": [
        "#### Quitar puntuación"
      ]
    },
    {
      "cell_type": "markdown",
      "source": [
        "220422 Quitar los signos de puntuación .."
      ],
      "metadata": {
        "id": "5WOwUUW7Y9It"
      }
    },
    {
      "cell_type": "code",
      "metadata": {
        "id": "3dYvCI1ntQWc",
        "colab": {
          "base_uri": "https://localhost:8080/",
          "height": 140
        },
        "outputId": "62d28e32-9b18-492b-a320-e4ecb919729f"
      },
      "source": [
        "ejemplo = elimina_puntuacion(ejemplo)\n",
        "print(len(ejemplo))\n",
        "ejemplo"
      ],
      "execution_count": 35,
      "outputs": [
        {
          "output_type": "stream",
          "name": "stdout",
          "text": [
            "1125\n"
          ]
        },
        {
          "output_type": "execute_result",
          "data": {
            "text/plain": [
              "' postoperative follow up of patients with early breast cancer patterns of care among clinical oncologists and a review of the literature eighty clinical oncologists in the southeastern united states were surveyed to determine their strategies for follow up care after primary treatment of early stage breast cancer the frequency of use of the history and physical examination complete blood count liver function tests carcinoembryonic antigen levels chest x ray skeletal survey bone scan liver scan and mammogram for observing hypothetical low and high risk patients was assessed yearly mammograms were recommended by more than  of respondents history and physical examination were the modalities used most often whereas periodic bone and liver scans were used only in a minority of patients a review of the literature supported the strategy of the respondents in this survey and further underscored the cost effectiveness of the history and physical examination in detecting recurrence during follow up based on this survey and supporting literature recommendations for reasonable yet cost conscious follow up are presented '"
            ],
            "application/vnd.google.colaboratory.intrinsic+json": {
              "type": "string"
            }
          },
          "metadata": {},
          "execution_count": 35
        }
      ]
    },
    {
      "cell_type": "markdown",
      "metadata": {
        "id": "RWpEiJcDtTHO"
      },
      "source": [
        "#### Quitar Palabras Irrelevantes (\"Stopwords\")"
      ]
    },
    {
      "cell_type": "markdown",
      "source": [
        "220422 son palabras irrelevantes, meten mucho ruiddo no son muy útiles, se va a adeshacer de todas estas stopware, primero quita palabras como the, on, at, and ..."
      ],
      "metadata": {
        "id": "zd8KtPgrZI-n"
      }
    },
    {
      "cell_type": "code",
      "metadata": {
        "id": "5Rt-PGKdtTmN",
        "colab": {
          "base_uri": "https://localhost:8080/",
          "height": 122
        },
        "outputId": "7f2996aa-6c1d-4c62-990a-0c136a0101c8"
      },
      "source": [
        "ejemplo = elimina_stopwords(ejemplo)\n",
        "print(len(ejemplo))\n",
        "ejemplo"
      ],
      "execution_count": 36,
      "outputs": [
        {
          "output_type": "stream",
          "name": "stdout",
          "text": [
            "874\n"
          ]
        },
        {
          "output_type": "execute_result",
          "data": {
            "text/plain": [
              "' postoperative follow patients early breast cancer patterns care among clinical oncologists review literature eighty clinical oncologists southeastern united states surveyed determine strategies follow care primary treatment early stage breast cancer frequency use history physical examination complete blood count liver function tests carcinoembryonic antigen levels chest x ray skeletal survey bone scan liver scan mammogram observing hypothetical low high risk patients assessed yearly mammograms recommended respondents history physical examination modalities used often whereas periodic bone liver scans used minority patients review literature supported strategy respondents survey underscored cost effectiveness history physical examination detecting recurrence follow based survey supporting literature recommendations reasonable yet cost conscious follow presented '"
            ],
            "application/vnd.google.colaboratory.intrinsic+json": {
              "type": "string"
            }
          },
          "metadata": {},
          "execution_count": 36
        }
      ]
    },
    {
      "cell_type": "markdown",
      "metadata": {
        "id": "FqT5lRXW585j"
      },
      "source": [
        "## Normalización\n",
        "Existen dos principales técnicas para normalizar el texto, la lematización y \"radicalización\" o stemming, que consiste en la  conversión de palabras en las raices\n",
        "\n",
        "Referencia: \n",
        "\n",
        "https://towardsdatascience.com/introduction-to-nlp-part-2-difference-between-lemmatisation-and-stemming-3789be1c55bc"
      ]
    },
    {
      "cell_type": "markdown",
      "source": [
        "220422 En este ejemplo podemos quitar stopwords"
      ],
      "metadata": {
        "id": "kC33GCCgZ2fY"
      }
    },
    {
      "cell_type": "markdown",
      "source": [
        "220422 la lematización deja las palabras parecidas, las cortan las considera iguales y el stemmer corta las palabras y las considera diferentes"
      ],
      "metadata": {
        "id": "sbyjG718aCwb"
      }
    },
    {
      "cell_type": "code",
      "source": [
        "# Ejemplo de diferencia entre lematización y stemización (radicalización)\n",
        "oracion = 'i have one foot and two feet constitutional'\n",
        "print(lematizar(oracion))\n",
        "print(stemmer(oracion))"
      ],
      "metadata": {
        "id": "sdzBsX1UPDS3",
        "colab": {
          "base_uri": "https://localhost:8080/"
        },
        "outputId": "cba560b7-c8f7-46ec-8d5c-79e094bc522e"
      },
      "execution_count": 40,
      "outputs": [
        {
          "output_type": "stream",
          "name": "stdout",
          "text": [
            "i have one foot and two foot constitutional\n",
            "i have one foot and two feet constitut\n"
          ]
        }
      ]
    },
    {
      "cell_type": "code",
      "metadata": {
        "id": "WIFwWnuQCrH2",
        "colab": {
          "base_uri": "https://localhost:8080/",
          "height": 122
        },
        "outputId": "65de60ba-7886-4e31-af3c-a98b7454b4ae"
      },
      "source": [
        "ejemplo_lema = lematizar(ejemplo)\n",
        "print(len(ejemplo_lema))\n",
        "ejemplo_lema"
      ],
      "execution_count": 38,
      "outputs": [
        {
          "output_type": "stream",
          "name": "stdout",
          "text": [
            "854\n"
          ]
        },
        {
          "output_type": "execute_result",
          "data": {
            "text/plain": [
              "'postoperative follow patient early breast cancer pattern care among clinical oncologist review literature eighty clinical oncologist southeastern united state surveyed determine strategy follow care primary treatment early stage breast cancer frequency use history physical examination complete blood count liver function test carcinoembryonic antigen level chest x ray skeletal survey bone scan liver scan mammogram observing hypothetical low high risk patient assessed yearly mammogram recommended respondent history physical examination modality used often whereas periodic bone liver scan used minority patient review literature supported strategy respondent survey underscored cost effectiveness history physical examination detecting recurrence follow based survey supporting literature recommendation reasonable yet cost conscious follow presented'"
            ],
            "application/vnd.google.colaboratory.intrinsic+json": {
              "type": "string"
            }
          },
          "metadata": {},
          "execution_count": 38
        }
      ]
    },
    {
      "cell_type": "code",
      "metadata": {
        "id": "vaNcLBVtFrpG",
        "colab": {
          "base_uri": "https://localhost:8080/",
          "height": 122
        },
        "outputId": "8e02cb64-61d7-4183-cd0a-8d8f2d0e89e1"
      },
      "source": [
        "ejemplo_stem = stemmer(ejemplo)\n",
        "print(len(ejemplo_stem))\n",
        "ejemplo_stem"
      ],
      "execution_count": 41,
      "outputs": [
        {
          "output_type": "stream",
          "name": "stdout",
          "text": [
            "746\n"
          ]
        },
        {
          "output_type": "execute_result",
          "data": {
            "text/plain": [
              "'postop follow patient earli breast cancer pattern care among clinic oncologist review literatur eighti clinic oncologist southeastern unit state survey determin strategi follow care primari treatment earli stage breast cancer frequenc use histori physic examin complet blood count liver function test carcinoembryon antigen level chest x ray skelet survey bone scan liver scan mammogram observ hypothet low high risk patient assess yearli mammogram recommend respond histori physic examin modal use often wherea period bone liver scan use minor patient review literatur support strategi respond survey underscor cost effect histori physic examin detect recurr follow base survey support literatur recommend reason yet cost consciou follow present'"
            ],
            "application/vnd.google.colaboratory.intrinsic+json": {
              "type": "string"
            }
          },
          "metadata": {},
          "execution_count": 41
        }
      ]
    },
    {
      "cell_type": "markdown",
      "metadata": {
        "id": "ANZQqWl2QkCx"
      },
      "source": [
        "## Todo junto"
      ]
    },
    {
      "cell_type": "markdown",
      "source": [
        "220422 Es un mapeo en pandas, utiliza la función preprocesar paara mapear en todos los documentos y deja un dataframe o columna que deja un..."
      ],
      "metadata": {
        "id": "rSlBTLYiapcE"
      }
    },
    {
      "cell_type": "code",
      "metadata": {
        "id": "ExtHv1pNQhj8",
        "colab": {
          "base_uri": "https://localhost:8080/"
        },
        "outputId": "7da296fa-219e-42a8-c8e2-e4b3bdf41f18"
      },
      "source": [
        "%%time\n",
        "corpus['doc_pp'] = corpus['doc'].apply(preprocesar)"
      ],
      "execution_count": 42,
      "outputs": [
        {
          "output_type": "stream",
          "name": "stdout",
          "text": [
            "CPU times: user 46.9 s, sys: 351 ms, total: 47.2 s\n",
            "Wall time: 49.6 s\n"
          ]
        }
      ]
    },
    {
      "cell_type": "code",
      "metadata": {
        "id": "oy1U9kqIZBtC",
        "colab": {
          "base_uri": "https://localhost:8080/",
          "height": 204
        },
        "outputId": "103044ba-aea6-49ae-f29b-47e6097f4a0e"
      },
      "source": [
        "corpus.head()"
      ],
      "execution_count": 43,
      "outputs": [
        {
          "output_type": "execute_result",
          "data": {
            "text/plain": [
              "   label                                                doc  \\\n",
              "0     16   Improved outcome at 28 days of age for very l...   \n",
              "1      5   Chylothorax after posterior spinal instrument...   \n",
              "2     16   Childhood pulmonary function following hyalin...   \n",
              "3      8   Treatment of atelectasis of upper lung lobes....   \n",
              "4     21   Decision analysis, public health policy, and ...   \n",
              "\n",
              "                                              doc_pp  \n",
              "0  improv outcom day age low birth weight infant ...  \n",
              "1  chylothorax posterior spinal instrument fusion...  \n",
              "2  childhood pulmonari function follow hyalin mem...  \n",
              "3  treatment atelectasi upper lung lobe select br...  \n",
              "4  decis analysi public health polici isoniazid c...  "
            ],
            "text/html": [
              "\n",
              "  <div id=\"df-b378703f-fd95-4e5f-8c97-6f2c7e874b45\">\n",
              "    <div class=\"colab-df-container\">\n",
              "      <div>\n",
              "<style scoped>\n",
              "    .dataframe tbody tr th:only-of-type {\n",
              "        vertical-align: middle;\n",
              "    }\n",
              "\n",
              "    .dataframe tbody tr th {\n",
              "        vertical-align: top;\n",
              "    }\n",
              "\n",
              "    .dataframe thead th {\n",
              "        text-align: right;\n",
              "    }\n",
              "</style>\n",
              "<table border=\"1\" class=\"dataframe\">\n",
              "  <thead>\n",
              "    <tr style=\"text-align: right;\">\n",
              "      <th></th>\n",
              "      <th>label</th>\n",
              "      <th>doc</th>\n",
              "      <th>doc_pp</th>\n",
              "    </tr>\n",
              "  </thead>\n",
              "  <tbody>\n",
              "    <tr>\n",
              "      <th>0</th>\n",
              "      <td>16</td>\n",
              "      <td>Improved outcome at 28 days of age for very l...</td>\n",
              "      <td>improv outcom day age low birth weight infant ...</td>\n",
              "    </tr>\n",
              "    <tr>\n",
              "      <th>1</th>\n",
              "      <td>5</td>\n",
              "      <td>Chylothorax after posterior spinal instrument...</td>\n",
              "      <td>chylothorax posterior spinal instrument fusion...</td>\n",
              "    </tr>\n",
              "    <tr>\n",
              "      <th>2</th>\n",
              "      <td>16</td>\n",
              "      <td>Childhood pulmonary function following hyalin...</td>\n",
              "      <td>childhood pulmonari function follow hyalin mem...</td>\n",
              "    </tr>\n",
              "    <tr>\n",
              "      <th>3</th>\n",
              "      <td>8</td>\n",
              "      <td>Treatment of atelectasis of upper lung lobes....</td>\n",
              "      <td>treatment atelectasi upper lung lobe select br...</td>\n",
              "    </tr>\n",
              "    <tr>\n",
              "      <th>4</th>\n",
              "      <td>21</td>\n",
              "      <td>Decision analysis, public health policy, and ...</td>\n",
              "      <td>decis analysi public health polici isoniazid c...</td>\n",
              "    </tr>\n",
              "  </tbody>\n",
              "</table>\n",
              "</div>\n",
              "      <button class=\"colab-df-convert\" onclick=\"convertToInteractive('df-b378703f-fd95-4e5f-8c97-6f2c7e874b45')\"\n",
              "              title=\"Convert this dataframe to an interactive table.\"\n",
              "              style=\"display:none;\">\n",
              "        \n",
              "  <svg xmlns=\"http://www.w3.org/2000/svg\" height=\"24px\"viewBox=\"0 0 24 24\"\n",
              "       width=\"24px\">\n",
              "    <path d=\"M0 0h24v24H0V0z\" fill=\"none\"/>\n",
              "    <path d=\"M18.56 5.44l.94 2.06.94-2.06 2.06-.94-2.06-.94-.94-2.06-.94 2.06-2.06.94zm-11 1L8.5 8.5l.94-2.06 2.06-.94-2.06-.94L8.5 2.5l-.94 2.06-2.06.94zm10 10l.94 2.06.94-2.06 2.06-.94-2.06-.94-.94-2.06-.94 2.06-2.06.94z\"/><path d=\"M17.41 7.96l-1.37-1.37c-.4-.4-.92-.59-1.43-.59-.52 0-1.04.2-1.43.59L10.3 9.45l-7.72 7.72c-.78.78-.78 2.05 0 2.83L4 21.41c.39.39.9.59 1.41.59.51 0 1.02-.2 1.41-.59l7.78-7.78 2.81-2.81c.8-.78.8-2.07 0-2.86zM5.41 20L4 18.59l7.72-7.72 1.47 1.35L5.41 20z\"/>\n",
              "  </svg>\n",
              "      </button>\n",
              "      \n",
              "  <style>\n",
              "    .colab-df-container {\n",
              "      display:flex;\n",
              "      flex-wrap:wrap;\n",
              "      gap: 12px;\n",
              "    }\n",
              "\n",
              "    .colab-df-convert {\n",
              "      background-color: #E8F0FE;\n",
              "      border: none;\n",
              "      border-radius: 50%;\n",
              "      cursor: pointer;\n",
              "      display: none;\n",
              "      fill: #1967D2;\n",
              "      height: 32px;\n",
              "      padding: 0 0 0 0;\n",
              "      width: 32px;\n",
              "    }\n",
              "\n",
              "    .colab-df-convert:hover {\n",
              "      background-color: #E2EBFA;\n",
              "      box-shadow: 0px 1px 2px rgba(60, 64, 67, 0.3), 0px 1px 3px 1px rgba(60, 64, 67, 0.15);\n",
              "      fill: #174EA6;\n",
              "    }\n",
              "\n",
              "    [theme=dark] .colab-df-convert {\n",
              "      background-color: #3B4455;\n",
              "      fill: #D2E3FC;\n",
              "    }\n",
              "\n",
              "    [theme=dark] .colab-df-convert:hover {\n",
              "      background-color: #434B5C;\n",
              "      box-shadow: 0px 1px 3px 1px rgba(0, 0, 0, 0.15);\n",
              "      filter: drop-shadow(0px 1px 2px rgba(0, 0, 0, 0.3));\n",
              "      fill: #FFFFFF;\n",
              "    }\n",
              "  </style>\n",
              "\n",
              "      <script>\n",
              "        const buttonEl =\n",
              "          document.querySelector('#df-b378703f-fd95-4e5f-8c97-6f2c7e874b45 button.colab-df-convert');\n",
              "        buttonEl.style.display =\n",
              "          google.colab.kernel.accessAllowed ? 'block' : 'none';\n",
              "\n",
              "        async function convertToInteractive(key) {\n",
              "          const element = document.querySelector('#df-b378703f-fd95-4e5f-8c97-6f2c7e874b45');\n",
              "          const dataTable =\n",
              "            await google.colab.kernel.invokeFunction('convertToInteractive',\n",
              "                                                     [key], {});\n",
              "          if (!dataTable) return;\n",
              "\n",
              "          const docLinkHtml = 'Like what you see? Visit the ' +\n",
              "            '<a target=\"_blank\" href=https://colab.research.google.com/notebooks/data_table.ipynb>data table notebook</a>'\n",
              "            + ' to learn more about interactive tables.';\n",
              "          element.innerHTML = '';\n",
              "          dataTable['output_type'] = 'display_data';\n",
              "          await google.colab.output.renderOutput(dataTable, element);\n",
              "          const docLink = document.createElement('div');\n",
              "          docLink.innerHTML = docLinkHtml;\n",
              "          element.appendChild(docLink);\n",
              "        }\n",
              "      </script>\n",
              "    </div>\n",
              "  </div>\n",
              "  "
            ]
          },
          "metadata": {},
          "execution_count": 43
        }
      ]
    },
    {
      "cell_type": "markdown",
      "metadata": {
        "id": "3q4-_0F50VTz"
      },
      "source": [
        "# Bolsa de palabras peso TF-IDF"
      ]
    },
    {
      "cell_type": "markdown",
      "metadata": {
        "id": "kKBvYcyQ0n38"
      },
      "source": [
        "Usaremos la funcion **```TFidfVectorize```** de skleran\n",
        "Notar que el paramentro **```min_df```** hace la función \"cut-off\" para no considerar los términos con poca frecuencia en el documento.\n",
        "En este ejercio se ha establecido una frecuencia de al menos 70 documentos que contengan el término que corresponde a cerca del 0.5% de todos los documentos\n"
      ]
    },
    {
      "cell_type": "markdown",
      "source": [
        "220422 El logaritmo de las ocurrencias entre las frecuencias del texto.\n",
        "La ocurrencia del texto entre el total de la longitud del texto, \n",
        "La suma de las que han apereceddo 70 veces despues apalicao el tfidf a los que ya estan sistematizaados, es decir voy a tener todas las palaabras con las que voy a vectorizar mis textos, 13914 *2049 \n",
        "Lo que dice la matriz es que no tiene la paalabra aaabil, aabl... pero tiene la palabra would, year, yet, yield, etc...\n",
        "Se usa asi porque tiene n palabras ...\n",
        "\n"
      ],
      "metadata": {
        "id": "SEEVL49mbCL2"
      }
    },
    {
      "cell_type": "code",
      "metadata": {
        "id": "xxo__kupoJtY",
        "colab": {
          "base_uri": "https://localhost:8080/",
          "height": 490
        },
        "outputId": "a6815527-07b6-40a1-d35a-db7306ed73ae"
      },
      "source": [
        "tfidf = TfidfVectorizer(min_df=70)\n",
        "mdt_tfidf = tfidf.fit_transform(corpus['doc_pp']) \n",
        "palabras = tfidf.get_feature_names()\n",
        "MDT = pd.DataFrame(mdt_tfidf.todense(), \n",
        "                              index=corpus.index, \n",
        "                              columns=palabras)\n",
        "print(MDT.shape)\n",
        "MDT"
      ],
      "execution_count": 44,
      "outputs": [
        {
          "output_type": "stream",
          "name": "stdout",
          "text": [
            "(13914, 2049)\n"
          ]
        },
        {
          "output_type": "stream",
          "name": "stderr",
          "text": [
            "/usr/local/lib/python3.7/dist-packages/sklearn/utils/deprecation.py:87: FutureWarning: Function get_feature_names is deprecated; get_feature_names is deprecated in 1.0 and will be removed in 1.2. Please use get_feature_names_out instead.\n",
            "  warnings.warn(msg, category=FutureWarning)\n"
          ]
        },
        {
          "output_type": "execute_result",
          "data": {
            "text/plain": [
              "       abdomin  abil  abl    abnorm  abscess  absenc  absent  absolut  \\\n",
              "0          0.0   0.0  0.0  0.000000      0.0     0.0     0.0      0.0   \n",
              "1          0.0   0.0  0.0  0.000000      0.0     0.0     0.0      0.0   \n",
              "2          0.0   0.0  0.0  0.153212      0.0     0.0     0.0      0.0   \n",
              "3          0.0   0.0  0.0  0.000000      0.0     0.0     0.0      0.0   \n",
              "4          0.0   0.0  0.0  0.000000      0.0     0.0     0.0      0.0   \n",
              "...        ...   ...  ...       ...      ...     ...     ...      ...   \n",
              "13909      0.0   0.0  0.0  0.000000      0.0     0.0     0.0      0.0   \n",
              "13910      0.0   0.0  0.0  0.000000      0.0     0.0     0.0      0.0   \n",
              "13911      0.0   0.0  0.0  0.000000      0.0     0.0     0.0      0.0   \n",
              "13912      0.0   0.0  0.0  0.000000      0.0     0.0     0.0      0.0   \n",
              "13913      0.0   0.0  0.0  0.000000      0.0     0.0     0.0      0.0   \n",
              "\n",
              "       absorpt  abstract  ...     would     wound      year  yet  yield  york  \\\n",
              "0          0.0       0.0  ...  0.058752  0.000000  0.000000  0.0    0.0   0.0   \n",
              "1          0.0       0.0  ...  0.000000  0.000000  0.071739  0.0    0.0   0.0   \n",
              "2          0.0       0.0  ...  0.000000  0.000000  0.000000  0.0    0.0   0.0   \n",
              "3          0.0       0.0  ...  0.000000  0.000000  0.000000  0.0    0.0   0.0   \n",
              "4          0.0       0.0  ...  0.000000  0.000000  0.045617  0.0    0.0   0.0   \n",
              "...        ...       ...  ...       ...       ...       ...  ...    ...   ...   \n",
              "13909      0.0       0.0  ...  0.000000  0.000000  0.000000  0.0    0.0   0.0   \n",
              "13910      0.0       0.0  ...  0.000000  0.000000  0.000000  0.0    0.0   0.0   \n",
              "13911      0.0       0.0  ...  0.000000  0.097259  0.000000  0.0    0.0   0.0   \n",
              "13912      0.0       0.0  ...  0.000000  0.000000  0.000000  0.0    0.0   0.0   \n",
              "13913      0.0       0.0  ...  0.000000  0.000000  0.000000  0.0    0.0   0.0   \n",
              "\n",
              "          young  younger   yr  zone  \n",
              "0      0.000000      0.0  0.0   0.0  \n",
              "1      0.000000      0.0  0.0   0.0  \n",
              "2      0.000000      0.0  0.0   0.0  \n",
              "3      0.000000      0.0  0.0   0.0  \n",
              "4      0.087732      0.0  0.0   0.0  \n",
              "...         ...      ...  ...   ...  \n",
              "13909  0.000000      0.0  0.0   0.0  \n",
              "13910  0.000000      0.0  0.0   0.0  \n",
              "13911  0.000000      0.0  0.0   0.0  \n",
              "13912  0.000000      0.0  0.0   0.0  \n",
              "13913  0.000000      0.0  0.0   0.0  \n",
              "\n",
              "[13914 rows x 2049 columns]"
            ],
            "text/html": [
              "\n",
              "  <div id=\"df-bc550de1-d7bb-49b5-ae07-1533519d4980\">\n",
              "    <div class=\"colab-df-container\">\n",
              "      <div>\n",
              "<style scoped>\n",
              "    .dataframe tbody tr th:only-of-type {\n",
              "        vertical-align: middle;\n",
              "    }\n",
              "\n",
              "    .dataframe tbody tr th {\n",
              "        vertical-align: top;\n",
              "    }\n",
              "\n",
              "    .dataframe thead th {\n",
              "        text-align: right;\n",
              "    }\n",
              "</style>\n",
              "<table border=\"1\" class=\"dataframe\">\n",
              "  <thead>\n",
              "    <tr style=\"text-align: right;\">\n",
              "      <th></th>\n",
              "      <th>abdomin</th>\n",
              "      <th>abil</th>\n",
              "      <th>abl</th>\n",
              "      <th>abnorm</th>\n",
              "      <th>abscess</th>\n",
              "      <th>absenc</th>\n",
              "      <th>absent</th>\n",
              "      <th>absolut</th>\n",
              "      <th>absorpt</th>\n",
              "      <th>abstract</th>\n",
              "      <th>...</th>\n",
              "      <th>would</th>\n",
              "      <th>wound</th>\n",
              "      <th>year</th>\n",
              "      <th>yet</th>\n",
              "      <th>yield</th>\n",
              "      <th>york</th>\n",
              "      <th>young</th>\n",
              "      <th>younger</th>\n",
              "      <th>yr</th>\n",
              "      <th>zone</th>\n",
              "    </tr>\n",
              "  </thead>\n",
              "  <tbody>\n",
              "    <tr>\n",
              "      <th>0</th>\n",
              "      <td>0.0</td>\n",
              "      <td>0.0</td>\n",
              "      <td>0.0</td>\n",
              "      <td>0.000000</td>\n",
              "      <td>0.0</td>\n",
              "      <td>0.0</td>\n",
              "      <td>0.0</td>\n",
              "      <td>0.0</td>\n",
              "      <td>0.0</td>\n",
              "      <td>0.0</td>\n",
              "      <td>...</td>\n",
              "      <td>0.058752</td>\n",
              "      <td>0.000000</td>\n",
              "      <td>0.000000</td>\n",
              "      <td>0.0</td>\n",
              "      <td>0.0</td>\n",
              "      <td>0.0</td>\n",
              "      <td>0.000000</td>\n",
              "      <td>0.0</td>\n",
              "      <td>0.0</td>\n",
              "      <td>0.0</td>\n",
              "    </tr>\n",
              "    <tr>\n",
              "      <th>1</th>\n",
              "      <td>0.0</td>\n",
              "      <td>0.0</td>\n",
              "      <td>0.0</td>\n",
              "      <td>0.000000</td>\n",
              "      <td>0.0</td>\n",
              "      <td>0.0</td>\n",
              "      <td>0.0</td>\n",
              "      <td>0.0</td>\n",
              "      <td>0.0</td>\n",
              "      <td>0.0</td>\n",
              "      <td>...</td>\n",
              "      <td>0.000000</td>\n",
              "      <td>0.000000</td>\n",
              "      <td>0.071739</td>\n",
              "      <td>0.0</td>\n",
              "      <td>0.0</td>\n",
              "      <td>0.0</td>\n",
              "      <td>0.000000</td>\n",
              "      <td>0.0</td>\n",
              "      <td>0.0</td>\n",
              "      <td>0.0</td>\n",
              "    </tr>\n",
              "    <tr>\n",
              "      <th>2</th>\n",
              "      <td>0.0</td>\n",
              "      <td>0.0</td>\n",
              "      <td>0.0</td>\n",
              "      <td>0.153212</td>\n",
              "      <td>0.0</td>\n",
              "      <td>0.0</td>\n",
              "      <td>0.0</td>\n",
              "      <td>0.0</td>\n",
              "      <td>0.0</td>\n",
              "      <td>0.0</td>\n",
              "      <td>...</td>\n",
              "      <td>0.000000</td>\n",
              "      <td>0.000000</td>\n",
              "      <td>0.000000</td>\n",
              "      <td>0.0</td>\n",
              "      <td>0.0</td>\n",
              "      <td>0.0</td>\n",
              "      <td>0.000000</td>\n",
              "      <td>0.0</td>\n",
              "      <td>0.0</td>\n",
              "      <td>0.0</td>\n",
              "    </tr>\n",
              "    <tr>\n",
              "      <th>3</th>\n",
              "      <td>0.0</td>\n",
              "      <td>0.0</td>\n",
              "      <td>0.0</td>\n",
              "      <td>0.000000</td>\n",
              "      <td>0.0</td>\n",
              "      <td>0.0</td>\n",
              "      <td>0.0</td>\n",
              "      <td>0.0</td>\n",
              "      <td>0.0</td>\n",
              "      <td>0.0</td>\n",
              "      <td>...</td>\n",
              "      <td>0.000000</td>\n",
              "      <td>0.000000</td>\n",
              "      <td>0.000000</td>\n",
              "      <td>0.0</td>\n",
              "      <td>0.0</td>\n",
              "      <td>0.0</td>\n",
              "      <td>0.000000</td>\n",
              "      <td>0.0</td>\n",
              "      <td>0.0</td>\n",
              "      <td>0.0</td>\n",
              "    </tr>\n",
              "    <tr>\n",
              "      <th>4</th>\n",
              "      <td>0.0</td>\n",
              "      <td>0.0</td>\n",
              "      <td>0.0</td>\n",
              "      <td>0.000000</td>\n",
              "      <td>0.0</td>\n",
              "      <td>0.0</td>\n",
              "      <td>0.0</td>\n",
              "      <td>0.0</td>\n",
              "      <td>0.0</td>\n",
              "      <td>0.0</td>\n",
              "      <td>...</td>\n",
              "      <td>0.000000</td>\n",
              "      <td>0.000000</td>\n",
              "      <td>0.045617</td>\n",
              "      <td>0.0</td>\n",
              "      <td>0.0</td>\n",
              "      <td>0.0</td>\n",
              "      <td>0.087732</td>\n",
              "      <td>0.0</td>\n",
              "      <td>0.0</td>\n",
              "      <td>0.0</td>\n",
              "    </tr>\n",
              "    <tr>\n",
              "      <th>...</th>\n",
              "      <td>...</td>\n",
              "      <td>...</td>\n",
              "      <td>...</td>\n",
              "      <td>...</td>\n",
              "      <td>...</td>\n",
              "      <td>...</td>\n",
              "      <td>...</td>\n",
              "      <td>...</td>\n",
              "      <td>...</td>\n",
              "      <td>...</td>\n",
              "      <td>...</td>\n",
              "      <td>...</td>\n",
              "      <td>...</td>\n",
              "      <td>...</td>\n",
              "      <td>...</td>\n",
              "      <td>...</td>\n",
              "      <td>...</td>\n",
              "      <td>...</td>\n",
              "      <td>...</td>\n",
              "      <td>...</td>\n",
              "      <td>...</td>\n",
              "    </tr>\n",
              "    <tr>\n",
              "      <th>13909</th>\n",
              "      <td>0.0</td>\n",
              "      <td>0.0</td>\n",
              "      <td>0.0</td>\n",
              "      <td>0.000000</td>\n",
              "      <td>0.0</td>\n",
              "      <td>0.0</td>\n",
              "      <td>0.0</td>\n",
              "      <td>0.0</td>\n",
              "      <td>0.0</td>\n",
              "      <td>0.0</td>\n",
              "      <td>...</td>\n",
              "      <td>0.000000</td>\n",
              "      <td>0.000000</td>\n",
              "      <td>0.000000</td>\n",
              "      <td>0.0</td>\n",
              "      <td>0.0</td>\n",
              "      <td>0.0</td>\n",
              "      <td>0.000000</td>\n",
              "      <td>0.0</td>\n",
              "      <td>0.0</td>\n",
              "      <td>0.0</td>\n",
              "    </tr>\n",
              "    <tr>\n",
              "      <th>13910</th>\n",
              "      <td>0.0</td>\n",
              "      <td>0.0</td>\n",
              "      <td>0.0</td>\n",
              "      <td>0.000000</td>\n",
              "      <td>0.0</td>\n",
              "      <td>0.0</td>\n",
              "      <td>0.0</td>\n",
              "      <td>0.0</td>\n",
              "      <td>0.0</td>\n",
              "      <td>0.0</td>\n",
              "      <td>...</td>\n",
              "      <td>0.000000</td>\n",
              "      <td>0.000000</td>\n",
              "      <td>0.000000</td>\n",
              "      <td>0.0</td>\n",
              "      <td>0.0</td>\n",
              "      <td>0.0</td>\n",
              "      <td>0.000000</td>\n",
              "      <td>0.0</td>\n",
              "      <td>0.0</td>\n",
              "      <td>0.0</td>\n",
              "    </tr>\n",
              "    <tr>\n",
              "      <th>13911</th>\n",
              "      <td>0.0</td>\n",
              "      <td>0.0</td>\n",
              "      <td>0.0</td>\n",
              "      <td>0.000000</td>\n",
              "      <td>0.0</td>\n",
              "      <td>0.0</td>\n",
              "      <td>0.0</td>\n",
              "      <td>0.0</td>\n",
              "      <td>0.0</td>\n",
              "      <td>0.0</td>\n",
              "      <td>...</td>\n",
              "      <td>0.000000</td>\n",
              "      <td>0.097259</td>\n",
              "      <td>0.000000</td>\n",
              "      <td>0.0</td>\n",
              "      <td>0.0</td>\n",
              "      <td>0.0</td>\n",
              "      <td>0.000000</td>\n",
              "      <td>0.0</td>\n",
              "      <td>0.0</td>\n",
              "      <td>0.0</td>\n",
              "    </tr>\n",
              "    <tr>\n",
              "      <th>13912</th>\n",
              "      <td>0.0</td>\n",
              "      <td>0.0</td>\n",
              "      <td>0.0</td>\n",
              "      <td>0.000000</td>\n",
              "      <td>0.0</td>\n",
              "      <td>0.0</td>\n",
              "      <td>0.0</td>\n",
              "      <td>0.0</td>\n",
              "      <td>0.0</td>\n",
              "      <td>0.0</td>\n",
              "      <td>...</td>\n",
              "      <td>0.000000</td>\n",
              "      <td>0.000000</td>\n",
              "      <td>0.000000</td>\n",
              "      <td>0.0</td>\n",
              "      <td>0.0</td>\n",
              "      <td>0.0</td>\n",
              "      <td>0.000000</td>\n",
              "      <td>0.0</td>\n",
              "      <td>0.0</td>\n",
              "      <td>0.0</td>\n",
              "    </tr>\n",
              "    <tr>\n",
              "      <th>13913</th>\n",
              "      <td>0.0</td>\n",
              "      <td>0.0</td>\n",
              "      <td>0.0</td>\n",
              "      <td>0.000000</td>\n",
              "      <td>0.0</td>\n",
              "      <td>0.0</td>\n",
              "      <td>0.0</td>\n",
              "      <td>0.0</td>\n",
              "      <td>0.0</td>\n",
              "      <td>0.0</td>\n",
              "      <td>...</td>\n",
              "      <td>0.000000</td>\n",
              "      <td>0.000000</td>\n",
              "      <td>0.000000</td>\n",
              "      <td>0.0</td>\n",
              "      <td>0.0</td>\n",
              "      <td>0.0</td>\n",
              "      <td>0.000000</td>\n",
              "      <td>0.0</td>\n",
              "      <td>0.0</td>\n",
              "      <td>0.0</td>\n",
              "    </tr>\n",
              "  </tbody>\n",
              "</table>\n",
              "<p>13914 rows × 2049 columns</p>\n",
              "</div>\n",
              "      <button class=\"colab-df-convert\" onclick=\"convertToInteractive('df-bc550de1-d7bb-49b5-ae07-1533519d4980')\"\n",
              "              title=\"Convert this dataframe to an interactive table.\"\n",
              "              style=\"display:none;\">\n",
              "        \n",
              "  <svg xmlns=\"http://www.w3.org/2000/svg\" height=\"24px\"viewBox=\"0 0 24 24\"\n",
              "       width=\"24px\">\n",
              "    <path d=\"M0 0h24v24H0V0z\" fill=\"none\"/>\n",
              "    <path d=\"M18.56 5.44l.94 2.06.94-2.06 2.06-.94-2.06-.94-.94-2.06-.94 2.06-2.06.94zm-11 1L8.5 8.5l.94-2.06 2.06-.94-2.06-.94L8.5 2.5l-.94 2.06-2.06.94zm10 10l.94 2.06.94-2.06 2.06-.94-2.06-.94-.94-2.06-.94 2.06-2.06.94z\"/><path d=\"M17.41 7.96l-1.37-1.37c-.4-.4-.92-.59-1.43-.59-.52 0-1.04.2-1.43.59L10.3 9.45l-7.72 7.72c-.78.78-.78 2.05 0 2.83L4 21.41c.39.39.9.59 1.41.59.51 0 1.02-.2 1.41-.59l7.78-7.78 2.81-2.81c.8-.78.8-2.07 0-2.86zM5.41 20L4 18.59l7.72-7.72 1.47 1.35L5.41 20z\"/>\n",
              "  </svg>\n",
              "      </button>\n",
              "      \n",
              "  <style>\n",
              "    .colab-df-container {\n",
              "      display:flex;\n",
              "      flex-wrap:wrap;\n",
              "      gap: 12px;\n",
              "    }\n",
              "\n",
              "    .colab-df-convert {\n",
              "      background-color: #E8F0FE;\n",
              "      border: none;\n",
              "      border-radius: 50%;\n",
              "      cursor: pointer;\n",
              "      display: none;\n",
              "      fill: #1967D2;\n",
              "      height: 32px;\n",
              "      padding: 0 0 0 0;\n",
              "      width: 32px;\n",
              "    }\n",
              "\n",
              "    .colab-df-convert:hover {\n",
              "      background-color: #E2EBFA;\n",
              "      box-shadow: 0px 1px 2px rgba(60, 64, 67, 0.3), 0px 1px 3px 1px rgba(60, 64, 67, 0.15);\n",
              "      fill: #174EA6;\n",
              "    }\n",
              "\n",
              "    [theme=dark] .colab-df-convert {\n",
              "      background-color: #3B4455;\n",
              "      fill: #D2E3FC;\n",
              "    }\n",
              "\n",
              "    [theme=dark] .colab-df-convert:hover {\n",
              "      background-color: #434B5C;\n",
              "      box-shadow: 0px 1px 3px 1px rgba(0, 0, 0, 0.15);\n",
              "      filter: drop-shadow(0px 1px 2px rgba(0, 0, 0, 0.3));\n",
              "      fill: #FFFFFF;\n",
              "    }\n",
              "  </style>\n",
              "\n",
              "      <script>\n",
              "        const buttonEl =\n",
              "          document.querySelector('#df-bc550de1-d7bb-49b5-ae07-1533519d4980 button.colab-df-convert');\n",
              "        buttonEl.style.display =\n",
              "          google.colab.kernel.accessAllowed ? 'block' : 'none';\n",
              "\n",
              "        async function convertToInteractive(key) {\n",
              "          const element = document.querySelector('#df-bc550de1-d7bb-49b5-ae07-1533519d4980');\n",
              "          const dataTable =\n",
              "            await google.colab.kernel.invokeFunction('convertToInteractive',\n",
              "                                                     [key], {});\n",
              "          if (!dataTable) return;\n",
              "\n",
              "          const docLinkHtml = 'Like what you see? Visit the ' +\n",
              "            '<a target=\"_blank\" href=https://colab.research.google.com/notebooks/data_table.ipynb>data table notebook</a>'\n",
              "            + ' to learn more about interactive tables.';\n",
              "          element.innerHTML = '';\n",
              "          dataTable['output_type'] = 'display_data';\n",
              "          await google.colab.output.renderOutput(dataTable, element);\n",
              "          const docLink = document.createElement('div');\n",
              "          docLink.innerHTML = docLinkHtml;\n",
              "          element.appendChild(docLink);\n",
              "        }\n",
              "      </script>\n",
              "    </div>\n",
              "  </div>\n",
              "  "
            ]
          },
          "metadata": {},
          "execution_count": 44
        }
      ]
    },
    {
      "cell_type": "code",
      "metadata": {
        "id": "2qEwu_1hfuRv",
        "colab": {
          "base_uri": "https://localhost:8080/"
        },
        "outputId": "311fff74-b2df-4bd0-e341-72117f5259ac"
      },
      "source": [
        "#¿qué porcentaje de celdas tienen cero?\n",
        "\n",
        "no_ceros = MDT.astype(bool).sum().sum()  #cantidad de ceros en todo el dataframe\n",
        "total = MDT.shape[0] * MDT.shape[1]\n",
        "\n",
        "(1- no_ceros/total) * 100"
      ],
      "execution_count": 45,
      "outputs": [
        {
          "output_type": "execute_result",
          "data": {
            "text/plain": [
              "97.33475726545264"
            ]
          },
          "metadata": {},
          "execution_count": 45
        }
      ]
    },
    {
      "cell_type": "markdown",
      "metadata": {
        "id": "Yyikiv431m1V"
      },
      "source": [
        "# Descomposición en valores singulares (SVD) con numpy\n",
        "\n",
        "$~~ M = U~D~V^{T}$\n",
        "\n",
        "$~~ M = \n",
        "\\sum_{i=1}^{min(m, n)}s_{i}\\cdot u_{1}v_{i}^{T}\n",
        "$\n",
        "\n",
        "\n",
        "\n",
        "\n"
      ]
    },
    {
      "cell_type": "markdown",
      "source": [
        ""
      ],
      "metadata": {
        "id": "DRcfxVP7cV4f"
      }
    },
    {
      "cell_type": "markdown",
      "source": [
        ""
      ],
      "metadata": {
        "id": "9zJ3aAHacZn7"
      }
    },
    {
      "cell_type": "code",
      "metadata": {
        "id": "tTumfmbHXolY",
        "colab": {
          "base_uri": "https://localhost:8080/"
        },
        "outputId": "661a4821-6dc0-4d3e-d452-95c9dc335018"
      },
      "source": [
        "# Ver las dimensiones de las tres matrices\n",
        "# Descomposición Matriz Documento Término  (3 min)\n",
        "U_, sigma_, Vt_ = np.linalg.svd(MDT)\n",
        "\n",
        "# obtener con los valores seingulare (sigma) la matriz D\n",
        "D_ = np.diag(sigma_)\n",
        "\n",
        "print(U_.shape, D_.shape, Vt_.shape)"
      ],
      "execution_count": 46,
      "outputs": [
        {
          "output_type": "stream",
          "name": "stdout",
          "text": [
            "(13914, 13914) (2049, 2049) (2049, 2049)\n"
          ]
        }
      ]
    },
    {
      "cell_type": "markdown",
      "source": [
        "220422 vamos a ver cuantos valores son cero, significa que los valores van a poder ser invertibles es decir podemos hacer una inversa de esa matriz.\n",
        "una vez que tenemos la matriz descompuesta, si recuerdan esta matriz representa oraciones vs caracteristicas y vemos que los 2049 son distintos de cero "
      ],
      "metadata": {
        "id": "gELBcCjkcm5F"
      }
    },
    {
      "cell_type": "code",
      "metadata": {
        "id": "VdALkmg6ywfx",
        "colab": {
          "base_uri": "https://localhost:8080/"
        },
        "outputId": "0e88fd5a-7576-4947-9668-c873fd584d74"
      },
      "source": [
        "sigma_.shape"
      ],
      "execution_count": 47,
      "outputs": [
        {
          "output_type": "execute_result",
          "data": {
            "text/plain": [
              "(2049,)"
            ]
          },
          "metadata": {},
          "execution_count": 47
        }
      ]
    },
    {
      "cell_type": "code",
      "metadata": {
        "id": "ytAPPLIeJ0d4",
        "colab": {
          "base_uri": "https://localhost:8080/"
        },
        "outputId": "108b7dc2-c51c-48de-c065-13123ca139e5"
      },
      "source": [
        "#¿cuántos valores de sigma son distintos de cero?\n",
        "sigmas = sigma_[np.nonzero(sigma_)]\n",
        "len(sigmas)"
      ],
      "execution_count": 48,
      "outputs": [
        {
          "output_type": "execute_result",
          "data": {
            "text/plain": [
              "2049"
            ]
          },
          "metadata": {},
          "execution_count": 48
        }
      ]
    },
    {
      "cell_type": "markdown",
      "metadata": {
        "id": "RD6PpmOQonK4"
      },
      "source": [
        "**Esto quiere decir que la matriz inicial no es singular**"
      ]
    },
    {
      "cell_type": "code",
      "source": [
        "# En el vector sigma estan ordenados los eigenvalores\n",
        "sigma_"
      ],
      "metadata": {
        "id": "1P687lFeTP_U",
        "colab": {
          "base_uri": "https://localhost:8080/"
        },
        "outputId": "d8aa23b9-7e48-4259-ac52-59300461689e"
      },
      "execution_count": 49,
      "outputs": [
        {
          "output_type": "execute_result",
          "data": {
            "text/plain": [
              "array([22.71384495, 12.01617847, 11.00848057, ...,  0.58259066,\n",
              "        0.44313759,  0.38249107])"
            ]
          },
          "metadata": {},
          "execution_count": 49
        }
      ]
    },
    {
      "cell_type": "code",
      "metadata": {
        "id": "Dx8DRsXuCvMx",
        "colab": {
          "base_uri": "https://localhost:8080/",
          "height": 279
        },
        "outputId": "54bb15de-a88b-4216-e5b3-0535f86458ed"
      },
      "source": [
        "import seaborn as sns\n",
        "import matplotlib.pyplot as plt\n",
        "\n",
        "k = 2049\n",
        "sns.lineplot(x=list(range(len(sigma_[0:k]))), y = sigma_[0:k])\n",
        "plt.ylabel('Importancia relativa de cada componente')\n",
        "plt.xlabel('Componentes latentes')\n",
        "plt.show()"
      ],
      "execution_count": 50,
      "outputs": [
        {
          "output_type": "display_data",
          "data": {
            "text/plain": [
              "<Figure size 432x288 with 1 Axes>"
            ],
            "image/png": "[encoded data removed]"
          },
          "metadata": {
            "needs_background": "light"
          }
        }
      ]
    },
    {
      "cell_type": "markdown",
      "metadata": {
        "id": "Iwtp0QqVrKVZ"
      },
      "source": [
        "# Análisis Semántico Latente\n",
        " SVD especificando $k<r$ con scipy\n",
        "\n",
        "\n",
        "$ ~~~~~~~~~~~~~~~~~~~~~~~~~~~~~~~~~~~~~~~~~~~~~~~~~~~~~~~~~~~~~~~~~~~~~~\\hat{M} = U_{k}~~D_{k}~~V_{k}^{T}\n",
        "$"
      ]
    },
    {
      "cell_type": "code",
      "metadata": {
        "id": "yygLNwBVLCbh",
        "colab": {
          "base_uri": "https://localhost:8080/"
        },
        "outputId": "08455f43-462d-40a1-ed18-a7748945f13a"
      },
      "source": [
        "%%time\n",
        "#from scipy.sparse.linalg import svds\n",
        "U_k, sigmas_k, Vt_k = svds(MDT, k=100)\n",
        "D_k = np.diag(sigmas_k)"
      ],
      "execution_count": 51,
      "outputs": [
        {
          "output_type": "stream",
          "name": "stdout",
          "text": [
            "CPU times: user 22.9 s, sys: 14.3 s, total: 37.2 s\n",
            "Wall time: 19 s\n"
          ]
        }
      ]
    },
    {
      "cell_type": "markdown",
      "source": [
        "220422 Obtenemos el vector reducido para facilitar operaciones, para depender de menos eigen values y para evitar tener la matriz dispersa y nos conviene factorizar de manera distinta "
      ],
      "metadata": {
        "id": "Rzj5Y0usfl_k"
      }
    },
    {
      "cell_type": "code",
      "metadata": {
        "id": "y3iVpQB6xUNh",
        "colab": {
          "base_uri": "https://localhost:8080/"
        },
        "outputId": "4795e0ed-01b7-4d01-ae4f-2ca71b755b65"
      },
      "source": [
        "#docs-temas / relevancia temas / temas-doc\n",
        "\n",
        "U_k.shape, D_k.shape, Vt_k.shape"
      ],
      "execution_count": 52,
      "outputs": [
        {
          "output_type": "execute_result",
          "data": {
            "text/plain": [
              "((13914, 100), (100, 100), (100, 2049))"
            ]
          },
          "metadata": {},
          "execution_count": 52
        }
      ]
    },
    {
      "cell_type": "markdown",
      "metadata": {
        "id": "j1Y9JE72qJc2"
      },
      "source": [
        "\n",
        "### Obtener la matriz reducida de latent semantic análisis que representa a cada documento con k términos\n",
        "\n",
        "$ M_{n\\times{k}} = U_{k}~~\\sqrt{D_{k}} $"
      ]
    },
    {
      "cell_type": "code",
      "metadata": {
        "id": "wnThiwvj6LNn",
        "colab": {
          "base_uri": "https://localhost:8080/"
        },
        "outputId": "cf808196-e2c5-4909-b537-78b11bc7acde"
      },
      "source": [
        "M1 = np.matmul(U_k, sqrtm(D_k)) \n",
        "M1.shape"
      ],
      "execution_count": 53,
      "outputs": [
        {
          "output_type": "execute_result",
          "data": {
            "text/plain": [
              "(13914, 100)"
            ]
          },
          "metadata": {},
          "execution_count": 53
        }
      ]
    },
    {
      "cell_type": "markdown",
      "metadata": {
        "id": "MBeKX7-x0EMh"
      },
      "source": [
        "### Obtener la matriz reducida de latent que representa a cada palabra con k términos\n",
        "$ M_{k\\times{d}} = \\sqrt{D_{k}}~~{V_{k}}^T~~ $"
      ]
    },
    {
      "cell_type": "code",
      "metadata": {
        "id": "HJOw_cEv0BW2",
        "colab": {
          "base_uri": "https://localhost:8080/"
        },
        "outputId": "bcac344f-195d-4cf1-8578-22ce98e7b7ae"
      },
      "source": [
        "M2 =  np.matmul(sqrtm(D_k), Vt_k) \n",
        "M2.shape"
      ],
      "execution_count": 54,
      "outputs": [
        {
          "output_type": "execute_result",
          "data": {
            "text/plain": [
              "(100, 2049)"
            ]
          },
          "metadata": {},
          "execution_count": 54
        }
      ]
    },
    {
      "cell_type": "markdown",
      "metadata": {
        "id": "pQMENpxVv54U"
      },
      "source": [
        "por facilidad la función **```descomposicion_k()```** regresa las dos matrices obtenidas en las líneas anteriores\n",
        "\n"
      ]
    },
    {
      "cell_type": "code",
      "metadata": {
        "id": "f6UTG7vYtiAJ",
        "colab": {
          "base_uri": "https://localhost:8080/"
        },
        "outputId": "22d97806-4da6-4633-e565-05d3db2c025a"
      },
      "source": [
        "MDT_nk, MDT_kd = descomposicion_k(U_k, D_k, Vt_k )\n",
        "\n",
        "print(MDT_nk.shape, MDT_kd.shape)"
      ],
      "execution_count": 55,
      "outputs": [
        {
          "output_type": "stream",
          "name": "stdout",
          "text": [
            "(13914, 100) (100, 2049)\n"
          ]
        }
      ]
    },
    {
      "cell_type": "code",
      "metadata": {
        "id": "2DnkswG4fJWN",
        "colab": {
          "base_uri": "https://localhost:8080/"
        },
        "outputId": "e98f71f7-a10b-4263-eacd-518066f998d7"
      },
      "source": [
        "#renglones reducidos y columnas reducidas\n",
        "(M1).shape, np.transpose(M2).shape\n"
      ],
      "execution_count": 56,
      "outputs": [
        {
          "output_type": "execute_result",
          "data": {
            "text/plain": [
              "((13914, 100), (2049, 100))"
            ]
          },
          "metadata": {},
          "execution_count": 56
        }
      ]
    },
    {
      "cell_type": "markdown",
      "metadata": {
        "id": "JVUuySPAn6MO"
      },
      "source": [
        "## Vectorizar consulta (texto nuevo)\n"
      ]
    },
    {
      "cell_type": "markdown",
      "metadata": {
        "id": "SfD1H4dKoYiP"
      },
      "source": [
        "**debemos vectorizar nuestra consulta utilizando el mismo vocabulario que el corpus**"
      ]
    },
    {
      "cell_type": "code",
      "metadata": {
        "id": "sEi5YMftlW7W",
        "colab": {
          "base_uri": "https://localhost:8080/"
        },
        "outputId": "6da6183e-8884-414b-9442-3f464b7686f3"
      },
      "source": [
        "#podemos usar cualquier texto\n",
        "q = vectorizar_consulta('heart desease')\n",
        "q.shape"
      ],
      "execution_count": 57,
      "outputs": [
        {
          "output_type": "execute_result",
          "data": {
            "text/plain": [
              "(1, 2049)"
            ]
          },
          "metadata": {},
          "execution_count": 57
        }
      ]
    },
    {
      "cell_type": "code",
      "source": [
        "q"
      ],
      "metadata": {
        "id": "Iq6Yk47AVAfB",
        "colab": {
          "base_uri": "https://localhost:8080/"
        },
        "outputId": "cbd26185-111b-4329-8849-2d5c13ae10ef"
      },
      "execution_count": 58,
      "outputs": [
        {
          "output_type": "execute_result",
          "data": {
            "text/plain": [
              "array([[0., 0., 0., ..., 0., 0., 0.]])"
            ]
          },
          "metadata": {},
          "execution_count": 58
        }
      ]
    },
    {
      "cell_type": "markdown",
      "metadata": {
        "id": "gU94qtI9quWr"
      },
      "source": [
        "como vemos, tenemos ahora la consulta con las d dimensiones que corresponden al vocabulario del corpus.\n",
        "\n"
      ]
    },
    {
      "cell_type": "markdown",
      "source": [
        ""
      ],
      "metadata": {
        "id": "GR-YhtCtgWNQ"
      }
    },
    {
      "cell_type": "markdown",
      "metadata": {
        "id": "Tx9nr9PbpIzu"
      },
      "source": [
        "**ahora es necesario reducir el vector, usando nuestras matrices**\n",
        "\n",
        "$\\hat{q} = \n",
        "q~V_{k}~D\n",
        "$"
      ]
    },
    {
      "cell_type": "markdown",
      "source": [
        "si la matriz no fuera dispersa hay ligeros problemas para hacer esta matriz "
      ],
      "metadata": {
        "id": "vhMM0xbygXSP"
      }
    },
    {
      "cell_type": "code",
      "metadata": {
        "id": "P-mV7Woa7LJC",
        "colab": {
          "base_uri": "https://localhost:8080/"
        },
        "outputId": "20913654-0511-441d-9517-82364de4b766"
      },
      "source": [
        "q_k = (q @ np.transpose(Vt_k)) @ (D_k)\n",
        "print(q.shape, np.transpose(Vt_k).shape, D_k.shape )\n",
        "print(q_k.shape)"
      ],
      "execution_count": 59,
      "outputs": [
        {
          "output_type": "stream",
          "name": "stdout",
          "text": [
            "(1, 2049) (2049, 100) (100, 100)\n",
            "(1, 100)\n"
          ]
        }
      ]
    },
    {
      "cell_type": "markdown",
      "metadata": {
        "id": "VeggL9v9rUI5"
      },
      "source": [
        "por facilidad guardamos el código anterior en la función **```reducir_vec_consulta()```**\n",
        "\n"
      ]
    },
    {
      "cell_type": "markdown",
      "source": [
        ""
      ],
      "metadata": {
        "id": "VhDoSHEnge86"
      }
    },
    {
      "cell_type": "code",
      "metadata": {
        "id": "Al_kVl0Vo1n5",
        "colab": {
          "base_uri": "https://localhost:8080/"
        },
        "outputId": "c943c7ae-2a5e-4c39-f2b5-9ae86b11d4ea"
      },
      "source": [
        "q_k = reducir_vec_consulta(q)\n",
        "q_k.shape"
      ],
      "execution_count": 60,
      "outputs": [
        {
          "output_type": "execute_result",
          "data": {
            "text/plain": [
              "(1, 100)"
            ]
          },
          "metadata": {},
          "execution_count": 60
        }
      ]
    },
    {
      "cell_type": "code",
      "metadata": {
        "id": "ABZTWcG6_7VO",
        "colab": {
          "base_uri": "https://localhost:8080/",
          "height": 157
        },
        "outputId": "df12375d-8bc0-4694-af72-b8eaac44b071"
      },
      "source": [
        " # elegir aleatoriamente uno de los diagnósticos como consulta\n",
        " # guardamos la clase y el texto\n",
        "q_idx = 1\n",
        "clase_q =consultas.iloc[q_idx,0]   \n",
        "Q = consultas.iloc[q_idx,1]\n",
        "\n",
        "print('Clase de la consulta:' , clase_q,'\\n')\n",
        "Q"
      ],
      "execution_count": 61,
      "outputs": [
        {
          "output_type": "stream",
          "name": "stdout",
          "text": [
            "Clase de la consulta: 10 \n",
            "\n"
          ]
        },
        {
          "output_type": "execute_result",
          "data": {
            "text/plain": [
              "' The community hospital-based stroke programs in North Carolina, Oregon and New York--V. Stroke diagnosis: factors influencing the diagnostic evaluation of patients following acute stroke, Among the 4129 patients of the Community Hospital-based Stroke Program. 30% had an unspecified stroke diagnosis. Since specific diagnosis and. perhaps. eventual treatment. derives in part from diagnostic testing. we examined the effect of clinical condition. geographic and demographic factors on the incidence of certain diagnostic tests after acute stroke. In this multivariable analysis. race. sex. history of hypertension and history of diabetes did not influence the chance of having any test. but older age strongly reduced the chances of receiving extensive evaluation. When CT scanning was available. the utilization of a CT as well as other diagnostic studies including cerebral angiography. radionuclide brain scan. EEG and EKG was increased. The odds of receiving a CT scan increased if the patient was married. and decreased with a history of previous stroke. A history of previous TIA increased the chance of having a cerebral angiogram while a history of cardiac disease decreased the chance. There were striking regional geographic differences in the use of CT. radionuclide brain scanning and cerebral angiography which may. in part. reflect differences between the availability of these technologies in urban and rural hospitals. These results indicate that evaluation of stroke patients remains heterogenous.'"
            ],
            "application/vnd.google.colaboratory.intrinsic+json": {
              "type": "string"
            }
          },
          "metadata": {},
          "execution_count": 61
        }
      ]
    },
    {
      "cell_type": "markdown",
      "source": [
        "220422 vecorizamos"
      ],
      "metadata": {
        "id": "pJY6ueIJiJjH"
      }
    },
    {
      "cell_type": "code",
      "metadata": {
        "id": "f8KNA8wPs-zf",
        "colab": {
          "base_uri": "https://localhost:8080/"
        },
        "outputId": "8b1c0022-61cc-477e-d505-389a5375fa1d"
      },
      "source": [
        "q = vectorizar_consulta(Q)  # preprocesamos y vectorizamos \n",
        "q_k = reducir_vec_consulta(q)  # reducimos a k dimensiones \n",
        "print ('Dimensión vector q  :', q.shape) \n",
        "print ('Dimensión vector q_k:', q_k.shape)"
      ],
      "execution_count": 62,
      "outputs": [
        {
          "output_type": "stream",
          "name": "stdout",
          "text": [
            "Dimensión vector q  : (1, 2049)\n",
            "Dimensión vector q_k: (1, 100)\n"
          ]
        }
      ]
    },
    {
      "cell_type": "markdown",
      "metadata": {
        "id": "9fReog-udoOx"
      },
      "source": [
        "## Obtener documentos relevantes a la consulta"
      ]
    },
    {
      "cell_type": "markdown",
      "source": [
        "220422 Todos los textos vectorizados los comparamos con cada uno de los otros vectores con similitud coseno y los que son mayor a .4 son las buenas o similares, depende del modelo que usemos podemos cambiar el .4 a .8 y ver que tanto mejoran las precisiones, le pasamos el vector con el que queremos comparar y un límite, al pasar sobre todo los datos recupera 153 de los cuales 62 son de la misma clase a lo que encontré similitudes, mientras que en el corpus hay 1221 es decir estan pasando muchos, la sensibilidad y recall es muy bajo, el valor era cero, cuando son iguales.\n",
        "Puede que los casos clínicos tienen una descripción diferente pero que son parecidos ..."
      ],
      "metadata": {
        "id": "2qGd9syoiWty"
      }
    },
    {
      "cell_type": "code",
      "metadata": {
        "id": "_1rz7UWmpcls",
        "colab": {
          "base_uri": "https://localhost:8080/"
        },
        "outputId": "d369e2e9-4da3-491a-ce4a-7eedf95cd18c"
      },
      "source": [
        "tol = .4  # valor a partir del que se considera un doc similar a la consulta, el limite o threshold\n",
        "\n",
        "doc_sim = documentos_similares(q_k, MDT_nk, lim = tol)\n",
        "\n",
        "\n",
        "Dt = len(doc_sim)                       #documentos encontrados \n",
        "Dr = (doc_sim['label']==clase_q).sum()  #documentos relevantes encontrados\n",
        "Nr = (corpus['label']==clase_q).sum()   #documentos relevantes en todo el corps\n",
        "\n",
        "#documentos relevantes encontrados, entre todos los doc encontrados similares\n",
        "precision = Dr / Dt \n",
        "\n",
        "#documentos relevantes encontrados, entre todos los doc relevantes en el corpus\n",
        "sensibilidad = Dr / Nr   #recall\n",
        "\n",
        "print ('                 Documentos encontrados: ', Dt)\n",
        "print ('      Documentos relevantes encontrados: ', Dr)\n",
        "print ('Documentos relevantes en todo el corpus: ', Nr, '\\n')\n",
        "\n",
        "print ('                              Precisión: {:1.2f}'.format(precision))\n",
        "print ('                           Sensibilidad: {:1.2f}'.format(sensibilidad))"
      ],
      "execution_count": 63,
      "outputs": [
        {
          "output_type": "stream",
          "name": "stdout",
          "text": [
            "                 Documentos encontrados:  153\n",
            "      Documentos relevantes encontrados:  62\n",
            "Documentos relevantes en todo el corpus:  1221 \n",
            "\n",
            "                              Precisión: 0.41\n",
            "                           Sensibilidad: 0.05\n"
          ]
        }
      ]
    },
    {
      "cell_type": "code",
      "metadata": {
        "id": "OSycLIVqPzhz",
        "colab": {
          "base_uri": "https://localhost:8080/"
        },
        "outputId": "be5d7da0-7022-4563-b01d-2af3d85c7e92"
      },
      "source": [
        "tol = .2  # valor a partir del que se considera un doc similar a la consulta\n",
        "\n",
        "doc_sim = documentos_similares(q, MDT.to_numpy(), lim = tol)\n",
        "\n",
        "\n",
        "Dt = len(doc_sim)                       #documentos encontrados \n",
        "Dr = (doc_sim['label']==clase_q).sum()  #documentos relevantes encontrados\n",
        "Nr = (corpus['label']==clase_q).sum()   #documentos relevantes en todo el corps\n",
        "\n",
        "#documentos relevantes encontrados, entre todos los doc encontrados similares\n",
        "precision = Dr / Dt \n",
        "\n",
        "# documentos relevantes encontrados, entre todos los docrelevantes en el corpus\n",
        "sensibilidad = Dr / Nr   #recall\n",
        "\n",
        "print ('                 Documentos encontrados: ', Dt)\n",
        "print ('      Documentos relevantes encontrados: ', Dr)\n",
        "print ('Documentos relevantes en todo el corpus: ', Nr, '\\n')\n",
        "\n",
        "print ('                              Precisión: {:1.2f}'.format(precision))\n",
        "print ('                           Sensibilidad: {:1.2f}'.format(sensibilidad))"
      ],
      "execution_count": 64,
      "outputs": [
        {
          "output_type": "stream",
          "name": "stdout",
          "text": [
            "                 Documentos encontrados:  62\n",
            "      Documentos relevantes encontrados:  43\n",
            "Documentos relevantes en todo el corpus:  1221 \n",
            "\n",
            "                              Precisión: 0.69\n",
            "                           Sensibilidad: 0.04\n"
          ]
        }
      ]
    },
    {
      "cell_type": "markdown",
      "metadata": {
        "id": "Te7vW6MOc4fG"
      },
      "source": [
        "## Evaluación de la recuperación de información"
      ]
    },
    {
      "cell_type": "code",
      "metadata": {
        "id": "7r0q5-ktSXtn",
        "colab": {
          "base_uri": "https://localhost:8080/",
          "height": 295
        },
        "outputId": "cd776608-8e41-4237-b4cb-988868f0d28b"
      },
      "source": [
        "tols = np.linspace(0.01, 0.3,50)\n",
        "evaluacion = precision_sensibilidad(q, MDT.to_numpy(),tols)"
      ],
      "execution_count": 65,
      "outputs": [
        {
          "output_type": "display_data",
          "data": {
            "text/plain": [
              "<Figure size 432x288 with 1 Axes>"
            ],
            "image/png": "[encoded data removed]"
          },
          "metadata": {
            "needs_background": "light"
          }
        }
      ]
    },
    {
      "cell_type": "markdown",
      "source": [
        "220422 vamos a tomar 50.01 y vemos la precisión vs la sensibilidad, la primera vectorización...\n",
        "En la segundo temnemos "
      ],
      "metadata": {
        "id": "rtid2OrSjfk6"
      }
    },
    {
      "cell_type": "code",
      "metadata": {
        "id": "ebjBYUcFSFRI"
      },
      "source": [
        "tols = np.linspace(0.15, 0.5, 50)\n",
        "evaluacion_k = precision_sensibilidad(q_k, MDT_nk, tols)"
      ],
      "execution_count": null,
      "outputs": []
    },
    {
      "cell_type": "code",
      "metadata": {
        "id": "2rtu2qGFU3zo",
        "colab": {
          "base_uri": "https://localhost:8080/",
          "height": 181
        },
        "outputId": "6c3c538e-aa85-45b6-c573-539e413fea43"
      },
      "source": [
        "eval = pd.merge(evaluacion_k, evaluacion, how='left', on= evaluacion.index, suffixes  = ('_k',''))\n",
        "eval.head()"
      ],
      "execution_count": 66,
      "outputs": [
        {
          "output_type": "error",
          "ename": "NameError",
          "evalue": "ignored",
          "traceback": [
            "\u001b[0;31m---------------------------------------------------------------------------\u001b[0m",
            "\u001b[0;31mNameError\u001b[0m                                 Traceback (most recent call last)",
            "\u001b[0;32m<ipython-input-66-fb98d2b9c702>\u001b[0m in \u001b[0;36m<module>\u001b[0;34m()\u001b[0m\n\u001b[0;32m----> 1\u001b[0;31m \u001b[0meval\u001b[0m \u001b[0;34m=\u001b[0m \u001b[0mpd\u001b[0m\u001b[0;34m.\u001b[0m\u001b[0mmerge\u001b[0m\u001b[0;34m(\u001b[0m\u001b[0mevaluacion_k\u001b[0m\u001b[0;34m,\u001b[0m \u001b[0mevaluacion\u001b[0m\u001b[0;34m,\u001b[0m \u001b[0mhow\u001b[0m\u001b[0;34m=\u001b[0m\u001b[0;34m'left'\u001b[0m\u001b[0;34m,\u001b[0m \u001b[0mon\u001b[0m\u001b[0;34m=\u001b[0m \u001b[0mevaluacion\u001b[0m\u001b[0;34m.\u001b[0m\u001b[0mindex\u001b[0m\u001b[0;34m,\u001b[0m \u001b[0msuffixes\u001b[0m  \u001b[0;34m=\u001b[0m \u001b[0;34m(\u001b[0m\u001b[0;34m'_k'\u001b[0m\u001b[0;34m,\u001b[0m\u001b[0;34m''\u001b[0m\u001b[0;34m)\u001b[0m\u001b[0;34m)\u001b[0m\u001b[0;34m\u001b[0m\u001b[0;34m\u001b[0m\u001b[0m\n\u001b[0m\u001b[1;32m      2\u001b[0m \u001b[0meval\u001b[0m\u001b[0;34m.\u001b[0m\u001b[0mhead\u001b[0m\u001b[0;34m(\u001b[0m\u001b[0;34m)\u001b[0m\u001b[0;34m\u001b[0m\u001b[0;34m\u001b[0m\u001b[0m\n",
            "\u001b[0;31mNameError\u001b[0m: name 'evaluacion_k' is not defined"
          ]
        }
      ]
    },
    {
      "cell_type": "markdown",
      "source": [
        "220422 La precisión y la sensibilidad se parecen bastante parecidas y podriamos hacer ciertos calculos en los que que hay \n",
        "\n",
        "La fact con 100 fueron 20 seg, mientras que la completa fueron x mas minutos, este tipo de cosas servirian bastante porque podemos\n",
        "\n"
      ],
      "metadata": {
        "id": "HaIKWRRDkE5N"
      }
    },
    {
      "cell_type": "code",
      "metadata": {
        "id": "r6toOviDYFKY",
        "colab": {
          "base_uri": "https://localhost:8080/",
          "height": 232
        },
        "outputId": "3c76267d-ae23-4abb-c6b6-0bb53716f4b3"
      },
      "source": [
        "figsize =(4,4)\n",
        "plt.plot(eval['sensibilidad_k'], eval['precision_k'], label='vec_k')\n",
        "plt.plot(eval['sensibilidad'],  eval['precision'], label='vec_d')\n",
        "\n",
        "plt.xlim=(.15,1)\n",
        "\n",
        "plt.legend()\n",
        "plt.grid(alpha=.8, linestyle='--')\n",
        "plt.show()"
      ],
      "execution_count": 67,
      "outputs": [
        {
          "output_type": "error",
          "ename": "TypeError",
          "evalue": "ignored",
          "traceback": [
            "\u001b[0;31m---------------------------------------------------------------------------\u001b[0m",
            "\u001b[0;31mTypeError\u001b[0m                                 Traceback (most recent call last)",
            "\u001b[0;32m<ipython-input-67-95130adf4708>\u001b[0m in \u001b[0;36m<module>\u001b[0;34m()\u001b[0m\n\u001b[1;32m      1\u001b[0m \u001b[0mfigsize\u001b[0m \u001b[0;34m=\u001b[0m\u001b[0;34m(\u001b[0m\u001b[0;36m4\u001b[0m\u001b[0;34m,\u001b[0m\u001b[0;36m4\u001b[0m\u001b[0;34m)\u001b[0m\u001b[0;34m\u001b[0m\u001b[0;34m\u001b[0m\u001b[0m\n\u001b[0;32m----> 2\u001b[0;31m \u001b[0mplt\u001b[0m\u001b[0;34m.\u001b[0m\u001b[0mplot\u001b[0m\u001b[0;34m(\u001b[0m\u001b[0meval\u001b[0m\u001b[0;34m[\u001b[0m\u001b[0;34m'sensibilidad_k'\u001b[0m\u001b[0;34m]\u001b[0m\u001b[0;34m,\u001b[0m \u001b[0meval\u001b[0m\u001b[0;34m[\u001b[0m\u001b[0;34m'precision_k'\u001b[0m\u001b[0;34m]\u001b[0m\u001b[0;34m,\u001b[0m \u001b[0mlabel\u001b[0m\u001b[0;34m=\u001b[0m\u001b[0;34m'vec_k'\u001b[0m\u001b[0;34m)\u001b[0m\u001b[0;34m\u001b[0m\u001b[0;34m\u001b[0m\u001b[0m\n\u001b[0m\u001b[1;32m      3\u001b[0m \u001b[0mplt\u001b[0m\u001b[0;34m.\u001b[0m\u001b[0mplot\u001b[0m\u001b[0;34m(\u001b[0m\u001b[0meval\u001b[0m\u001b[0;34m[\u001b[0m\u001b[0;34m'sensibilidad'\u001b[0m\u001b[0;34m]\u001b[0m\u001b[0;34m,\u001b[0m  \u001b[0meval\u001b[0m\u001b[0;34m[\u001b[0m\u001b[0;34m'precision'\u001b[0m\u001b[0;34m]\u001b[0m\u001b[0;34m,\u001b[0m \u001b[0mlabel\u001b[0m\u001b[0;34m=\u001b[0m\u001b[0;34m'vec_d'\u001b[0m\u001b[0;34m)\u001b[0m\u001b[0;34m\u001b[0m\u001b[0;34m\u001b[0m\u001b[0m\n\u001b[1;32m      4\u001b[0m \u001b[0;34m\u001b[0m\u001b[0m\n\u001b[1;32m      5\u001b[0m \u001b[0mplt\u001b[0m\u001b[0;34m.\u001b[0m\u001b[0mxlim\u001b[0m\u001b[0;34m=\u001b[0m\u001b[0;34m(\u001b[0m\u001b[0;36m.15\u001b[0m\u001b[0;34m,\u001b[0m\u001b[0;36m1\u001b[0m\u001b[0;34m)\u001b[0m\u001b[0;34m\u001b[0m\u001b[0;34m\u001b[0m\u001b[0m\n",
            "\u001b[0;31mTypeError\u001b[0m: 'builtin_function_or_method' object is not subscriptable"
          ]
        }
      ]
    }
  ]
}